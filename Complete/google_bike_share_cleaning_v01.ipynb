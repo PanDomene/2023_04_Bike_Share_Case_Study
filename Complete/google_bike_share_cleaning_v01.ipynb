{
 "cells": [
  {
   "cell_type": "markdown",
   "id": "a04264a8-0315-451d-bb89-3d249b0279af",
   "metadata": {},
   "source": [
    "##### Last update: april 03 2023"
   ]
  },
  {
   "cell_type": "markdown",
   "id": "83f89cd7",
   "metadata": {
    "tags": []
   },
   "source": [
    "# Bike Share Project - Data Cleaning\n",
    "\n",
    "In this document the data is colected, cleaned and transformed for analysis."
   ]
  },
  {
   "cell_type": "markdown",
   "id": "7dab8af5-f89e-4c24-9ad9-3143913bec73",
   "metadata": {},
   "source": [
    "# Table of Contents\n",
    "\n",
    "1. [Imports](#imports)\n",
    "2. [Data Overview](#overview)\n",
    "3. [Data Cleaning](#cleaning)\n",
    "    * [Column re-naming](#renaming)\n",
    "    * [Missing Data](#missing)\n",
    "    * [Data Validation](#validation)\n",
    "4. [Feature Engineering](#feature)\n",
    "    * [Date](#date)\n",
    "    * [Duration](#duration)\n",
    "    * [Day of Week](#dow)\n",
    "    * [Distance Travelled](#distance)\n",
    "    * [Speed](#speed)\n",
    "5. [Outliers](#outliers)\n",
    "    * [Duration, speed and distance](#dynamics)\n",
    "    * [Start Station Coordinates](#start_coords)\n",
    "    * [End Station Coordinates](#end_coords)\n",
    "6. [Verification](#verification)"
   ]
  },
  {
   "cell_type": "markdown",
   "id": "df76e524-953c-41bb-8c41-57488d662aca",
   "metadata": {},
   "source": [
    "# Imports <a name=\"imports\"></a>\n",
    "\n",
    "The usual libraries"
   ]
  },
  {
   "cell_type": "code",
   "execution_count": 1,
   "id": "c1ecd79c",
   "metadata": {},
   "outputs": [],
   "source": [
    "from datetime import datetime, timedelta\n",
    "\n",
    "import matplotlib.pyplot as plt\n",
    "import numpy as np\n",
    "import pandas as pd\n",
    "import seaborn as sns\n",
    "\n",
    "%matplotlib inline"
   ]
  },
  {
   "cell_type": "markdown",
   "id": "e7c504ec",
   "metadata": {
    "tags": []
   },
   "source": [
    "# Data Overview <a name=\"overview\"></a>\n",
    "\n",
    "The data is stored in 12 datasets, each one concerning each of the previous 12 months from the date when this study was performed (March 2023). These contain in combination information for almost 6 million bike rides made between March 01 2022 and February 28 2023, which can be found [here](https://divvy-tripdata.s3.amazonaws.com/index.html). \n",
    "\n",
    "Every dataset has the same structure, with each row being a bike ride and having the following fields:\n",
    "\n",
    "* **trip_id**: a unique identifier for each ride made with one of the bikes.\n",
    "* **rideable_type**: the type of bike that was used. The types of bikes are electric, classic and docked.\n",
    "* **started_at, ended_at**: the time and date the ride started/ended. \n",
    "* **start_station_name, end_station_name**: the name of the station where the trip started/ended.\n",
    "* **start_station_id, end_station_id**: the code that identifies the station where the trip started/ended. \n",
    "* **start_lat, start_lng, end_lat, end_lng**: the coordinates for the station where the trip started/ended.\n",
    "* **member_casual**: the type of user, casual or member.\n",
    "\n",
    "To simplify the cleaning process, all 12 datasets are merged into a single, large dataframe. "
   ]
  },
  {
   "cell_type": "code",
   "execution_count": 2,
   "id": "61b85544",
   "metadata": {},
   "outputs": [],
   "source": [
    "import glob\n",
    "\n",
    "# collect all file names\n",
    "csv_files = glob.glob(\"../data/*.csv\")\n",
    "\n",
    "# read each of them into a pd.DataFrame and put them into a list\n",
    "df_list = [pd.read_csv(file) for file in csv_files]\n",
    "\n",
    "# concatenate all dataframes, to get a single, large\n",
    "# dataframe with all year's data\n",
    "all_data = pd.concat(df_list, ignore_index=True)"
   ]
  },
  {
   "cell_type": "markdown",
   "id": "67e3dea9",
   "metadata": {},
   "source": [
    "And a copy of it is made to avoid having to load and merge all files again if something happens."
   ]
  },
  {
   "cell_type": "code",
   "execution_count": 3,
   "id": "4c3056cc",
   "metadata": {},
   "outputs": [],
   "source": [
    "rides = all_data.copy()"
   ]
  },
  {
   "cell_type": "markdown",
   "id": "a1f80ad6",
   "metadata": {},
   "source": [
    "`rides` is our complete datafrme. The following shows the structure of the data."
   ]
  },
  {
   "cell_type": "code",
   "execution_count": 4,
   "id": "2f6efa5a",
   "metadata": {
    "scrolled": true
   },
   "outputs": [
    {
     "data": {
      "text/html": [
       "<div>\n",
       "<style scoped>\n",
       "    .dataframe tbody tr th:only-of-type {\n",
       "        vertical-align: middle;\n",
       "    }\n",
       "\n",
       "    .dataframe tbody tr th {\n",
       "        vertical-align: top;\n",
       "    }\n",
       "\n",
       "    .dataframe thead th {\n",
       "        text-align: right;\n",
       "    }\n",
       "</style>\n",
       "<table border=\"1\" class=\"dataframe\">\n",
       "  <thead>\n",
       "    <tr style=\"text-align: right;\">\n",
       "      <th></th>\n",
       "      <th>ride_id</th>\n",
       "      <th>rideable_type</th>\n",
       "      <th>started_at</th>\n",
       "      <th>ended_at</th>\n",
       "      <th>start_station_name</th>\n",
       "      <th>start_station_id</th>\n",
       "      <th>end_station_name</th>\n",
       "      <th>end_station_id</th>\n",
       "      <th>start_lat</th>\n",
       "      <th>start_lng</th>\n",
       "      <th>end_lat</th>\n",
       "      <th>end_lng</th>\n",
       "      <th>member_casual</th>\n",
       "    </tr>\n",
       "  </thead>\n",
       "  <tbody>\n",
       "    <tr>\n",
       "      <th>2614086</th>\n",
       "      <td>7E945AF963EDCC51</td>\n",
       "      <td>electric_bike</td>\n",
       "      <td>2022-07-21 10:07:42</td>\n",
       "      <td>2022-07-21 10:25:37</td>\n",
       "      <td>Franklin St &amp; Illinois St</td>\n",
       "      <td>RN-</td>\n",
       "      <td>Greenview Ave &amp; Diversey Pkwy</td>\n",
       "      <td>13294</td>\n",
       "      <td>41.890993</td>\n",
       "      <td>-87.635356</td>\n",
       "      <td>41.932590</td>\n",
       "      <td>-87.665936</td>\n",
       "      <td>member</td>\n",
       "    </tr>\n",
       "    <tr>\n",
       "      <th>3059389</th>\n",
       "      <td>E3BE90D33DD39FC7</td>\n",
       "      <td>electric_bike</td>\n",
       "      <td>2022-08-20 14:24:58</td>\n",
       "      <td>2022-08-20 14:32:33</td>\n",
       "      <td>Sheffield Ave &amp; Wrightwood Ave</td>\n",
       "      <td>TA1309000023</td>\n",
       "      <td>Lakeview Ave &amp; Fullerton Pkwy</td>\n",
       "      <td>TA1309000019</td>\n",
       "      <td>41.928588</td>\n",
       "      <td>-87.653790</td>\n",
       "      <td>41.925858</td>\n",
       "      <td>-87.638973</td>\n",
       "      <td>member</td>\n",
       "    </tr>\n",
       "    <tr>\n",
       "      <th>1448299</th>\n",
       "      <td>BD7DEE072662E137</td>\n",
       "      <td>electric_bike</td>\n",
       "      <td>2022-06-17 08:55:30</td>\n",
       "      <td>2022-06-17 09:05:17</td>\n",
       "      <td>Honore St &amp; Division St</td>\n",
       "      <td>TA1305000034</td>\n",
       "      <td>Western Ave &amp; Winnebago Ave</td>\n",
       "      <td>13068</td>\n",
       "      <td>41.903161</td>\n",
       "      <td>-87.673912</td>\n",
       "      <td>41.915520</td>\n",
       "      <td>-87.687022</td>\n",
       "      <td>casual</td>\n",
       "    </tr>\n",
       "  </tbody>\n",
       "</table>\n",
       "</div>"
      ],
      "text/plain": [
       "                  ride_id  rideable_type           started_at  \\\n",
       "2614086  7E945AF963EDCC51  electric_bike  2022-07-21 10:07:42   \n",
       "3059389  E3BE90D33DD39FC7  electric_bike  2022-08-20 14:24:58   \n",
       "1448299  BD7DEE072662E137  electric_bike  2022-06-17 08:55:30   \n",
       "\n",
       "                    ended_at              start_station_name start_station_id  \\\n",
       "2614086  2022-07-21 10:25:37       Franklin St & Illinois St              RN-   \n",
       "3059389  2022-08-20 14:32:33  Sheffield Ave & Wrightwood Ave     TA1309000023   \n",
       "1448299  2022-06-17 09:05:17         Honore St & Division St     TA1305000034   \n",
       "\n",
       "                      end_station_name end_station_id  start_lat  start_lng  \\\n",
       "2614086  Greenview Ave & Diversey Pkwy          13294  41.890993 -87.635356   \n",
       "3059389  Lakeview Ave & Fullerton Pkwy   TA1309000019  41.928588 -87.653790   \n",
       "1448299    Western Ave & Winnebago Ave          13068  41.903161 -87.673912   \n",
       "\n",
       "           end_lat    end_lng member_casual  \n",
       "2614086  41.932590 -87.665936        member  \n",
       "3059389  41.925858 -87.638973        member  \n",
       "1448299  41.915520 -87.687022        casual  "
      ]
     },
     "execution_count": 4,
     "metadata": {},
     "output_type": "execute_result"
    }
   ],
   "source": [
    "rides.sample(3)"
   ]
  },
  {
   "cell_type": "markdown",
   "id": "b64be8d3",
   "metadata": {},
   "source": [
    "As mentioned above, there are almost 6 million rows of data, with 13 columns containing information about the type of bike and user as well as the time and location where each trip started and ended. As can be seen below, there are some errors regarding the data types. Specifically, the dates and times are stored as string type."
   ]
  },
  {
   "cell_type": "code",
   "execution_count": 5,
   "id": "ce0f62a3",
   "metadata": {
    "scrolled": true
   },
   "outputs": [
    {
     "name": "stdout",
     "output_type": "stream",
     "text": [
      "<class 'pandas.core.frame.DataFrame'>\n",
      "RangeIndex: 5829084 entries, 0 to 5829083\n",
      "Data columns (total 13 columns):\n",
      " #   Column              Dtype  \n",
      "---  ------              -----  \n",
      " 0   ride_id             object \n",
      " 1   rideable_type       object \n",
      " 2   started_at          object \n",
      " 3   ended_at            object \n",
      " 4   start_station_name  object \n",
      " 5   start_station_id    object \n",
      " 6   end_station_name    object \n",
      " 7   end_station_id      object \n",
      " 8   start_lat           float64\n",
      " 9   start_lng           float64\n",
      " 10  end_lat             float64\n",
      " 11  end_lng             float64\n",
      " 12  member_casual       object \n",
      "dtypes: float64(4), object(9)\n",
      "memory usage: 578.1+ MB\n"
     ]
    }
   ],
   "source": [
    "rides.info()"
   ]
  },
  {
   "cell_type": "markdown",
   "id": "996a127f",
   "metadata": {},
   "source": [
    "The only numeric fields are those for the coordinates, for which the statistical summaries are not too useful. It is worth noting, though, that there are some inconsistencies within the end station coordinates, showing latitudes and longitudes going all the way to 0°. If this was correct then there would have been bikes stationed within an area of almost 1/16th of the surface of the Earth. Who would have thought Chicago was so big?"
   ]
  },
  {
   "cell_type": "code",
   "execution_count": 6,
   "id": "92c6f545",
   "metadata": {},
   "outputs": [
    {
     "data": {
      "text/html": [
       "<div>\n",
       "<style scoped>\n",
       "    .dataframe tbody tr th:only-of-type {\n",
       "        vertical-align: middle;\n",
       "    }\n",
       "\n",
       "    .dataframe tbody tr th {\n",
       "        vertical-align: top;\n",
       "    }\n",
       "\n",
       "    .dataframe thead th {\n",
       "        text-align: right;\n",
       "    }\n",
       "</style>\n",
       "<table border=\"1\" class=\"dataframe\">\n",
       "  <thead>\n",
       "    <tr style=\"text-align: right;\">\n",
       "      <th></th>\n",
       "      <th>start_lat</th>\n",
       "      <th>start_lng</th>\n",
       "      <th>end_lat</th>\n",
       "      <th>end_lng</th>\n",
       "    </tr>\n",
       "  </thead>\n",
       "  <tbody>\n",
       "    <tr>\n",
       "      <th>count</th>\n",
       "      <td>5.829084e+06</td>\n",
       "      <td>5.829084e+06</td>\n",
       "      <td>5.823146e+06</td>\n",
       "      <td>5.823146e+06</td>\n",
       "    </tr>\n",
       "    <tr>\n",
       "      <th>mean</th>\n",
       "      <td>4.190217e+01</td>\n",
       "      <td>-8.764779e+01</td>\n",
       "      <td>4.190237e+01</td>\n",
       "      <td>-8.764786e+01</td>\n",
       "    </tr>\n",
       "    <tr>\n",
       "      <th>std</th>\n",
       "      <td>4.626503e-02</td>\n",
       "      <td>2.927663e-02</td>\n",
       "      <td>6.757085e-02</td>\n",
       "      <td>1.068591e-01</td>\n",
       "    </tr>\n",
       "    <tr>\n",
       "      <th>min</th>\n",
       "      <td>4.164000e+01</td>\n",
       "      <td>-8.784000e+01</td>\n",
       "      <td>0.000000e+00</td>\n",
       "      <td>-8.814000e+01</td>\n",
       "    </tr>\n",
       "    <tr>\n",
       "      <th>25%</th>\n",
       "      <td>4.188103e+01</td>\n",
       "      <td>-8.766150e+01</td>\n",
       "      <td>4.188103e+01</td>\n",
       "      <td>-8.766201e+01</td>\n",
       "    </tr>\n",
       "    <tr>\n",
       "      <th>50%</th>\n",
       "      <td>4.190000e+01</td>\n",
       "      <td>-8.764411e+01</td>\n",
       "      <td>4.190000e+01</td>\n",
       "      <td>-8.764414e+01</td>\n",
       "    </tr>\n",
       "    <tr>\n",
       "      <th>75%</th>\n",
       "      <td>4.193000e+01</td>\n",
       "      <td>-8.762963e+01</td>\n",
       "      <td>4.193000e+01</td>\n",
       "      <td>-8.762963e+01</td>\n",
       "    </tr>\n",
       "    <tr>\n",
       "      <th>max</th>\n",
       "      <td>4.207000e+01</td>\n",
       "      <td>-8.752000e+01</td>\n",
       "      <td>4.237000e+01</td>\n",
       "      <td>0.000000e+00</td>\n",
       "    </tr>\n",
       "  </tbody>\n",
       "</table>\n",
       "</div>"
      ],
      "text/plain": [
       "          start_lat     start_lng       end_lat       end_lng\n",
       "count  5.829084e+06  5.829084e+06  5.823146e+06  5.823146e+06\n",
       "mean   4.190217e+01 -8.764779e+01  4.190237e+01 -8.764786e+01\n",
       "std    4.626503e-02  2.927663e-02  6.757085e-02  1.068591e-01\n",
       "min    4.164000e+01 -8.784000e+01  0.000000e+00 -8.814000e+01\n",
       "25%    4.188103e+01 -8.766150e+01  4.188103e+01 -8.766201e+01\n",
       "50%    4.190000e+01 -8.764411e+01  4.190000e+01 -8.764414e+01\n",
       "75%    4.193000e+01 -8.762963e+01  4.193000e+01 -8.762963e+01\n",
       "max    4.207000e+01 -8.752000e+01  4.237000e+01  0.000000e+00"
      ]
     },
     "execution_count": 6,
     "metadata": {},
     "output_type": "execute_result"
    }
   ],
   "source": [
    "rides.describe()"
   ]
  },
  {
   "cell_type": "markdown",
   "id": "52a7718b",
   "metadata": {},
   "source": [
    "Finaly, the result below shows the number of duplicated rows. We can see there aren't any: each row has an unique ride id, which means it is a unique bike trip."
   ]
  },
  {
   "cell_type": "code",
   "execution_count": 7,
   "id": "fc582001",
   "metadata": {},
   "outputs": [
    {
     "data": {
      "text/plain": [
       "0"
      ]
     },
     "execution_count": 7,
     "metadata": {},
     "output_type": "execute_result"
    }
   ],
   "source": [
    "rides.duplicated(subset=[\"ride_id\"]).sum()"
   ]
  },
  {
   "cell_type": "markdown",
   "id": "e8189459",
   "metadata": {},
   "source": [
    "# Data Cleaning <a name=\"cleaning\"></a>\n",
    "\n",
    "## Column re-naming <a name=\"renaming\"></a>\n",
    "\n",
    "The column names can be changed into shorter and more intuitive ones"
   ]
  },
  {
   "cell_type": "code",
   "execution_count": 8,
   "id": "ada094e6",
   "metadata": {},
   "outputs": [],
   "source": [
    "rides.rename(\n",
    "    columns={\n",
    "        \"ride_id\": \"trip_id\",\n",
    "        \"rideable_type\": \"bike_type\",\n",
    "        \"started_at\": \"start_time\",\n",
    "        \"ended_at\": \"end_time\",\n",
    "        \"start_station_name\": \"start_name\",\n",
    "        \"start_station_id\": \"start_id\",\n",
    "        \"end_station_name\": \"end_name\",\n",
    "        \"end_station_id\": \"end_id\",\n",
    "        \"member_casual\": \"usertype\",\n",
    "    },\n",
    "    inplace=True,\n",
    ")"
   ]
  },
  {
   "cell_type": "markdown",
   "id": "130596ec",
   "metadata": {},
   "source": [
    "## Missing Data <a name=\"missing\"></a>\n",
    "\n",
    "There are values missing from some fields. The following table represents what percentage of data is missing from each field. \n",
    "There is a considerable proportion of start/end station names and id's missing and only a small amount of latitud/longitude data missing."
   ]
  },
  {
   "cell_type": "code",
   "execution_count": 9,
   "id": "49fb7fb0",
   "metadata": {},
   "outputs": [
    {
     "data": {
      "text/html": [
       "<div>\n",
       "<style scoped>\n",
       "    .dataframe tbody tr th:only-of-type {\n",
       "        vertical-align: middle;\n",
       "    }\n",
       "\n",
       "    .dataframe tbody tr th {\n",
       "        vertical-align: top;\n",
       "    }\n",
       "\n",
       "    .dataframe thead th {\n",
       "        text-align: right;\n",
       "    }\n",
       "</style>\n",
       "<table border=\"1\" class=\"dataframe\">\n",
       "  <thead>\n",
       "    <tr style=\"text-align: right;\">\n",
       "      <th></th>\n",
       "      <th>% of missing data</th>\n",
       "    </tr>\n",
       "    <tr>\n",
       "      <th>Field</th>\n",
       "      <th></th>\n",
       "    </tr>\n",
       "  </thead>\n",
       "  <tbody>\n",
       "    <tr>\n",
       "      <th>trip_id</th>\n",
       "      <td>0.000000</td>\n",
       "    </tr>\n",
       "    <tr>\n",
       "      <th>bike_type</th>\n",
       "      <td>0.000000</td>\n",
       "    </tr>\n",
       "    <tr>\n",
       "      <th>start_time</th>\n",
       "      <td>0.000000</td>\n",
       "    </tr>\n",
       "    <tr>\n",
       "      <th>end_time</th>\n",
       "      <td>0.000000</td>\n",
       "    </tr>\n",
       "    <tr>\n",
       "      <th>start_name</th>\n",
       "      <td>14.589222</td>\n",
       "    </tr>\n",
       "    <tr>\n",
       "      <th>start_id</th>\n",
       "      <td>14.591486</td>\n",
       "    </tr>\n",
       "    <tr>\n",
       "      <th>end_name</th>\n",
       "      <td>15.594869</td>\n",
       "    </tr>\n",
       "    <tr>\n",
       "      <th>end_id</th>\n",
       "      <td>15.597288</td>\n",
       "    </tr>\n",
       "    <tr>\n",
       "      <th>start_lat</th>\n",
       "      <td>0.000000</td>\n",
       "    </tr>\n",
       "    <tr>\n",
       "      <th>start_lng</th>\n",
       "      <td>0.000000</td>\n",
       "    </tr>\n",
       "    <tr>\n",
       "      <th>end_lat</th>\n",
       "      <td>0.101868</td>\n",
       "    </tr>\n",
       "    <tr>\n",
       "      <th>end_lng</th>\n",
       "      <td>0.101868</td>\n",
       "    </tr>\n",
       "    <tr>\n",
       "      <th>usertype</th>\n",
       "      <td>0.000000</td>\n",
       "    </tr>\n",
       "  </tbody>\n",
       "</table>\n",
       "</div>"
      ],
      "text/plain": [
       "            % of missing data\n",
       "Field                        \n",
       "trip_id              0.000000\n",
       "bike_type            0.000000\n",
       "start_time           0.000000\n",
       "end_time             0.000000\n",
       "start_name          14.589222\n",
       "start_id            14.591486\n",
       "end_name            15.594869\n",
       "end_id              15.597288\n",
       "start_lat            0.000000\n",
       "start_lng            0.000000\n",
       "end_lat              0.101868\n",
       "end_lng              0.101868\n",
       "usertype             0.000000"
      ]
     },
     "execution_count": 9,
     "metadata": {},
     "output_type": "execute_result"
    }
   ],
   "source": [
    "# isna returns a df of the same shape as rides with boolean values for\n",
    "# whether the values are NA. The mean for each column is the proportion\n",
    "# of missing data for the column, and multiplied by 100 gives the %.\n",
    "\n",
    "rides.isna().mean().mul(100).rename(\"% of missing data\").rename_axis(\"Field\").to_frame()"
   ]
  },
  {
   "cell_type": "markdown",
   "id": "237ca345",
   "metadata": {},
   "source": [
    "The missing station names and id's can be explained with the fact that e-bikes don't need to be docked at stations, they can be locked at public bike racks, light poles, signposts, etc. \n",
    "The following table shows the number of rows with missing station names or ids by bike type, and confirms this is the case for most of the rides with missing names and id's. "
   ]
  },
  {
   "cell_type": "code",
   "execution_count": 10,
   "id": "a480136f-c635-4339-859d-bcc5c0fd54e3",
   "metadata": {},
   "outputs": [
    {
     "data": {
      "text/html": [
       "<div>\n",
       "<style scoped>\n",
       "    .dataframe tbody tr th:only-of-type {\n",
       "        vertical-align: middle;\n",
       "    }\n",
       "\n",
       "    .dataframe tbody tr th {\n",
       "        vertical-align: top;\n",
       "    }\n",
       "\n",
       "    .dataframe thead th {\n",
       "        text-align: right;\n",
       "    }\n",
       "</style>\n",
       "<table border=\"1\" class=\"dataframe\">\n",
       "  <thead>\n",
       "    <tr style=\"text-align: right;\">\n",
       "      <th></th>\n",
       "      <th>Rows with missing values</th>\n",
       "    </tr>\n",
       "    <tr>\n",
       "      <th>bike_type</th>\n",
       "      <th></th>\n",
       "    </tr>\n",
       "  </thead>\n",
       "  <tbody>\n",
       "    <tr>\n",
       "      <th>classic_bike</th>\n",
       "      <td>3521</td>\n",
       "    </tr>\n",
       "    <tr>\n",
       "      <th>docked_bike</th>\n",
       "      <td>2681</td>\n",
       "    </tr>\n",
       "    <tr>\n",
       "      <th>electric_bike</th>\n",
       "      <td>1324984</td>\n",
       "    </tr>\n",
       "  </tbody>\n",
       "</table>\n",
       "</div>"
      ],
      "text/plain": [
       "               Rows with missing values\n",
       "bike_type                              \n",
       "classic_bike                       3521\n",
       "docked_bike                        2681\n",
       "electric_bike                   1324984"
      ]
     },
     "execution_count": 10,
     "metadata": {},
     "output_type": "execute_result"
    }
   ],
   "source": [
    "# create a filter for the relevant fields\n",
    "cols = [\"bike_type\", \"start_name\", \"start_id\", \"end_name\", \"end_id\"]\n",
    "\n",
    "# filter the data and group by bike type\n",
    "missing = rides[cols].groupby(\"bike_type\")\n",
    "\n",
    "# count the number of rows with missing values and format table\n",
    "missing.apply(lambda x: x.isnull().any(axis=1).sum()).rename(\n",
    "    \"Rows with missing values\"\n",
    ").to_frame()"
   ]
  },
  {
   "cell_type": "markdown",
   "id": "d5119d64",
   "metadata": {},
   "source": [
    "There are a few trips that were made with classic and docked bikes that started or ended at no specified station. We can safely discard those since they account for a really small percentage of the total trips (0.11%). As for the trips made with e-bikes that were parked at no specific station, we can state they were parked at \"No station\", with id \"99999\"."
   ]
  },
  {
   "cell_type": "code",
   "execution_count": 11,
   "id": "1cfa7d75",
   "metadata": {},
   "outputs": [],
   "source": [
    "# create a filter for electric bikes\n",
    "mask = rides[\"bike_type\"] == \"electric_bike\"\n",
    "\n",
    "# change stations missing names to \"No stations\"\n",
    "for col in [\"start_name\", \"end_name\"]:\n",
    "    rides.loc[mask & (rides[col].isna()), col] = \"No station\"\n",
    "\n",
    "# change stations missing ids to \"99999\"\n",
    "for col in [\"start_id\", \"end_id\"]:\n",
    "    rides.loc[mask & (rides[col].isna()), col] = \"99999\""
   ]
  },
  {
   "cell_type": "markdown",
   "id": "4edf2e2c",
   "metadata": {},
   "source": [
    "This reduces the rows with missing data to the following"
   ]
  },
  {
   "cell_type": "code",
   "execution_count": 12,
   "id": "64924bec",
   "metadata": {},
   "outputs": [
    {
     "name": "stdout",
     "output_type": "stream",
     "text": [
      "% of missing data:  0.10639750602324481\n"
     ]
    }
   ],
   "source": [
    "print(\"% of missing data: \", rides.isnull().any(axis=1).sum() / len(rides) * 100)"
   ]
  },
  {
   "cell_type": "markdown",
   "id": "f815925a",
   "metadata": {},
   "source": [
    "This is such a small percentage of the data that it can be safely removed, after which we are left with 0 missing values:"
   ]
  },
  {
   "cell_type": "code",
   "execution_count": 13,
   "id": "69dcd4ee",
   "metadata": {},
   "outputs": [
    {
     "name": "stdout",
     "output_type": "stream",
     "text": [
      "Num. of missing values: 0\n"
     ]
    }
   ],
   "source": [
    "rides_complete = rides.dropna().copy()\n",
    "print(\"Num. of missing values:\", rides_complete.isnull().sum().sum())"
   ]
  },
  {
   "cell_type": "markdown",
   "id": "c83b572b",
   "metadata": {},
   "source": [
    "## Data Validation <a name=\"validation\"></a>\n",
    "\n",
    "In this section we take a closer look at the data and fix problems regarding the accuracy, consistency, completeness and formatting of the data."
   ]
  },
  {
   "cell_type": "markdown",
   "id": "99883872",
   "metadata": {},
   "source": [
    "### Names and IDs\n",
    "\n",
    "There are supposed to be around 600 stations in total, 3 types of bikes (docked, classic and e-bikes) and 2 types of users (casual and members). The following table shows that, according to the data, this is not the case for the station names and ids. Even the ratio of station names to ids, which should always be one to one, is inconsistent. There are also some issues with the coordinates, but those will be addressed later on."
   ]
  },
  {
   "cell_type": "code",
   "execution_count": 14,
   "id": "0f1d3582",
   "metadata": {},
   "outputs": [
    {
     "data": {
      "text/html": [
       "<div>\n",
       "<style scoped>\n",
       "    .dataframe tbody tr th:only-of-type {\n",
       "        vertical-align: middle;\n",
       "    }\n",
       "\n",
       "    .dataframe tbody tr th {\n",
       "        vertical-align: top;\n",
       "    }\n",
       "\n",
       "    .dataframe thead th {\n",
       "        text-align: right;\n",
       "    }\n",
       "</style>\n",
       "<table border=\"1\" class=\"dataframe\">\n",
       "  <thead>\n",
       "    <tr style=\"text-align: right;\">\n",
       "      <th></th>\n",
       "      <th>Num. of unique values</th>\n",
       "    </tr>\n",
       "  </thead>\n",
       "  <tbody>\n",
       "    <tr>\n",
       "      <th>bike_type</th>\n",
       "      <td>3</td>\n",
       "    </tr>\n",
       "    <tr>\n",
       "      <th>usertype</th>\n",
       "      <td>2</td>\n",
       "    </tr>\n",
       "    <tr>\n",
       "      <th>start_name</th>\n",
       "      <td>1693</td>\n",
       "    </tr>\n",
       "    <tr>\n",
       "      <th>start_id</th>\n",
       "      <td>1315</td>\n",
       "    </tr>\n",
       "    <tr>\n",
       "      <th>end_name</th>\n",
       "      <td>1716</td>\n",
       "    </tr>\n",
       "    <tr>\n",
       "      <th>end_id</th>\n",
       "      <td>1319</td>\n",
       "    </tr>\n",
       "  </tbody>\n",
       "</table>\n",
       "</div>"
      ],
      "text/plain": [
       "            Num. of unique values\n",
       "bike_type                       3\n",
       "usertype                        2\n",
       "start_name                   1693\n",
       "start_id                     1315\n",
       "end_name                     1716\n",
       "end_id                       1319"
      ]
     },
     "execution_count": 14,
     "metadata": {},
     "output_type": "execute_result"
    }
   ],
   "source": [
    "rides_complete[\n",
    "    [\"bike_type\", \"usertype\", \"start_name\", \"start_id\", \"end_name\", \"end_id\"]\n",
    "].nunique().rename(\"Num. of unique values\").to_frame()"
   ]
  },
  {
   "cell_type": "markdown",
   "id": "664f0e6c",
   "metadata": {},
   "source": [
    "As seen above, there are a lot more stations names and id's than should be. Some tests for the consistency of station names and ids are then needed; The following function will test if a name or id relates to multiple id's or names. It is performed only on a sample of the data since it is very time consuming to run it on larger scale."
   ]
  },
  {
   "cell_type": "code",
   "execution_count": 15,
   "id": "4cb2bc99-4b52-4117-a8ca-7c4dedd4827e",
   "metadata": {},
   "outputs": [],
   "source": [
    "def not_unique(field1, field2, frac):\n",
    "    \"\"\"This function takes in 2 column names, field1 and field2, as well\n",
    "    as the fraction, frac, of the dataframe that will be processed, and \n",
    "    returns a dictionary with the field1 values that refer to multiple\n",
    "    unique values for field2, as well as the corresponding list of field2\n",
    "    values.\"\"\"\n",
    "\n",
    "    id_names = {}\n",
    "\n",
    "    # Get a random subset of the dataframe to process based on the given fraction\n",
    "    subset = rides_complete.sample(frac=frac, random_state=25)\n",
    "\n",
    "    # Find field1 values that map to multiple unique field2 values\n",
    "    condition = subset.groupby(field1)[field2].nunique() > 1\n",
    "    keys = subset.groupby(field1)[field1].unique()[condition]\n",
    "    keys = [elem.tolist()[0] for elem in keys.values]  # convert to list\n",
    "\n",
    "    # fill in the dictionary\n",
    "    for key in keys:\n",
    "        id_names[key] = [*subset[subset[field1] == key][field2].unique()]\n",
    "\n",
    "    return id_names"
   ]
  },
  {
   "cell_type": "markdown",
   "id": "32139538",
   "metadata": {},
   "source": [
    "The next two blocks of code show the number of id's that refer to two or more station names within a sample of 10% of the data, as well as the names of the stations for each of these id's."
   ]
  },
  {
   "cell_type": "code",
   "execution_count": 16,
   "id": "02ffd183-9594-4ef5-b26a-0615e25b00a2",
   "metadata": {},
   "outputs": [
    {
     "data": {
      "text/plain": [
       "175"
      ]
     },
     "execution_count": 16,
     "metadata": {},
     "output_type": "execute_result"
    }
   ],
   "source": [
    "repeated_ids = not_unique(\"start_id\", \"start_name\", 0.1)\n",
    "len(repeated_ids)"
   ]
  },
  {
   "cell_type": "code",
   "execution_count": 17,
   "id": "67d24180",
   "metadata": {
    "scrolled": true,
    "tags": []
   },
   "outputs": [
    {
     "data": {
      "text/plain": [
       "{'13053': ['Green St & Randolph St', 'Green St & Washington Blvd'],\n",
       " '13059': ['Sheridan Rd & Argyle St', 'Bissell St & Armitage Ave'],\n",
       " '13074': ['Broadway & Wilson - Truman College Vaccination Site',\n",
       "  'Broadway & Wilson Ave'],\n",
       " '13197': ['Elizabeth (May) St & Fulton St', 'Elizabeth St & Fulton St'],\n",
       " '15541': ['Buckingham Fountain', 'Buckingham Fountain (Temp)'],\n",
       " '15623': ['Campbell Ave & Montrose Ave',\n",
       "  'Campbell Ave & Montrose Ave (Temp)'],\n",
       " '303': ['Public Rack - Kildare Ave & Division St',\n",
       "  'Kildare Ave & Division St'],\n",
       " '390': ['California Ave & Marquette Rd',\n",
       "  'Public Rack - California Ave & Marquette Rd'],\n",
       " '479': ['California Ave & Touhy Ave - NW',\n",
       "  'Public Rack - California Ave & Touhy Ave - NW'],\n",
       " '480': ['Public Rack - Rockwell Ave & Touhy Ave ',\n",
       "  'Rockwell Ave & Touhy Ave '],\n",
       " '482': ['Public Rack - Chase Ave & Touhy Ave - NE',\n",
       "  'Chase Ave & Touhy Ave - NE'],\n",
       " '483': ['Public Rack - Western Ave & Jarvis Ave', 'Western Ave & Jarvis Ave'],\n",
       " '484': ['Public Rack - Sacramento Ave & Greenleaf Ave',\n",
       "  'Sacramento Ave & Greenleaf Ave'],\n",
       " '485': ['Public Rack - Sacramento Ave & Devon Ave',\n",
       "  'Sacramento Ave & Devon Ave'],\n",
       " '486': ['Public Rack - California Ave & Devon Ave - NW',\n",
       "  'California Ave & Devon Ave - NW'],\n",
       " '487': ['Public Rack - California Ave & Devon Ave - NE',\n",
       "  'California Ave & Devon Ave - NE'],\n",
       " '489': ['Public Rack - Spaulding Ave & Bryn Mawr Ave',\n",
       "  'Spaulding Ave & Bryn Mawr Ave'],\n",
       " '491': ['Public Rack - Kedzie Ave & Argyle St', 'Kedzie Ave & Argyle St'],\n",
       " '492': ['Public Rack - Hamlin Ave & Montrose Ave',\n",
       "  'Hamlin Ave & Montrose Ave'],\n",
       " '494': ['Avers Ave & Irving Park Rd',\n",
       "  'Public Rack - Avers Ave & Irving Park Rd'],\n",
       " '495': ['Public Rack - Keystone Ave & Irving Park Rd',\n",
       "  'Keystone Ave & Irving Park Rd'],\n",
       " '497': ['Public Rack - Lowell Ave & Elston Ave', 'Lowell Ave & Elston Ave'],\n",
       " '499': ['Christiana Ave & Belmont Ave',\n",
       "  'Public Rack - Christiana Ave & Belmont Ave'],\n",
       " '500': ['Public Rack - Monticello Ave & Belmont Ave',\n",
       "  'Monticello Ave & Belmont Ave'],\n",
       " '501': ['Public Rack - Milwaukee Ave & School St',\n",
       "  'Milwaukee Ave & School St'],\n",
       " '502': ['Public Rack - Milwaukee Ave & Addison St',\n",
       "  'Milwaukee Ave & Addison St'],\n",
       " '503': ['Public Rack - Jonathan Y Scammon Public School',\n",
       "  'Jonathan Y Scammon Public School'],\n",
       " '504': ['Public Rack - Milwaukee Ave & Diversey Ave',\n",
       "  'Milwaukee Ave & Diversey Ave'],\n",
       " '505': ['Public Rack - Milwaukee Ave & Haussen Ct',\n",
       "  'Milwaukee Ave & Haussen Ct'],\n",
       " '506': ['Lawndale Ave & Diversey Ave',\n",
       "  'Public Rack - Lawndale Ave & Diversey Ave'],\n",
       " '507': ['Public Rack - Hamlin Ave & Fullerton Ave',\n",
       "  'Hamlin Ave & Fullerton Ave'],\n",
       " '508': ['Public Rack - Pulaski Rd & Fullerton Ave',\n",
       "  'Pulaski Rd & Fullerton Ave'],\n",
       " '509': ['Public Rack - Mozart Elementary School', 'Mozart Elementary School'],\n",
       " '510': ['Public Rack - Spaulding Ave & North Ave',\n",
       "  'Spaulding Ave & North Ave'],\n",
       " '512': ['Public Rack - California Ave & Cortez St',\n",
       "  'California Ave & Cortez St'],\n",
       " '513': ['Public Rack - Spaulding Ave & Evergreen Ave',\n",
       "  'Spaulding Ave & Evergreen Ave'],\n",
       " '514': ['Public Rack - Hamlin Ave & Grand Ave',\n",
       "  'Ridge Blvd & Howard St',\n",
       "  'Hamlin Ave & Grand Ave'],\n",
       " '515': ['Paulina St & Howard St', 'Public Rack - Hamlin Ave & Chicago Ave'],\n",
       " '516': ['Public Rack - Kenton Ave & Palmer St', 'Kenton Ave & Palmer St'],\n",
       " '517': ['Clark St & Jarvis Ave',\n",
       "  'Public Rack - Pulaski Rd & Armitage Ave',\n",
       "  'Pulaski Rd & Armitage Ave'],\n",
       " '518': ['Keystone Ave & North Ave',\n",
       "  'Conservatory Dr & Lake St',\n",
       "  'Public Rack - Keystone Ave & North Ave'],\n",
       " '519': ['Wolcott Ave & Fargo Ave', 'Public Rack - Kostner Ave & North Ave'],\n",
       " '520': ['Greenview Ave & Jarvis Ave',\n",
       "  'Public Rack - Karlov Ave & Kamerling Ave',\n",
       "  'Karlov Ave & Kamerling Ave'],\n",
       " '523': ['Eastlake Ter & Rogers Ave',\n",
       "  'Eastlake Ter & Howard St',\n",
       "  'Public Rack - Pulaski Rd & Roosevelt Rd'],\n",
       " '524': ['Central Park Ave & Fillmore St',\n",
       "  'Public Rack - Central Park Ave & Fillmore St'],\n",
       " '527': ['Public Rack - Roswell B. Mason Elementary School',\n",
       "  'Western Ave & Howard St'],\n",
       " '534': ['Karlov Ave & Madison St',\n",
       "  'Public Rack - California Ave & Ogden Ave'],\n",
       " '539': ['Eli Whitney Public School',\n",
       "  'Public Rack - Eli Whitney Public School'],\n",
       " '540': ['Laramie Ave & Madison St', 'Public Rack - Whipple St & 26th St'],\n",
       " '543': ['Laramie Ave & Gladys Ave',\n",
       "  'Cicero Ave & Roscoe St',\n",
       "  'Public Rack - Cicero Ave & Roscoe St'],\n",
       " '544': ['Public Rack - Laramie Ave & Belmont Ave',\n",
       "  'Laramie Ave & Belmont Ave'],\n",
       " '545': ['Kostner Ave & Adams St', 'Public Rack - Linder Ave & Belmont Ave'],\n",
       " '546': ['Damen Ave & Pershing Rd',\n",
       "  'Cicero Ave & Wellington Ave',\n",
       "  'Public Rack - Cicero Ave & Wellington Ave'],\n",
       " '547': ['Public Rack - Cicero Ave & Wrightwood Ave',\n",
       "  'Cicero Ave & Wrightwood Ave'],\n",
       " '548': ['Public Rack - Cicero Ave & Altgeld St', 'Cicero Ave & Altgeld St'],\n",
       " '549': ['Public Rack - Laramie Ave & Fullerton Ave',\n",
       "  'Marshfield Ave & 44th St',\n",
       "  'Laramie Ave & Fullerton Ave'],\n",
       " '550': ['Public Rack - Laramie Ave & Grand Ave', 'Laramie Ave & Grand Ave'],\n",
       " '551': ['Public Rack - Cicero Ave & North Ave', 'Cicero Ave & North Ave'],\n",
       " '553': ['Elizabeth St & 47th St',\n",
       "  'Public Rack - Lorel Ave & Chicago Ave',\n",
       "  'Lorel Ave & Chicago Ave'],\n",
       " '554': ['Damen Ave & 51st St',\n",
       "  'Public Rack - Cicero Ave & Le Moyne St - midblock'],\n",
       " '559': ['Racine Ave & Garfield Blvd',\n",
       "  'Public Rack - Menard Ave & Dakin St - midblock',\n",
       "  'Menard Ave & Dakin St - midblock'],\n",
       " '560': ['Public Rack - Austin Ave & Roscoe St', 'Marshfield Ave & 59th St'],\n",
       " '561': ['Damen Ave & 59th St', 'Public Rack - Melvina Ave & Belmont Ave'],\n",
       " '562': ['Racine Ave & 61st St',\n",
       "  'Menard Ave & Belmont Ave',\n",
       "  'Public Rack - Menard Ave & Belmont Ave'],\n",
       " '565': ['Public Rack - Austin Ave & Wrightwood Ave',\n",
       "  'Austin Ave & Wrightwood Ave'],\n",
       " '566': ['Public Rack - Narragansett Ave & Fullerton Ave',\n",
       "  'Narragansett Ave & Fullerton Ave'],\n",
       " '567': ['May St & 69th St',\n",
       "  'Harvey Ave & North Ave',\n",
       "  'Public Rack - Harvey Ave & North Ave'],\n",
       " '569': ['Woodlawn Ave & 75th St', 'Public Rack - Menard Ave & Grand Ave'],\n",
       " '570': ['Evans Ave & 75th St', 'Public Rack - McVicker Ave & Grand Ave'],\n",
       " '571': ['Vernon Ave & 75th St',\n",
       "  'Public Rack - Austin Blvd & North Ave',\n",
       "  'Austin Blvd & North Ave'],\n",
       " '572': ['Hiawatha Park', 'State St & 76th St'],\n",
       " '575': ['Cottage Grove Ave & 78th St', 'Pittsburgh Ave & Irving Park'],\n",
       " '576': ['Plainfield Ave & Irving Park Rd', 'Greenwood Ave & 79th St'],\n",
       " '577': ['Stony Island Ave & South Chicago Ave', 'Ozark Ave & Addison St'],\n",
       " '579': ['Phillips Ave & 79th St',\n",
       "  'Oketo Ave & Belmont Ave',\n",
       "  'Public Rack - Oketo Ave & Belmont Ave'],\n",
       " '580': ['Exchange Ave & 79th St', 'Public Rack - Ellis Ave & Doty Ave'],\n",
       " '586': ['MLK Jr Dr & 83rd St', 'Public Rack - Stewart Ave & 123rd St'],\n",
       " '593': ['Halsted St & 59th St', 'Public Rack - Wallace St & 112 St'],\n",
       " '595': ['Wabash Ave & 87th St', 'Public Rack - Michigan Ave & 113th St'],\n",
       " '596': ['Benson Ave & Church St', 'Cottage Grove Ave & 111th St'],\n",
       " '599': ['Public Rack - Avenue J & 112th St',\n",
       "  'Valli Produce - Evanston Plaza'],\n",
       " '600': ['Dodge Ave & Church St', 'Ewing Ave & 112th St'],\n",
       " '604': ['Sheridan Rd & Noyes St (NU)', 'Wentworth Ave & 103rd St'],\n",
       " '605': ['University Library (NU)',\n",
       "  'Public Rack - Parnell Ave & 103rd St',\n",
       "  'Parnell Ave & 103rd St'],\n",
       " '621': ['Public Rack - Lafayette Ave & 95th St', 'Lafayette Ave & 95th St'],\n",
       " '623': ['Michigan Ave & 8th St', 'Halsted St & 102nd St'],\n",
       " '631': ['Malcolm X College Vaccination Site', 'Malcolm X College'],\n",
       " '636': ['Orleans St & Hubbard St', 'Ewing Ave & 101st St'],\n",
       " '639': ['Lakefront Trail & Wilson Ave', 'Public Rack - Ewing Ave & 99th St'],\n",
       " '641': ['Public Rack - Loomis St & 87th St', 'Loomis St & 87th St'],\n",
       " '642': ['Latrobe Ave & Chicago Ave', 'Justine St & 87th St'],\n",
       " '644': ['Western Ave & Fillmore St', 'Wabash Ave & 87th St'],\n",
       " '646': ['State St & 54th St', 'Cottage Grove Ave & 87th St'],\n",
       " '647': ['Elizabeth St & 59th St', 'Public Rack - Burnside Academy'],\n",
       " '649': ['Stewart Ave & 63rd St', 'Public Rack - Cottage Grove Ave & 92nd St'],\n",
       " '650': ['Eggleston Ave & 69th St', 'Houston Ave & 91st St'],\n",
       " '651': ['Michigan Ave & 71st St', 'Commercial Ave & 89th St'],\n",
       " '652': ['Rhodes Ave & 71st St', 'Muskegon Ave & 89th St'],\n",
       " '662': ['Dodge Ave & Mulford St', 'Cottage Grove & 86th St'],\n",
       " '663': ['Cottage Grove & 85th St', 'Public Rack - Cottage Grove & 85th St'],\n",
       " '682': ['111th St - Morgan Park Metra',\n",
       "  'Public Rack - 111th St - Morgan Park Metra'],\n",
       " '684': ['Public Rack - Mt Greenwood Library N',\n",
       "  'Mt Greenwood Library - North'],\n",
       " '690': ['Western Ave & 106th St - East',\n",
       "  'Public Rack - Western Ave & 106th St - East'],\n",
       " '691': ['Public Rack - Western Ave & 105th St', 'Western Ave & 105th St'],\n",
       " '692': ['Public Rack - Western Ave & 104th St - East',\n",
       "  'Western Ave & 104th St - East'],\n",
       " '693': ['Public Rack - Walden Pkwy & 103rd St', 'Walden Pkwy & 103rd St'],\n",
       " '694': ['Wood St & 103rd St', 'Public Rack - Wood St & 103rd St'],\n",
       " '695': ['Western Ave & 100th St', 'Public Rack - Western Ave & 100th St'],\n",
       " '699': ['Cottage Grove Ave & 98th St',\n",
       "  'Public Rack - Cottage Grove Ave & 98th St'],\n",
       " '702': ['Western Ave & 92nd Pl', 'Public Rack - Western Ave & 92nd Pl'],\n",
       " '710': ['Public Rack - Lafayette Ave & 87th St - NW',\n",
       "  'Lafayette Ave & 87th St - NW'],\n",
       " '722': ['Public Rack - Racine Ave & 74th St', 'Racine Ave & 74th St'],\n",
       " '736': ['Jeffrey Blvd & 71st St', 'Public Rack - Jeffrey Blvd & 71st St'],\n",
       " '744': ['Public Rack - Halsted St & 64th St', 'Halsted St & 64th St'],\n",
       " '749': ['Evans Ave & 63rd St', 'Public Rack - Evans Ave & 63rd St'],\n",
       " '751': ['Kimbark Ave & 67th St', 'Public Rack - Kimbark Ave & 67th St'],\n",
       " '752': ['Public Rack - Kimbark Ave & 63rd St', 'Kimbark Ave & 63rd St'],\n",
       " '753': ['Public Rack - Jeffery Blvd & 67th St', 'Jeffery Blvd & 67th St'],\n",
       " '755': ['Kedzie Ave & 64th St - SE',\n",
       "  'Public Rack - Kedzie Ave & 64th St - SE'],\n",
       " '757': ['Kedzie Ave & 63rd St', 'Public Rack - Kedzie Ave & 63rd St'],\n",
       " '760': ['Public Rack - Kedzie Ave & 64th St - SW',\n",
       "  'Kedzie Ave & 64th St - SW'],\n",
       " '766': ['Harold Washington Park', 'Public Rack - Harold Washington Park'],\n",
       " '767': ['Hyde Park Blvd & 53rd St', 'Public Rack - Hyde Park Blvd & 53rd St'],\n",
       " '768': ['Hyde Park Blvd & 55th St', 'Public Rack - Hyde Park Blvd & 55th St'],\n",
       " '772': ['Kedzie Ave & 61st Pl', 'Public Rack - Kedzie Ave & 61st Pl E'],\n",
       " '775': ['Public Rack - Kedzie Ave & 58th St', 'Kedzie Ave & 58th St'],\n",
       " '776': ['Komensky Ave & 59th St', 'Public Rack - Komensky Ave & 59th St'],\n",
       " '777': ['Midway Orange Line', 'Public Rack - Midway Orange Line'],\n",
       " '798': ['Public Rack - Menard Ave & Agusta Blvd', 'Menard Ave & Agusta Blvd'],\n",
       " '800': ['Public Rack - Harriet E Sayre Public School',\n",
       "  'Harriet E Sayre Public School'],\n",
       " '805': ['Neva Ave & Grand Ave', 'Public Rack - Neva Ave & Grand Ave'],\n",
       " '810': ['Nagle Ave & Belmont Ave', 'Public Rack - Nagle Ave & Belmont Ave'],\n",
       " '813': ['Calumet Ave & 51st St', 'Public Rack - Calumet Ave & 51st St'],\n",
       " '814': ['Public Rack - Prairie Ave & 47th St ',\n",
       "  'Prairie Ave & 47th St - midblock'],\n",
       " '819': ['Robert Fulton Elementary School',\n",
       "  'Public Rack - Robert Fulton Elementary School'],\n",
       " '821': ['Public Rack - Western Blvd & 49th St', 'Western Blvd & 49th St'],\n",
       " '822': ['Talman Ave & 51st St - midblock',\n",
       "  'Public Rack - Talman Ave & 51st St'],\n",
       " '823': ['Kedzie Ave & 54th St - SE',\n",
       "  'Public Rack - Kedzie Ave & 54th St - SE'],\n",
       " '824': ['Public Rack - Avers Ave & Archer Ave', 'Avers Ave & Archer Ave'],\n",
       " '825': ['Kedzie Ave & 54th St - SW',\n",
       "  'Public Rack - Kedzie Ave & 54th St - SW'],\n",
       " '829': ['Public Rack - Pulaski Rd & 51st Rd', 'Pulaski Rd & 51st Rd'],\n",
       " '830': ['Public Rack - Pulaski & 52nd', 'Pulaski & 52nd'],\n",
       " '831': ['Public Rack - Kolin Ave & Archer Ave', 'Kolin Ave & Archer Ave'],\n",
       " '832': ['Public Rack - Christiana Ave & Archer Ave',\n",
       "  'Christiana Ave & Archer Ave'],\n",
       " '833': ['Pulaski Rd & 44th St', 'Public Rack - Pulaski Rd & 44th St'],\n",
       " '835': ['Pubic Rack - Pulaski Rd & 41st', 'Pulaski Rd & 41st'],\n",
       " '836': ['Public Rack - Kedzie Ave & Archer Ave', 'Kedzie Ave & Archer Ave'],\n",
       " '838': ['Public Rack - Piotrowski Park', 'Piotrowski Park'],\n",
       " '840': ['Marshfield Ave & 45th St', 'Public Rack - Marshfield Ave & 45th St'],\n",
       " '841': ['Damen Ave & 47th St', 'Public Rack - Damen Ave & 47th St'],\n",
       " '847': ['Brandon Ave & 91st St', 'Public Rack - Brandon Ave & 91st St'],\n",
       " '855': ['Public Rack - Washtenaw Ave & Superior St',\n",
       "  'Washtenaw Ave & Superior St'],\n",
       " '857': ['Sawyer Ave & Bryn Mawr Ave - SE',\n",
       "  'Public Rack - Sawyer Ave & Bryn Mawr Ave - SE'],\n",
       " '859': ['Public Rack - Spaulding Ave & Foster Ave',\n",
       "  'Spaulding Ave & Foster Ave'],\n",
       " '860': ['Public Rack - Christiana Ave & Lawrence Ave',\n",
       "  'Christiana Ave & Lawrence Ave'],\n",
       " '861': ['Sawyer Ave & Lawrence Ave',\n",
       "  'Public Rack - Sawyer Ave & Lawrence Ave'],\n",
       " '864': ['Kedvale Ave & Addison St', 'Public Rack - Kedvale Ave & Addison St'],\n",
       " '866': ['Public Rack - Kostner Ave & Armitage Ave',\n",
       "  'Kostner Ave & Armitage Ave'],\n",
       " '877': ['Public Rack - Racine Ave & 109th Pl', 'Racine Ave & 109th Pl'],\n",
       " '883': ['Public Rack - East End Ave & 87th St', 'East End Ave & 87th St'],\n",
       " '900': ['Public Rack - Western Ave & 118th St', 'Western Ave & 118th St'],\n",
       " '902': ['Hoyne Ave & 110th Pl', 'Public Rack - Hoyne Ave & 110th Pl'],\n",
       " '913': ['532 E 43rd St', 'Public Rack - 532 E 43rd St'],\n",
       " '916': ['Wood St & 47th St', 'Public Rack - Wood St & 47th St'],\n",
       " '919': ['Public Rack - Pullman - Walmart', 'Pullman - Walmart'],\n",
       " '951': ['Public Rack - Woodlawn Ave & 63rd St - NE',\n",
       "  'Public Rack - Woodlawn Ave & 63rd St N'],\n",
       " '954': ['Public Rack - Prairie Ave & Garfield Blvd',\n",
       "  'Public Rack - Prairie Ave & Garfield Blvd N'],\n",
       " '99999': ['No station',\n",
       "  'Elizabeth St & Randolph St',\n",
       "  'Stony Island Ave & 63rd St'],\n",
       " 'Hubbard Bike-checking (LBS-WH-TEST)': ['Base - 2132 W Hubbard',\n",
       "  'Base - 2132 W Hubbard Warehouse'],\n",
       " 'KA1503000055': ['Halsted & 63rd - Kennedy-King Vaccination Site',\n",
       "  'Halsted St & 63rd St'],\n",
       " 'KA1504000168': ['Western & 28th - Velasquez Institute Vaccination Site',\n",
       "  'Western Ave & 28th St'],\n",
       " 'TA1306000015': ['Sangamon St & Lake St', 'Morgan St & Lake St'],\n",
       " 'TA1306000026': ['Racine Ave & Fullerton Ave',\n",
       "  'Racine Ave & Fullerton Ave (Temp)'],\n",
       " 'TA1307000138': ['Lincoln Ave & Roscoe St', 'Wood St & Webster Ave'],\n",
       " 'TA1309000042': ['Lincoln Ave & Belmont Ave (Temp)',\n",
       "  'Lincoln Ave & Belmont Ave']}"
      ]
     },
     "execution_count": 17,
     "metadata": {},
     "output_type": "execute_result"
    }
   ],
   "source": [
    "repeated_ids"
   ]
  },
  {
   "cell_type": "markdown",
   "id": "2016a70e",
   "metadata": {},
   "source": [
    "Many id's do refer to different station names, but many of them have a version with \"Public Rack - \" or with \" (Temp)\" in the name and a version without. \n",
    "\n",
    "The next lines fix this so that the data is a bit more homogenous and the analisys more reliable."
   ]
  },
  {
   "cell_type": "code",
   "execution_count": 18,
   "id": "27fe140a",
   "metadata": {},
   "outputs": [
    {
     "name": "stderr",
     "output_type": "stream",
     "text": [
      "C:\\Users\\Juan\\AppData\\Local\\Temp/ipykernel_5756/1033773167.py:4: FutureWarning: The default value of regex will change from True to False in a future version.\n",
      "  rides_complete[\"start_name\"]\n",
      "C:\\Users\\Juan\\AppData\\Local\\Temp/ipykernel_5756/1033773167.py:10: FutureWarning: The default value of regex will change from True to False in a future version.\n",
      "  rides_complete[\"end_name\"]\n"
     ]
    }
   ],
   "source": [
    "# remove 'Public Rack - ' and ' (Temp)' from station names.\n",
    "\n",
    "rides_complete[\"start_name\"] = (\n",
    "    rides_complete[\"start_name\"]\n",
    "    .str.replace(\"Public Rack - \", \"\")\n",
    "    .str.replace(\" (Temp)\", \"\")\n",
    ")\n",
    "\n",
    "rides_complete[\"end_name\"] = (\n",
    "    rides_complete[\"end_name\"]\n",
    "    .str.replace(\"Public Rack - \", \"\")\n",
    "    .str.replace(\" (Temp)\", \"\")\n",
    ")"
   ]
  },
  {
   "cell_type": "markdown",
   "id": "97eeb41f",
   "metadata": {},
   "source": [
    "And Lets see how many station names we are left with."
   ]
  },
  {
   "cell_type": "code",
   "execution_count": 19,
   "id": "6ca124f1",
   "metadata": {
    "scrolled": true,
    "tags": []
   },
   "outputs": [
    {
     "data": {
      "text/html": [
       "<div>\n",
       "<style scoped>\n",
       "    .dataframe tbody tr th:only-of-type {\n",
       "        vertical-align: middle;\n",
       "    }\n",
       "\n",
       "    .dataframe tbody tr th {\n",
       "        vertical-align: top;\n",
       "    }\n",
       "\n",
       "    .dataframe thead th {\n",
       "        text-align: right;\n",
       "    }\n",
       "</style>\n",
       "<table border=\"1\" class=\"dataframe\">\n",
       "  <thead>\n",
       "    <tr style=\"text-align: right;\">\n",
       "      <th></th>\n",
       "      <th>Num. of unique values</th>\n",
       "    </tr>\n",
       "  </thead>\n",
       "  <tbody>\n",
       "    <tr>\n",
       "      <th>start_name</th>\n",
       "      <td>1407</td>\n",
       "    </tr>\n",
       "    <tr>\n",
       "      <th>start_id</th>\n",
       "      <td>1315</td>\n",
       "    </tr>\n",
       "    <tr>\n",
       "      <th>end_name</th>\n",
       "      <td>1407</td>\n",
       "    </tr>\n",
       "    <tr>\n",
       "      <th>end_id</th>\n",
       "      <td>1319</td>\n",
       "    </tr>\n",
       "  </tbody>\n",
       "</table>\n",
       "</div>"
      ],
      "text/plain": [
       "            Num. of unique values\n",
       "start_name                   1407\n",
       "start_id                     1315\n",
       "end_name                     1407\n",
       "end_id                       1319"
      ]
     },
     "execution_count": 19,
     "metadata": {},
     "output_type": "execute_result"
    }
   ],
   "source": [
    "rides_complete[[\"start_name\", \"start_id\", \"end_name\", \"end_id\"]].nunique().rename(\n",
    "    \"Num. of unique values\"\n",
    ").to_frame()"
   ]
  },
  {
   "cell_type": "markdown",
   "id": "9b88df33",
   "metadata": {},
   "source": [
    "Its a little bit better, there still are a lot more station names and ids than there should be, but at least the mapping is closer to being 1 to 1. The following does the same but the other way around: shows station names that point to multiple id's."
   ]
  },
  {
   "cell_type": "code",
   "execution_count": 20,
   "id": "04f42357",
   "metadata": {},
   "outputs": [
    {
     "data": {
      "text/plain": [
       "21"
      ]
     },
     "execution_count": 20,
     "metadata": {},
     "output_type": "execute_result"
    }
   ],
   "source": [
    "repeated_names = not_unique(\"start_name\", \"start_id\", 0.2)\n",
    "len(repeated_names)"
   ]
  },
  {
   "cell_type": "code",
   "execution_count": 21,
   "id": "7f917545",
   "metadata": {
    "scrolled": true
   },
   "outputs": [
    {
     "data": {
      "text/plain": [
       "{'Ashland Ave & 63rd St': ['16948', '996'],\n",
       " 'California Ave & Cortez St': ['17660', '512'],\n",
       " 'Calumet Ave & 51st St': ['15470', '813'],\n",
       " 'Central Park Ave & Ogden Ave': ['15685', '532'],\n",
       " 'Christiana Ave & Lawrence Ave': ['860', '15615'],\n",
       " 'Clyde Ave & 87th St': ['20230', '986'],\n",
       " 'East End Ave & 87th St': ['20231', '883'],\n",
       " 'Eberhart Ave & 61st St': ['KA1503000033', '955'],\n",
       " 'Eggleston Ave & 92nd St': ['20118', '707'],\n",
       " 'Ewing Ave & 106th St': ['980', '612'],\n",
       " 'Halsted St & 111th St': ['20127', '875'],\n",
       " 'Halsted St & 63rd St': ['745', 'KA1503000055'],\n",
       " 'Jeffery Blvd & 67th St': ['KA1503000030', '753'],\n",
       " 'Kedzie Ave & Chicago Ave': ['KA1504000114', '1055'],\n",
       " 'Kostner Ave & Wrightwood Ave': ['321', '1018'],\n",
       " 'Lake Park Ave & 47th St': ['TA1308000035', '812'],\n",
       " 'Lawndale Ave & 111th St': ['20203', '893'],\n",
       " 'Prairie Ave & Garfield Blvd': ['TA1307000160', '906', '954'],\n",
       " 'Pulaski Rd & Lake St': ['528', '1013'],\n",
       " 'South Shore Dr & 71st St': ['KA1503000002', '948'],\n",
       " 'Wabash Ave & 87th St': ['595', '644']}"
      ]
     },
     "execution_count": 21,
     "metadata": {},
     "output_type": "execute_result"
    }
   ],
   "source": [
    "repeated_names"
   ]
  },
  {
   "cell_type": "code",
   "execution_count": 22,
   "id": "8fbdb1e2",
   "metadata": {},
   "outputs": [],
   "source": [
    "del repeated_ids, repeated_names"
   ]
  },
  {
   "cell_type": "markdown",
   "id": "b15cafbd",
   "metadata": {},
   "source": [
    "There are no obvious patterns here, but the good thing is that the problem is a lot less severe in this direction: there are many id's that point to multiple station names but few names pointing to multiple ids. \n",
    "\n",
    "Maybe an explanation for all of this is that the stations changed names/id's at some point? Let's investigate how many unique station names/id's are there per month to check this hypothesis. \n",
    "\n",
    "For this purpose, it will be easiest to convert the dates into datetime objects and then get the year and month, but first it is necessary to verify the date format is consistent throughout the data. The next lists show the dates that do not start with either the year 2022 or 2023. Since they are both empty it is safe to say that the format is consistent."
   ]
  },
  {
   "cell_type": "code",
   "execution_count": 23,
   "id": "50a0974d",
   "metadata": {},
   "outputs": [
    {
     "data": {
      "text/plain": [
       "[]"
      ]
     },
     "execution_count": 23,
     "metadata": {},
     "output_type": "execute_result"
    }
   ],
   "source": [
    "[date for date in rides_complete[\"start_time\"] if date[:4] not in [\"2022\", \"2023\"]]"
   ]
  },
  {
   "cell_type": "code",
   "execution_count": 24,
   "id": "e3da3176",
   "metadata": {
    "scrolled": true
   },
   "outputs": [
    {
     "data": {
      "text/plain": [
       "[]"
      ]
     },
     "execution_count": 24,
     "metadata": {},
     "output_type": "execute_result"
    }
   ],
   "source": [
    "[date for date in rides_complete[\"end_time\"] if date[:4] not in [\"2022\", \"2023\"]]"
   ]
  },
  {
   "cell_type": "markdown",
   "id": "02c94b5e",
   "metadata": {},
   "source": [
    "Next the dates are typecasted as datetime objects and the the year, month and time of day extracted since it might be interesting to study the hourly usage of the bikes in the analysis phase."
   ]
  },
  {
   "cell_type": "code",
   "execution_count": 25,
   "id": "91649e03",
   "metadata": {},
   "outputs": [],
   "source": [
    "# Convert start and end times from string to datetime\n",
    "\n",
    "rides_complete[\"start_time\"] = pd.to_datetime(\n",
    "    rides_complete[\"start_time\"], format=\"%Y-%m-%d %H:%M:%S\"\n",
    ")\n",
    "\n",
    "rides_complete[\"end_time\"] = pd.to_datetime(\n",
    "    rides_complete[\"end_time\"], format=\"%Y-%m-%d %H:%M:%S\"\n",
    ")"
   ]
  },
  {
   "cell_type": "code",
   "execution_count": 26,
   "id": "76ac33dd",
   "metadata": {},
   "outputs": [],
   "source": [
    "# Extract year, month and time of day (hour) from the start time for the ride.\n",
    "\n",
    "rides_complete = rides_complete.assign(year=rides_complete[\"start_time\"].dt.year)\n",
    "rides_complete = rides_complete.assign(month=rides_complete[\"start_time\"].dt.month)\n",
    "rides_complete = rides_complete.assign(time_of_day=rides_complete[\"start_time\"].dt.hour)"
   ]
  },
  {
   "cell_type": "markdown",
   "id": "58e8786c",
   "metadata": {},
   "source": [
    "And since it would be more comfortable to see the months with their names, and to keep them ordered, we can make a mapping and enforce a chronological order into it."
   ]
  },
  {
   "cell_type": "code",
   "execution_count": 27,
   "id": "611596a9",
   "metadata": {},
   "outputs": [],
   "source": [
    "months = {\n",
    "    1: \"Jan\",\n",
    "    2: \"Feb\",\n",
    "    3: \"Mar\",\n",
    "    4: \"Apr\",\n",
    "    5: \"May\",\n",
    "    6: \"Jun\",\n",
    "    7: \"Jul\",\n",
    "    8: \"Aug\",\n",
    "    9: \"Sep\",\n",
    "    10: \"Oct\",\n",
    "    11: \"Nov\",\n",
    "    12: \"Dec\",\n",
    "}\n",
    "\n",
    "month_order = [\n",
    "    \"Mar\",\n",
    "    \"Apr\",\n",
    "    \"May\",\n",
    "    \"Jun\",\n",
    "    \"Jul\",\n",
    "    \"Aug\",\n",
    "    \"Sep\",\n",
    "    \"Oct\",\n",
    "    \"Nov\",\n",
    "    \"Dec\",\n",
    "    \"Jan\",\n",
    "    \"Feb\",\n",
    "]\n",
    "\n",
    "# imposes a categorical order to the names of each month.\n",
    "rides_complete[\"month\"] = (\n",
    "    rides_complete[\"month\"]\n",
    "    .map(months)\n",
    "    .astype(pd.api.types.CategoricalDtype(categories=month_order, ordered=True))\n",
    ")"
   ]
  },
  {
   "cell_type": "markdown",
   "id": "5c65be37",
   "metadata": {},
   "source": [
    "The following table shows how many unique station names and id's are found per month for the last 12 months."
   ]
  },
  {
   "cell_type": "code",
   "execution_count": 28,
   "id": "9565494d",
   "metadata": {},
   "outputs": [
    {
     "data": {
      "text/html": [
       "<div>\n",
       "<style scoped>\n",
       "    .dataframe tbody tr th:only-of-type {\n",
       "        vertical-align: middle;\n",
       "    }\n",
       "\n",
       "    .dataframe tbody tr th {\n",
       "        vertical-align: top;\n",
       "    }\n",
       "\n",
       "    .dataframe thead th {\n",
       "        text-align: right;\n",
       "    }\n",
       "</style>\n",
       "<table border=\"1\" class=\"dataframe\">\n",
       "  <thead>\n",
       "    <tr style=\"text-align: right;\">\n",
       "      <th></th>\n",
       "      <th>start_name</th>\n",
       "      <th>start_id</th>\n",
       "      <th>end_name</th>\n",
       "      <th>end_id</th>\n",
       "    </tr>\n",
       "    <tr>\n",
       "      <th>month</th>\n",
       "      <th></th>\n",
       "      <th></th>\n",
       "      <th></th>\n",
       "      <th></th>\n",
       "    </tr>\n",
       "  </thead>\n",
       "  <tbody>\n",
       "    <tr>\n",
       "      <th>Mar</th>\n",
       "      <td>844</td>\n",
       "      <td>844</td>\n",
       "      <td>835</td>\n",
       "      <td>835</td>\n",
       "    </tr>\n",
       "    <tr>\n",
       "      <th>Apr</th>\n",
       "      <td>840</td>\n",
       "      <td>840</td>\n",
       "      <td>838</td>\n",
       "      <td>837</td>\n",
       "    </tr>\n",
       "    <tr>\n",
       "      <th>May</th>\n",
       "      <td>1086</td>\n",
       "      <td>1051</td>\n",
       "      <td>1092</td>\n",
       "      <td>1055</td>\n",
       "    </tr>\n",
       "    <tr>\n",
       "      <th>Jun</th>\n",
       "      <td>1149</td>\n",
       "      <td>1116</td>\n",
       "      <td>1162</td>\n",
       "      <td>1128</td>\n",
       "    </tr>\n",
       "    <tr>\n",
       "      <th>Jul</th>\n",
       "      <td>1192</td>\n",
       "      <td>1148</td>\n",
       "      <td>1204</td>\n",
       "      <td>1162</td>\n",
       "    </tr>\n",
       "    <tr>\n",
       "      <th>Aug</th>\n",
       "      <td>1229</td>\n",
       "      <td>1191</td>\n",
       "      <td>1217</td>\n",
       "      <td>1185</td>\n",
       "    </tr>\n",
       "    <tr>\n",
       "      <th>Sep</th>\n",
       "      <td>1172</td>\n",
       "      <td>1131</td>\n",
       "      <td>1177</td>\n",
       "      <td>1136</td>\n",
       "    </tr>\n",
       "    <tr>\n",
       "      <th>Oct</th>\n",
       "      <td>1091</td>\n",
       "      <td>1069</td>\n",
       "      <td>1099</td>\n",
       "      <td>1071</td>\n",
       "    </tr>\n",
       "    <tr>\n",
       "      <th>Nov</th>\n",
       "      <td>1051</td>\n",
       "      <td>1037</td>\n",
       "      <td>1059</td>\n",
       "      <td>1041</td>\n",
       "    </tr>\n",
       "    <tr>\n",
       "      <th>Dec</th>\n",
       "      <td>997</td>\n",
       "      <td>980</td>\n",
       "      <td>981</td>\n",
       "      <td>967</td>\n",
       "    </tr>\n",
       "    <tr>\n",
       "      <th>Jan</th>\n",
       "      <td>960</td>\n",
       "      <td>944</td>\n",
       "      <td>961</td>\n",
       "      <td>943</td>\n",
       "    </tr>\n",
       "    <tr>\n",
       "      <th>Feb</th>\n",
       "      <td>969</td>\n",
       "      <td>955</td>\n",
       "      <td>961</td>\n",
       "      <td>950</td>\n",
       "    </tr>\n",
       "  </tbody>\n",
       "</table>\n",
       "</div>"
      ],
      "text/plain": [
       "       start_name  start_id  end_name  end_id\n",
       "month                                        \n",
       "Mar           844       844       835     835\n",
       "Apr           840       840       838     837\n",
       "May          1086      1051      1092    1055\n",
       "Jun          1149      1116      1162    1128\n",
       "Jul          1192      1148      1204    1162\n",
       "Aug          1229      1191      1217    1185\n",
       "Sep          1172      1131      1177    1136\n",
       "Oct          1091      1069      1099    1071\n",
       "Nov          1051      1037      1059    1041\n",
       "Dec           997       980       981     967\n",
       "Jan           960       944       961     943\n",
       "Feb           969       955       961     950"
      ]
     },
     "execution_count": 28,
     "metadata": {},
     "output_type": "execute_result"
    }
   ],
   "source": [
    "rides_complete.groupby(\"month\")[\n",
    "    [\"start_name\", \"start_id\", \"end_name\", \"end_id\"]\n",
    "].nunique()"
   ]
  },
  {
   "cell_type": "markdown",
   "id": "0c36238c",
   "metadata": {},
   "source": [
    "The number of stations is not accurate nor consistent on any of these fields, since the number of stations is in reality around 600, which is half to 3/4 of the monthly reported stations on the data. To homogenize things a little bit, we proceed to make the mapping of station names to id's one to one (or at least as much as possible). After some testing it was found that the most effective way of doing it is to start reducing the number of names and continue with the ids."
   ]
  },
  {
   "cell_type": "code",
   "execution_count": 29,
   "id": "de814028-2ce4-4f3e-8b3a-43dd8de7d4e5",
   "metadata": {},
   "outputs": [],
   "source": [
    "def id_name_map(df, field1, field2):\n",
    "    \"\"\"This function makes the relation between field1 and field2 values a surjective one. \n",
    "    This means that each field1 value will map to a single value in field2. Applying this \n",
    "    function twice, once from field1 to field2 and the sencond time from field2 to field1\n",
    "    will make the mapping one to one.\"\"\"\n",
    "\n",
    "    # selects the first field2 value appearing in the data for each unique field1 value\n",
    "    val_to_keep = df.groupby(field1)[field2].apply(lambda x: x.iloc[0])\n",
    "\n",
    "    # returns the selected field2 value for each unique field 1 value.\n",
    "    # after this all field1 value will point to one unique field 2 value\n",
    "    return df[field1].apply(lambda x: val_to_keep[x])"
   ]
  },
  {
   "cell_type": "code",
   "execution_count": 30,
   "id": "717325ed-5909-4e55-8048-e5ef2fbd5baf",
   "metadata": {},
   "outputs": [],
   "source": [
    "# This makes the start stations names and ids one to one.\n",
    "\n",
    "rides_complete[\"start_name\"] = id_name_map(rides_complete, \"start_id\", \"start_name\")\n",
    "rides_complete[\"start_id\"] = id_name_map(rides_complete, \"start_name\", \"start_id\")"
   ]
  },
  {
   "cell_type": "code",
   "execution_count": 31,
   "id": "189ae8d9-c0cf-4dfe-be53-29b9c8b1faef",
   "metadata": {},
   "outputs": [],
   "source": [
    "# and now for the end stations\n",
    "\n",
    "rides_complete[\"end_name\"] = id_name_map(rides_complete, \"end_id\", \"end_name\")\n",
    "rides_complete[\"end_id\"] = id_name_map(rides_complete, \"end_name\", \"end_id\")"
   ]
  },
  {
   "cell_type": "markdown",
   "id": "7b72907c",
   "metadata": {},
   "source": [
    "After this we at least have some consistency: the number of start station names and id's is the same, as well as those for end stations, and the number of start stations is very close to that of end stations. This can be seen from the next table"
   ]
  },
  {
   "cell_type": "code",
   "execution_count": 32,
   "id": "f4b5120f",
   "metadata": {},
   "outputs": [
    {
     "data": {
      "text/html": [
       "<div>\n",
       "<style scoped>\n",
       "    .dataframe tbody tr th:only-of-type {\n",
       "        vertical-align: middle;\n",
       "    }\n",
       "\n",
       "    .dataframe tbody tr th {\n",
       "        vertical-align: top;\n",
       "    }\n",
       "\n",
       "    .dataframe thead th {\n",
       "        text-align: right;\n",
       "    }\n",
       "</style>\n",
       "<table border=\"1\" class=\"dataframe\">\n",
       "  <thead>\n",
       "    <tr style=\"text-align: right;\">\n",
       "      <th></th>\n",
       "      <th>Num. of unique values</th>\n",
       "    </tr>\n",
       "  </thead>\n",
       "  <tbody>\n",
       "    <tr>\n",
       "      <th>start_name</th>\n",
       "      <td>1288</td>\n",
       "    </tr>\n",
       "    <tr>\n",
       "      <th>start_id</th>\n",
       "      <td>1288</td>\n",
       "    </tr>\n",
       "    <tr>\n",
       "      <th>end_name</th>\n",
       "      <td>1292</td>\n",
       "    </tr>\n",
       "    <tr>\n",
       "      <th>end_id</th>\n",
       "      <td>1292</td>\n",
       "    </tr>\n",
       "  </tbody>\n",
       "</table>\n",
       "</div>"
      ],
      "text/plain": [
       "            Num. of unique values\n",
       "start_name                   1288\n",
       "start_id                     1288\n",
       "end_name                     1292\n",
       "end_id                       1292"
      ]
     },
     "execution_count": 32,
     "metadata": {},
     "output_type": "execute_result"
    }
   ],
   "source": [
    "rides_complete[[\"start_name\", \"start_id\", \"end_name\", \"end_id\"]].nunique().rename(\n",
    "    \"Num. of unique values\"\n",
    ").to_frame()"
   ]
  },
  {
   "cell_type": "markdown",
   "id": "0c6f8514-6c29-42a0-a396-4e7ee184253a",
   "metadata": {},
   "source": [
    "The last few steps are somewhat time consuming so we can save the progress in case something goes wrong, so that we don't have to start over."
   ]
  },
  {
   "cell_type": "code",
   "execution_count": 33,
   "id": "7130a325-01b1-449d-b307-eb74fff75ac0",
   "metadata": {},
   "outputs": [
    {
     "data": {
      "text/html": [
       "<div>\n",
       "<style scoped>\n",
       "    .dataframe tbody tr th:only-of-type {\n",
       "        vertical-align: middle;\n",
       "    }\n",
       "\n",
       "    .dataframe tbody tr th {\n",
       "        vertical-align: top;\n",
       "    }\n",
       "\n",
       "    .dataframe thead th {\n",
       "        text-align: right;\n",
       "    }\n",
       "</style>\n",
       "<table border=\"1\" class=\"dataframe\">\n",
       "  <thead>\n",
       "    <tr style=\"text-align: right;\">\n",
       "      <th></th>\n",
       "      <th>trip_id</th>\n",
       "      <th>bike_type</th>\n",
       "      <th>start_time</th>\n",
       "      <th>end_time</th>\n",
       "      <th>start_name</th>\n",
       "      <th>start_id</th>\n",
       "      <th>end_name</th>\n",
       "      <th>end_id</th>\n",
       "      <th>start_lat</th>\n",
       "      <th>start_lng</th>\n",
       "      <th>end_lat</th>\n",
       "      <th>end_lng</th>\n",
       "      <th>usertype</th>\n",
       "      <th>year</th>\n",
       "      <th>month</th>\n",
       "      <th>time_of_day</th>\n",
       "    </tr>\n",
       "  </thead>\n",
       "  <tbody>\n",
       "    <tr>\n",
       "      <th>0</th>\n",
       "      <td>47EC0A7F82E65D52</td>\n",
       "      <td>classic_bike</td>\n",
       "      <td>2022-03-21 13:45:01</td>\n",
       "      <td>2022-03-21 13:51:18</td>\n",
       "      <td>Wabash Ave &amp; Wacker Pl</td>\n",
       "      <td>TA1307000131</td>\n",
       "      <td>Kingsbury St &amp; Kinzie St</td>\n",
       "      <td>KA1503000043</td>\n",
       "      <td>41.886875</td>\n",
       "      <td>-87.626030</td>\n",
       "      <td>41.889177</td>\n",
       "      <td>-87.638506</td>\n",
       "      <td>member</td>\n",
       "      <td>2022</td>\n",
       "      <td>Mar</td>\n",
       "      <td>13</td>\n",
       "    </tr>\n",
       "    <tr>\n",
       "      <th>1</th>\n",
       "      <td>8494861979B0F477</td>\n",
       "      <td>electric_bike</td>\n",
       "      <td>2022-03-16 09:37:16</td>\n",
       "      <td>2022-03-16 09:43:34</td>\n",
       "      <td>Michigan Ave &amp; Oak St</td>\n",
       "      <td>13042</td>\n",
       "      <td>Orleans St &amp; Chestnut St (NEXT Apts)</td>\n",
       "      <td>620</td>\n",
       "      <td>41.900998</td>\n",
       "      <td>-87.623752</td>\n",
       "      <td>41.898203</td>\n",
       "      <td>-87.637536</td>\n",
       "      <td>member</td>\n",
       "      <td>2022</td>\n",
       "      <td>Mar</td>\n",
       "      <td>9</td>\n",
       "    </tr>\n",
       "    <tr>\n",
       "      <th>2</th>\n",
       "      <td>EFE527AF80B66109</td>\n",
       "      <td>classic_bike</td>\n",
       "      <td>2022-03-23 19:52:02</td>\n",
       "      <td>2022-03-23 19:54:48</td>\n",
       "      <td>Broadway &amp; Berwyn Ave</td>\n",
       "      <td>13109</td>\n",
       "      <td>Broadway &amp; Ridge Ave</td>\n",
       "      <td>15578</td>\n",
       "      <td>41.978353</td>\n",
       "      <td>-87.659753</td>\n",
       "      <td>41.984045</td>\n",
       "      <td>-87.660274</td>\n",
       "      <td>member</td>\n",
       "      <td>2022</td>\n",
       "      <td>Mar</td>\n",
       "      <td>19</td>\n",
       "    </tr>\n",
       "    <tr>\n",
       "      <th>3</th>\n",
       "      <td>9F446FD9DEE3F389</td>\n",
       "      <td>classic_bike</td>\n",
       "      <td>2022-03-01 19:12:26</td>\n",
       "      <td>2022-03-01 19:22:14</td>\n",
       "      <td>Wabash Ave &amp; Wacker Pl</td>\n",
       "      <td>TA1307000131</td>\n",
       "      <td>Franklin St &amp; Jackson Blvd</td>\n",
       "      <td>TA1305000025</td>\n",
       "      <td>41.886875</td>\n",
       "      <td>-87.626030</td>\n",
       "      <td>41.877708</td>\n",
       "      <td>-87.635321</td>\n",
       "      <td>member</td>\n",
       "      <td>2022</td>\n",
       "      <td>Mar</td>\n",
       "      <td>19</td>\n",
       "    </tr>\n",
       "    <tr>\n",
       "      <th>4</th>\n",
       "      <td>431128AD9AFFEDC0</td>\n",
       "      <td>classic_bike</td>\n",
       "      <td>2022-03-21 18:37:01</td>\n",
       "      <td>2022-03-21 19:19:11</td>\n",
       "      <td>DuSable Lake Shore Dr &amp; North Blvd</td>\n",
       "      <td>LF-005</td>\n",
       "      <td>Loomis St &amp; Jackson Blvd</td>\n",
       "      <td>13206</td>\n",
       "      <td>41.911722</td>\n",
       "      <td>-87.626804</td>\n",
       "      <td>41.877945</td>\n",
       "      <td>-87.662007</td>\n",
       "      <td>member</td>\n",
       "      <td>2022</td>\n",
       "      <td>Mar</td>\n",
       "      <td>18</td>\n",
       "    </tr>\n",
       "  </tbody>\n",
       "</table>\n",
       "</div>"
      ],
      "text/plain": [
       "            trip_id      bike_type          start_time            end_time  \\\n",
       "0  47EC0A7F82E65D52   classic_bike 2022-03-21 13:45:01 2022-03-21 13:51:18   \n",
       "1  8494861979B0F477  electric_bike 2022-03-16 09:37:16 2022-03-16 09:43:34   \n",
       "2  EFE527AF80B66109   classic_bike 2022-03-23 19:52:02 2022-03-23 19:54:48   \n",
       "3  9F446FD9DEE3F389   classic_bike 2022-03-01 19:12:26 2022-03-01 19:22:14   \n",
       "4  431128AD9AFFEDC0   classic_bike 2022-03-21 18:37:01 2022-03-21 19:19:11   \n",
       "\n",
       "                           start_name      start_id  \\\n",
       "0              Wabash Ave & Wacker Pl  TA1307000131   \n",
       "1               Michigan Ave & Oak St         13042   \n",
       "2               Broadway & Berwyn Ave         13109   \n",
       "3              Wabash Ave & Wacker Pl  TA1307000131   \n",
       "4  DuSable Lake Shore Dr & North Blvd        LF-005   \n",
       "\n",
       "                               end_name        end_id  start_lat  start_lng  \\\n",
       "0              Kingsbury St & Kinzie St  KA1503000043  41.886875 -87.626030   \n",
       "1  Orleans St & Chestnut St (NEXT Apts)           620  41.900998 -87.623752   \n",
       "2                  Broadway & Ridge Ave         15578  41.978353 -87.659753   \n",
       "3            Franklin St & Jackson Blvd  TA1305000025  41.886875 -87.626030   \n",
       "4              Loomis St & Jackson Blvd         13206  41.911722 -87.626804   \n",
       "\n",
       "     end_lat    end_lng usertype  year month  time_of_day  \n",
       "0  41.889177 -87.638506   member  2022   Mar           13  \n",
       "1  41.898203 -87.637536   member  2022   Mar            9  \n",
       "2  41.984045 -87.660274   member  2022   Mar           19  \n",
       "3  41.877708 -87.635321   member  2022   Mar           19  \n",
       "4  41.877945 -87.662007   member  2022   Mar           18  "
      ]
     },
     "execution_count": 33,
     "metadata": {},
     "output_type": "execute_result"
    }
   ],
   "source": [
    "rides_complete.head()"
   ]
  },
  {
   "cell_type": "code",
   "execution_count": 34,
   "id": "b5855e03",
   "metadata": {},
   "outputs": [],
   "source": [
    "rides_homogenized = rides_complete.copy()\n",
    "del rides"
   ]
  },
  {
   "cell_type": "markdown",
   "id": "7576ed62-9ab3-4f11-89ff-eaa07414574f",
   "metadata": {},
   "source": [
    "### Coordinates"
   ]
  },
  {
   "cell_type": "markdown",
   "id": "db5512f9",
   "metadata": {},
   "source": [
    "Now that the issue with the names and IDs has been taken care of, it might be a good idea to address the issue with the end station coordinate ranges, shown below."
   ]
  },
  {
   "cell_type": "code",
   "execution_count": 35,
   "id": "cc0a2995",
   "metadata": {},
   "outputs": [
    {
     "data": {
      "text/html": [
       "<div>\n",
       "<style scoped>\n",
       "    .dataframe tbody tr th:only-of-type {\n",
       "        vertical-align: middle;\n",
       "    }\n",
       "\n",
       "    .dataframe tbody tr th {\n",
       "        vertical-align: top;\n",
       "    }\n",
       "\n",
       "    .dataframe thead th {\n",
       "        text-align: right;\n",
       "    }\n",
       "</style>\n",
       "<table border=\"1\" class=\"dataframe\">\n",
       "  <thead>\n",
       "    <tr style=\"text-align: right;\">\n",
       "      <th></th>\n",
       "      <th>min</th>\n",
       "      <th>max</th>\n",
       "    </tr>\n",
       "  </thead>\n",
       "  <tbody>\n",
       "    <tr>\n",
       "      <th>start_lat</th>\n",
       "      <td>41.64</td>\n",
       "      <td>42.07</td>\n",
       "    </tr>\n",
       "    <tr>\n",
       "      <th>start_lng</th>\n",
       "      <td>-87.84</td>\n",
       "      <td>-87.52</td>\n",
       "    </tr>\n",
       "    <tr>\n",
       "      <th>end_lat</th>\n",
       "      <td>0.00</td>\n",
       "      <td>42.37</td>\n",
       "    </tr>\n",
       "    <tr>\n",
       "      <th>end_lng</th>\n",
       "      <td>-88.14</td>\n",
       "      <td>0.00</td>\n",
       "    </tr>\n",
       "  </tbody>\n",
       "</table>\n",
       "</div>"
      ],
      "text/plain": [
       "             min    max\n",
       "start_lat  41.64  42.07\n",
       "start_lng -87.84 -87.52\n",
       "end_lat     0.00  42.37\n",
       "end_lng   -88.14   0.00"
      ]
     },
     "execution_count": 35,
     "metadata": {},
     "output_type": "execute_result"
    }
   ],
   "source": [
    "rides_homogenized[[\"start_lat\", \"start_lng\", \"end_lat\", \"end_lng\"]].agg(\n",
    "    [\"min\", \"max\"]\n",
    ").transpose()"
   ]
  },
  {
   "cell_type": "markdown",
   "id": "e443660f",
   "metadata": {},
   "source": [
    "The ranges should be roughly the same for start and end stations but for some reason they are very different. The coordinate range for the end stations shown above accounts for roughly 1/16th of the Earth's surface area, so there is something fishy going on. \n",
    "\n",
    "After checking the data with trips ending in coordinates outside the range for the start stations (plus a little wiggle room) we find that there is a minimal amount of rides that fall outside that range, and their coordinates all have a value of 0.0, 0.0. Also, all of them ended at Green St & Madison Ave* station."
   ]
  },
  {
   "cell_type": "code",
   "execution_count": 36,
   "id": "02d02c17",
   "metadata": {},
   "outputs": [
    {
     "data": {
      "text/html": [
       "<div>\n",
       "<style scoped>\n",
       "    .dataframe tbody tr th:only-of-type {\n",
       "        vertical-align: middle;\n",
       "    }\n",
       "\n",
       "    .dataframe tbody tr th {\n",
       "        vertical-align: top;\n",
       "    }\n",
       "\n",
       "    .dataframe thead th {\n",
       "        text-align: right;\n",
       "    }\n",
       "</style>\n",
       "<table border=\"1\" class=\"dataframe\">\n",
       "  <thead>\n",
       "    <tr style=\"text-align: right;\">\n",
       "      <th></th>\n",
       "      <th>trip_id</th>\n",
       "      <th>bike_type</th>\n",
       "      <th>start_time</th>\n",
       "      <th>end_time</th>\n",
       "      <th>start_name</th>\n",
       "      <th>start_id</th>\n",
       "      <th>end_name</th>\n",
       "      <th>end_id</th>\n",
       "      <th>start_lat</th>\n",
       "      <th>start_lng</th>\n",
       "      <th>end_lat</th>\n",
       "      <th>end_lng</th>\n",
       "      <th>usertype</th>\n",
       "      <th>year</th>\n",
       "      <th>month</th>\n",
       "      <th>time_of_day</th>\n",
       "    </tr>\n",
       "  </thead>\n",
       "  <tbody>\n",
       "    <tr>\n",
       "      <th>4929834</th>\n",
       "      <td>3B47B333C0D186F0</td>\n",
       "      <td>classic_bike</td>\n",
       "      <td>2022-11-09 13:39:03</td>\n",
       "      <td>2022-11-09 13:44:38</td>\n",
       "      <td>Franklin St &amp; Adams St (Temp)</td>\n",
       "      <td>TA1309000008</td>\n",
       "      <td>Green St &amp; Madison Ave*</td>\n",
       "      <td>chargingstx07</td>\n",
       "      <td>41.879434</td>\n",
       "      <td>-87.635504</td>\n",
       "      <td>0.0</td>\n",
       "      <td>0.0</td>\n",
       "      <td>member</td>\n",
       "      <td>2022</td>\n",
       "      <td>Nov</td>\n",
       "      <td>13</td>\n",
       "    </tr>\n",
       "    <tr>\n",
       "      <th>4949454</th>\n",
       "      <td>42AF82C53D831251</td>\n",
       "      <td>electric_bike</td>\n",
       "      <td>2022-11-09 16:17:40</td>\n",
       "      <td>2022-11-09 16:38:06</td>\n",
       "      <td>Laflin St &amp; Cullerton St</td>\n",
       "      <td>13307</td>\n",
       "      <td>Green St &amp; Madison Ave*</td>\n",
       "      <td>chargingstx07</td>\n",
       "      <td>41.854916</td>\n",
       "      <td>-87.663692</td>\n",
       "      <td>0.0</td>\n",
       "      <td>0.0</td>\n",
       "      <td>casual</td>\n",
       "      <td>2022</td>\n",
       "      <td>Nov</td>\n",
       "      <td>16</td>\n",
       "    </tr>\n",
       "    <tr>\n",
       "      <th>4954287</th>\n",
       "      <td>BB8AA29838266294</td>\n",
       "      <td>classic_bike</td>\n",
       "      <td>2022-11-09 11:32:53</td>\n",
       "      <td>2022-11-09 11:37:30</td>\n",
       "      <td>Canal St &amp; Adams St</td>\n",
       "      <td>13011</td>\n",
       "      <td>Green St &amp; Madison Ave*</td>\n",
       "      <td>chargingstx07</td>\n",
       "      <td>41.879255</td>\n",
       "      <td>-87.639904</td>\n",
       "      <td>0.0</td>\n",
       "      <td>0.0</td>\n",
       "      <td>member</td>\n",
       "      <td>2022</td>\n",
       "      <td>Nov</td>\n",
       "      <td>11</td>\n",
       "    </tr>\n",
       "    <tr>\n",
       "      <th>5171599</th>\n",
       "      <td>6AFE1471227BD76F</td>\n",
       "      <td>classic_bike</td>\n",
       "      <td>2022-11-09 16:17:16</td>\n",
       "      <td>2022-11-09 16:26:17</td>\n",
       "      <td>Morgan St &amp; Polk St</td>\n",
       "      <td>TA1307000130</td>\n",
       "      <td>Green St &amp; Madison Ave*</td>\n",
       "      <td>chargingstx07</td>\n",
       "      <td>41.871737</td>\n",
       "      <td>-87.651030</td>\n",
       "      <td>0.0</td>\n",
       "      <td>0.0</td>\n",
       "      <td>casual</td>\n",
       "      <td>2022</td>\n",
       "      <td>Nov</td>\n",
       "      <td>16</td>\n",
       "    </tr>\n",
       "    <tr>\n",
       "      <th>5172674</th>\n",
       "      <td>E9495F1DC3475D41</td>\n",
       "      <td>classic_bike</td>\n",
       "      <td>2022-11-09 12:21:55</td>\n",
       "      <td>2022-11-09 12:26:18</td>\n",
       "      <td>Aberdeen St &amp; Randolph St</td>\n",
       "      <td>18062</td>\n",
       "      <td>Green St &amp; Madison Ave*</td>\n",
       "      <td>chargingstx07</td>\n",
       "      <td>41.884114</td>\n",
       "      <td>-87.654264</td>\n",
       "      <td>0.0</td>\n",
       "      <td>0.0</td>\n",
       "      <td>member</td>\n",
       "      <td>2022</td>\n",
       "      <td>Nov</td>\n",
       "      <td>12</td>\n",
       "    </tr>\n",
       "    <tr>\n",
       "      <th>5172933</th>\n",
       "      <td>75DE33501313D0CE</td>\n",
       "      <td>classic_bike</td>\n",
       "      <td>2022-11-09 15:52:08</td>\n",
       "      <td>2022-11-09 15:52:23</td>\n",
       "      <td>Green St &amp; Madison St</td>\n",
       "      <td>TA1307000120</td>\n",
       "      <td>Green St &amp; Madison Ave*</td>\n",
       "      <td>chargingstx07</td>\n",
       "      <td>41.881892</td>\n",
       "      <td>-87.648789</td>\n",
       "      <td>0.0</td>\n",
       "      <td>0.0</td>\n",
       "      <td>member</td>\n",
       "      <td>2022</td>\n",
       "      <td>Nov</td>\n",
       "      <td>15</td>\n",
       "    </tr>\n",
       "    <tr>\n",
       "      <th>5173115</th>\n",
       "      <td>0A6988FE859F4D54</td>\n",
       "      <td>classic_bike</td>\n",
       "      <td>2022-11-09 10:58:37</td>\n",
       "      <td>2022-11-09 11:06:21</td>\n",
       "      <td>LaSalle St &amp; Jackson Blvd</td>\n",
       "      <td>TA1309000004</td>\n",
       "      <td>Green St &amp; Madison Ave*</td>\n",
       "      <td>chargingstx07</td>\n",
       "      <td>41.878166</td>\n",
       "      <td>-87.631929</td>\n",
       "      <td>0.0</td>\n",
       "      <td>0.0</td>\n",
       "      <td>member</td>\n",
       "      <td>2022</td>\n",
       "      <td>Nov</td>\n",
       "      <td>10</td>\n",
       "    </tr>\n",
       "    <tr>\n",
       "      <th>5173186</th>\n",
       "      <td>7F49424E860E7094</td>\n",
       "      <td>classic_bike</td>\n",
       "      <td>2022-11-09 13:27:04</td>\n",
       "      <td>2022-11-09 13:28:28</td>\n",
       "      <td>Green St &amp; Randolph St</td>\n",
       "      <td>13053</td>\n",
       "      <td>Green St &amp; Madison Ave*</td>\n",
       "      <td>chargingstx07</td>\n",
       "      <td>41.883181</td>\n",
       "      <td>-87.648725</td>\n",
       "      <td>0.0</td>\n",
       "      <td>0.0</td>\n",
       "      <td>member</td>\n",
       "      <td>2022</td>\n",
       "      <td>Nov</td>\n",
       "      <td>13</td>\n",
       "    </tr>\n",
       "  </tbody>\n",
       "</table>\n",
       "</div>"
      ],
      "text/plain": [
       "                  trip_id      bike_type          start_time  \\\n",
       "4929834  3B47B333C0D186F0   classic_bike 2022-11-09 13:39:03   \n",
       "4949454  42AF82C53D831251  electric_bike 2022-11-09 16:17:40   \n",
       "4954287  BB8AA29838266294   classic_bike 2022-11-09 11:32:53   \n",
       "5171599  6AFE1471227BD76F   classic_bike 2022-11-09 16:17:16   \n",
       "5172674  E9495F1DC3475D41   classic_bike 2022-11-09 12:21:55   \n",
       "5172933  75DE33501313D0CE   classic_bike 2022-11-09 15:52:08   \n",
       "5173115  0A6988FE859F4D54   classic_bike 2022-11-09 10:58:37   \n",
       "5173186  7F49424E860E7094   classic_bike 2022-11-09 13:27:04   \n",
       "\n",
       "                   end_time                     start_name      start_id  \\\n",
       "4929834 2022-11-09 13:44:38  Franklin St & Adams St (Temp)  TA1309000008   \n",
       "4949454 2022-11-09 16:38:06       Laflin St & Cullerton St         13307   \n",
       "4954287 2022-11-09 11:37:30            Canal St & Adams St         13011   \n",
       "5171599 2022-11-09 16:26:17            Morgan St & Polk St  TA1307000130   \n",
       "5172674 2022-11-09 12:26:18      Aberdeen St & Randolph St         18062   \n",
       "5172933 2022-11-09 15:52:23          Green St & Madison St  TA1307000120   \n",
       "5173115 2022-11-09 11:06:21      LaSalle St & Jackson Blvd  TA1309000004   \n",
       "5173186 2022-11-09 13:28:28         Green St & Randolph St         13053   \n",
       "\n",
       "                        end_name         end_id  start_lat  start_lng  \\\n",
       "4929834  Green St & Madison Ave*  chargingstx07  41.879434 -87.635504   \n",
       "4949454  Green St & Madison Ave*  chargingstx07  41.854916 -87.663692   \n",
       "4954287  Green St & Madison Ave*  chargingstx07  41.879255 -87.639904   \n",
       "5171599  Green St & Madison Ave*  chargingstx07  41.871737 -87.651030   \n",
       "5172674  Green St & Madison Ave*  chargingstx07  41.884114 -87.654264   \n",
       "5172933  Green St & Madison Ave*  chargingstx07  41.881892 -87.648789   \n",
       "5173115  Green St & Madison Ave*  chargingstx07  41.878166 -87.631929   \n",
       "5173186  Green St & Madison Ave*  chargingstx07  41.883181 -87.648725   \n",
       "\n",
       "         end_lat  end_lng usertype  year month  time_of_day  \n",
       "4929834      0.0      0.0   member  2022   Nov           13  \n",
       "4949454      0.0      0.0   casual  2022   Nov           16  \n",
       "4954287      0.0      0.0   member  2022   Nov           11  \n",
       "5171599      0.0      0.0   casual  2022   Nov           16  \n",
       "5172674      0.0      0.0   member  2022   Nov           12  \n",
       "5172933      0.0      0.0   member  2022   Nov           15  \n",
       "5173115      0.0      0.0   member  2022   Nov           10  \n",
       "5173186      0.0      0.0   member  2022   Nov           13  "
      ]
     },
     "execution_count": 36,
     "metadata": {},
     "output_type": "execute_result"
    }
   ],
   "source": [
    "rides_homogenized[\n",
    "    (rides_homogenized[\"end_lat\"] < 40) | (rides_homogenized[\"end_lng\"] > -86.5)\n",
    "]"
   ]
  },
  {
   "cell_type": "markdown",
   "id": "ca0940b8",
   "metadata": {},
   "source": [
    "This is not the case for all records of that station: there are other instances where the coordinates do fall within the more sensible range."
   ]
  },
  {
   "cell_type": "code",
   "execution_count": 37,
   "id": "13fb6016",
   "metadata": {
    "scrolled": true
   },
   "outputs": [
    {
     "data": {
      "text/html": [
       "<div>\n",
       "<style scoped>\n",
       "    .dataframe tbody tr th:only-of-type {\n",
       "        vertical-align: middle;\n",
       "    }\n",
       "\n",
       "    .dataframe tbody tr th {\n",
       "        vertical-align: top;\n",
       "    }\n",
       "\n",
       "    .dataframe thead th {\n",
       "        text-align: right;\n",
       "    }\n",
       "</style>\n",
       "<table border=\"1\" class=\"dataframe\">\n",
       "  <thead>\n",
       "    <tr style=\"text-align: right;\">\n",
       "      <th></th>\n",
       "      <th>trip_id</th>\n",
       "      <th>bike_type</th>\n",
       "      <th>start_time</th>\n",
       "      <th>end_time</th>\n",
       "      <th>start_name</th>\n",
       "      <th>start_id</th>\n",
       "      <th>end_name</th>\n",
       "      <th>end_id</th>\n",
       "      <th>start_lat</th>\n",
       "      <th>start_lng</th>\n",
       "      <th>end_lat</th>\n",
       "      <th>end_lng</th>\n",
       "      <th>usertype</th>\n",
       "      <th>year</th>\n",
       "      <th>month</th>\n",
       "      <th>time_of_day</th>\n",
       "    </tr>\n",
       "  </thead>\n",
       "  <tbody>\n",
       "    <tr>\n",
       "      <th>4928893</th>\n",
       "      <td>9CE61EF14755D342</td>\n",
       "      <td>electric_bike</td>\n",
       "      <td>2022-11-18 09:58:44</td>\n",
       "      <td>2022-11-18 10:05:27</td>\n",
       "      <td>Franklin St &amp; Adams St (Temp)</td>\n",
       "      <td>TA1309000008</td>\n",
       "      <td>Green St &amp; Madison Ave*</td>\n",
       "      <td>chargingstx07</td>\n",
       "      <td>41.879063</td>\n",
       "      <td>-87.635010</td>\n",
       "      <td>41.881827</td>\n",
       "      <td>-87.648832</td>\n",
       "      <td>member</td>\n",
       "      <td>2022</td>\n",
       "      <td>Nov</td>\n",
       "      <td>9</td>\n",
       "    </tr>\n",
       "    <tr>\n",
       "      <th>4929207</th>\n",
       "      <td>D2BF299555B6DFD0</td>\n",
       "      <td>classic_bike</td>\n",
       "      <td>2022-11-12 16:20:49</td>\n",
       "      <td>2022-11-12 16:27:37</td>\n",
       "      <td>Aberdeen St &amp; Jackson Blvd</td>\n",
       "      <td>13157</td>\n",
       "      <td>Green St &amp; Madison Ave*</td>\n",
       "      <td>chargingstx07</td>\n",
       "      <td>41.877726</td>\n",
       "      <td>-87.654787</td>\n",
       "      <td>41.881827</td>\n",
       "      <td>-87.648832</td>\n",
       "      <td>member</td>\n",
       "      <td>2022</td>\n",
       "      <td>Nov</td>\n",
       "      <td>16</td>\n",
       "    </tr>\n",
       "  </tbody>\n",
       "</table>\n",
       "</div>"
      ],
      "text/plain": [
       "                  trip_id      bike_type          start_time  \\\n",
       "4928893  9CE61EF14755D342  electric_bike 2022-11-18 09:58:44   \n",
       "4929207  D2BF299555B6DFD0   classic_bike 2022-11-12 16:20:49   \n",
       "\n",
       "                   end_time                     start_name      start_id  \\\n",
       "4928893 2022-11-18 10:05:27  Franklin St & Adams St (Temp)  TA1309000008   \n",
       "4929207 2022-11-12 16:27:37     Aberdeen St & Jackson Blvd         13157   \n",
       "\n",
       "                        end_name         end_id  start_lat  start_lng  \\\n",
       "4928893  Green St & Madison Ave*  chargingstx07  41.879063 -87.635010   \n",
       "4929207  Green St & Madison Ave*  chargingstx07  41.877726 -87.654787   \n",
       "\n",
       "           end_lat    end_lng usertype  year month  time_of_day  \n",
       "4928893  41.881827 -87.648832   member  2022   Nov            9  \n",
       "4929207  41.881827 -87.648832   member  2022   Nov           16  "
      ]
     },
     "execution_count": 37,
     "metadata": {},
     "output_type": "execute_result"
    }
   ],
   "source": [
    "rides_homogenized[rides_homogenized[\"end_name\"] == \"Green St & Madison Ave*\"].head(2)"
   ]
  },
  {
   "cell_type": "markdown",
   "id": "c7923042-4be8-4364-9ba9-958ed3ccb2c3",
   "metadata": {},
   "source": [
    "We can use any of these as a replacement for the 0.0 values, but to be less arbitrary we can use the averages, excluding the 0 values of course."
   ]
  },
  {
   "cell_type": "code",
   "execution_count": 38,
   "id": "2d909dc3-4ea3-4abf-aa72-8260f21c93d5",
   "metadata": {},
   "outputs": [],
   "source": [
    "def non_zero_avg(df, col):\n",
    "    \"\"\"For a given column, col, in the dataframe df, returns \n",
    "    the average of all non zero values.\"\"\"\n",
    "    # filter rows with a value of 0\n",
    "    mask = df[col] != 0\n",
    "\n",
    "    # calculate the average value for non 0 values.\n",
    "    avg = df[mask][col].mean()\n",
    "\n",
    "    # returns the calculated average\n",
    "    return avg"
   ]
  },
  {
   "cell_type": "code",
   "execution_count": 39,
   "id": "695287c2",
   "metadata": {},
   "outputs": [],
   "source": [
    "# Create a mask for the station with the 0.0 valued coordinates\n",
    "mask = rides_homogenized[\"end_name\"] == \"Green St & Madison Ave*\"\n",
    "\n",
    "# change the latitude\n",
    "rides_homogenized.loc[\n",
    "    mask & (rides_homogenized[\"end_lat\"] < 40), \"end_lat\"\n",
    "] = non_zero_avg(rides_homogenized[mask], \"end_lat\")\n",
    "\n",
    "# change the longitude\n",
    "rides_homogenized.loc[\n",
    "    mask & (rides_homogenized[\"end_lng\"] > -86.5), \"end_lng\"\n",
    "] = non_zero_avg(rides_homogenized[mask], \"end_lng\")"
   ]
  },
  {
   "cell_type": "markdown",
   "id": "19658a23",
   "metadata": {},
   "source": [
    "After this we are left with a more sensible range of coordinates for all stations."
   ]
  },
  {
   "cell_type": "code",
   "execution_count": 40,
   "id": "3ea88d9c",
   "metadata": {},
   "outputs": [
    {
     "data": {
      "text/html": [
       "<div>\n",
       "<style scoped>\n",
       "    .dataframe tbody tr th:only-of-type {\n",
       "        vertical-align: middle;\n",
       "    }\n",
       "\n",
       "    .dataframe tbody tr th {\n",
       "        vertical-align: top;\n",
       "    }\n",
       "\n",
       "    .dataframe thead th {\n",
       "        text-align: right;\n",
       "    }\n",
       "</style>\n",
       "<table border=\"1\" class=\"dataframe\">\n",
       "  <thead>\n",
       "    <tr style=\"text-align: right;\">\n",
       "      <th></th>\n",
       "      <th>min</th>\n",
       "      <th>max</th>\n",
       "    </tr>\n",
       "  </thead>\n",
       "  <tbody>\n",
       "    <tr>\n",
       "      <th>start_lat</th>\n",
       "      <td>41.64</td>\n",
       "      <td>42.07</td>\n",
       "    </tr>\n",
       "    <tr>\n",
       "      <th>start_lng</th>\n",
       "      <td>-87.84</td>\n",
       "      <td>-87.52</td>\n",
       "    </tr>\n",
       "    <tr>\n",
       "      <th>end_lat</th>\n",
       "      <td>41.55</td>\n",
       "      <td>42.37</td>\n",
       "    </tr>\n",
       "    <tr>\n",
       "      <th>end_lng</th>\n",
       "      <td>-88.14</td>\n",
       "      <td>-87.30</td>\n",
       "    </tr>\n",
       "  </tbody>\n",
       "</table>\n",
       "</div>"
      ],
      "text/plain": [
       "             min    max\n",
       "start_lat  41.64  42.07\n",
       "start_lng -87.84 -87.52\n",
       "end_lat    41.55  42.37\n",
       "end_lng   -88.14 -87.30"
      ]
     },
     "execution_count": 40,
     "metadata": {},
     "output_type": "execute_result"
    }
   ],
   "source": [
    "rides_homogenized[[\"start_lat\", \"start_lng\", \"end_lat\", \"end_lng\"]].agg(\n",
    "    [\"min\", \"max\"]\n",
    ").transpose()"
   ]
  },
  {
   "cell_type": "markdown",
   "id": "46434bc6",
   "metadata": {},
   "source": [
    "Now that this has been addressed, we can turn towards another issue with the coordinates. As noticed earlier, and again in the next table, there are multiple sets of coordinates for each station, especially for the start stations."
   ]
  },
  {
   "cell_type": "code",
   "execution_count": 41,
   "id": "cb744073",
   "metadata": {},
   "outputs": [
    {
     "data": {
      "text/html": [
       "<div>\n",
       "<style scoped>\n",
       "    .dataframe tbody tr th:only-of-type {\n",
       "        vertical-align: middle;\n",
       "    }\n",
       "\n",
       "    .dataframe tbody tr th {\n",
       "        vertical-align: top;\n",
       "    }\n",
       "\n",
       "    .dataframe thead th {\n",
       "        text-align: right;\n",
       "    }\n",
       "</style>\n",
       "<table border=\"1\" class=\"dataframe\">\n",
       "  <thead>\n",
       "    <tr style=\"text-align: right;\">\n",
       "      <th></th>\n",
       "      <th>Num. of unique values</th>\n",
       "    </tr>\n",
       "  </thead>\n",
       "  <tbody>\n",
       "    <tr>\n",
       "      <th>start_lat</th>\n",
       "      <td>698269</td>\n",
       "    </tr>\n",
       "    <tr>\n",
       "      <th>start_lng</th>\n",
       "      <td>659449</td>\n",
       "    </tr>\n",
       "    <tr>\n",
       "      <th>end_lat</th>\n",
       "      <td>1622</td>\n",
       "    </tr>\n",
       "    <tr>\n",
       "      <th>end_lng</th>\n",
       "      <td>1607</td>\n",
       "    </tr>\n",
       "  </tbody>\n",
       "</table>\n",
       "</div>"
      ],
      "text/plain": [
       "           Num. of unique values\n",
       "start_lat                 698269\n",
       "start_lng                 659449\n",
       "end_lat                     1622\n",
       "end_lng                     1607"
      ]
     },
     "execution_count": 41,
     "metadata": {},
     "output_type": "execute_result"
    }
   ],
   "source": [
    "rides_homogenized[[\"start_lat\", \"start_lng\", \"end_lat\", \"end_lng\"]].nunique().rename(\n",
    "    \"Num. of unique values\"\n",
    ").to_frame()"
   ]
  },
  {
   "cell_type": "markdown",
   "id": "6b7d9b96-ec81-408b-aab3-55cc25c1242a",
   "metadata": {},
   "source": [
    "These different pairs of coordinates differ between them only by a small amount, as can be seen below for one single station, having over 5000 very similar values for its latitude. "
   ]
  },
  {
   "cell_type": "code",
   "execution_count": 42,
   "id": "65146189",
   "metadata": {},
   "outputs": [
    {
     "data": {
      "text/plain": [
       "5062"
      ]
     },
     "execution_count": 42,
     "metadata": {},
     "output_type": "execute_result"
    }
   ],
   "source": [
    "rides_homogenized[rides_homogenized[\"start_name\"] == \"State St & Kinzie St\"][\n",
    "    \"start_lat\"\n",
    "].nunique()"
   ]
  },
  {
   "cell_type": "code",
   "execution_count": 43,
   "id": "6dd06cb3",
   "metadata": {},
   "outputs": [
    {
     "data": {
      "text/html": [
       "<div>\n",
       "<style scoped>\n",
       "    .dataframe tbody tr th:only-of-type {\n",
       "        vertical-align: middle;\n",
       "    }\n",
       "\n",
       "    .dataframe tbody tr th {\n",
       "        vertical-align: top;\n",
       "    }\n",
       "\n",
       "    .dataframe thead th {\n",
       "        text-align: right;\n",
       "    }\n",
       "</style>\n",
       "<table border=\"1\" class=\"dataframe\">\n",
       "  <thead>\n",
       "    <tr style=\"text-align: right;\">\n",
       "      <th></th>\n",
       "      <th>start_lat</th>\n",
       "    </tr>\n",
       "  </thead>\n",
       "  <tbody>\n",
       "    <tr>\n",
       "      <th>min</th>\n",
       "      <td>41.789775</td>\n",
       "    </tr>\n",
       "    <tr>\n",
       "      <th>max</th>\n",
       "      <td>41.961017</td>\n",
       "    </tr>\n",
       "    <tr>\n",
       "      <th>std</th>\n",
       "      <td>0.000725</td>\n",
       "    </tr>\n",
       "  </tbody>\n",
       "</table>\n",
       "</div>"
      ],
      "text/plain": [
       "     start_lat\n",
       "min  41.789775\n",
       "max  41.961017\n",
       "std   0.000725"
      ]
     },
     "execution_count": 43,
     "metadata": {},
     "output_type": "execute_result"
    }
   ],
   "source": [
    "rides_homogenized[rides_homogenized[\"start_id\"] == \"13042\"][\"start_lat\"].to_frame().agg(\n",
    "    [\"min\", \"max\", \"std\"]\n",
    ")"
   ]
  },
  {
   "cell_type": "markdown",
   "id": "0c2e1cc2-9e28-4c49-ab48-0005b6c404af",
   "metadata": {},
   "source": [
    "We can fix this by taking the average coordinates for each station and setting all instances of that station to its mean coordinates. The following function aids with this and accounts for the fact that stations with 'No name' shouldn't be averaged, since they don't correspond to a single station. "
   ]
  },
  {
   "cell_type": "code",
   "execution_count": 44,
   "id": "a1107532-03f8-4b1b-97dc-af14e3b0f687",
   "metadata": {},
   "outputs": [],
   "source": [
    "def avg_coords(df, coord, name):\n",
    "    \"\"\"For a given coordinate, coord, in the dataframe df, returns \n",
    "    the average of all coordinate values where the station is not \n",
    "    \"No station\". \n",
    "    \n",
    "    args:\n",
    "    * df: the dataframe\n",
    "    * coord: the coordinate that will be averaged, wether latitude or longitude\n",
    "    * name: field giving the names of the stations. Valid values are \"start_name\" and \"end_name\"\n",
    "    \"\"\"\n",
    "\n",
    "    # filter out rows with station name 'No station'\n",
    "    mask = df[name] != \"No station\"\n",
    "\n",
    "    # creates a series object, where the index is the station name\n",
    "    val_to_keep = df[mask].groupby(name)[coord].mean()\n",
    "\n",
    "    # for each station name that is not equal to 'No station',\n",
    "    # returns the average value calculated\n",
    "    return df[mask][name].apply(lambda x: val_to_keep[x])"
   ]
  },
  {
   "cell_type": "code",
   "execution_count": 45,
   "id": "76b9ebad-e8d5-4b6a-9968-702cabf90432",
   "metadata": {
    "tags": []
   },
   "outputs": [],
   "source": [
    "## Sets all coordinates to the mean values for the given station\n",
    "## except for stations with 'No station'\n",
    "\n",
    "# exclude 'No station' station for the begining of the trip\n",
    "mask = rides_homogenized[\"start_name\"] != \"No station\"\n",
    "\n",
    "# set the rest to the station's average coordinates\n",
    "rides_homogenized.loc[mask, \"start_lat\"] = avg_coords(\n",
    "    rides_homogenized, \"start_lat\", \"start_name\"\n",
    ")\n",
    "\n",
    "rides_homogenized.loc[mask, \"start_lng\"] = avg_coords(\n",
    "    rides_homogenized, \"start_lng\", \"start_name\"\n",
    ")\n",
    "\n",
    "# exclude 'No station' station for the end of the trip\n",
    "mask = rides_homogenized[\"end_name\"] != \"No station\"\n",
    "\n",
    "# set the rest to the station's average coordinates\n",
    "rides_homogenized.loc[mask, \"end_lat\"] = avg_coords(\n",
    "    rides_homogenized, \"end_lat\", \"end_name\"\n",
    ")\n",
    "\n",
    "rides_homogenized.loc[mask, \"end_lng\"] = avg_coords(\n",
    "    rides_homogenized, \"end_lng\", \"end_name\"\n",
    ")"
   ]
  },
  {
   "cell_type": "markdown",
   "id": "57b06b9b-facf-4b70-a04f-1616d5a97a8e",
   "metadata": {},
   "source": [
    "After these modifications the number of unique values is a lot more congruent and easier to manage."
   ]
  },
  {
   "cell_type": "code",
   "execution_count": 46,
   "id": "ce3e2c55-346f-4a43-9574-168882f19d97",
   "metadata": {
    "tags": []
   },
   "outputs": [
    {
     "data": {
      "text/html": [
       "<div>\n",
       "<style scoped>\n",
       "    .dataframe tbody tr th:only-of-type {\n",
       "        vertical-align: middle;\n",
       "    }\n",
       "\n",
       "    .dataframe tbody tr th {\n",
       "        vertical-align: top;\n",
       "    }\n",
       "\n",
       "    .dataframe thead th {\n",
       "        text-align: right;\n",
       "    }\n",
       "</style>\n",
       "<table border=\"1\" class=\"dataframe\">\n",
       "  <thead>\n",
       "    <tr style=\"text-align: right;\">\n",
       "      <th></th>\n",
       "      <th>Num. of unique values</th>\n",
       "    </tr>\n",
       "  </thead>\n",
       "  <tbody>\n",
       "    <tr>\n",
       "      <th>start_name</th>\n",
       "      <td>1288</td>\n",
       "    </tr>\n",
       "    <tr>\n",
       "      <th>start_lat</th>\n",
       "      <td>779</td>\n",
       "    </tr>\n",
       "    <tr>\n",
       "      <th>start_lng</th>\n",
       "      <td>802</td>\n",
       "    </tr>\n",
       "    <tr>\n",
       "      <th>end_name</th>\n",
       "      <td>1292</td>\n",
       "    </tr>\n",
       "    <tr>\n",
       "      <th>end_lat</th>\n",
       "      <td>771</td>\n",
       "    </tr>\n",
       "    <tr>\n",
       "      <th>end_lng</th>\n",
       "      <td>767</td>\n",
       "    </tr>\n",
       "  </tbody>\n",
       "</table>\n",
       "</div>"
      ],
      "text/plain": [
       "            Num. of unique values\n",
       "start_name                   1288\n",
       "start_lat                     779\n",
       "start_lng                     802\n",
       "end_name                     1292\n",
       "end_lat                       771\n",
       "end_lng                       767"
      ]
     },
     "execution_count": 46,
     "metadata": {},
     "output_type": "execute_result"
    }
   ],
   "source": [
    "rides_homogenized[\n",
    "    [\"start_name\", \"start_lat\", \"start_lng\", \"end_name\", \"end_lat\", \"end_lng\"]\n",
    "].nunique().rename(\"Num. of unique values\").to_frame()"
   ]
  },
  {
   "cell_type": "markdown",
   "id": "1b7d5e31",
   "metadata": {},
   "source": [
    "It is by no means perfect, but it is be good enough for analysis. Some further study on the actual station names and ids, as well as their locations, could help make the data more congruent with real life. For the time being, lets save the progress made so far"
   ]
  },
  {
   "cell_type": "code",
   "execution_count": 47,
   "id": "b2e4aff5",
   "metadata": {},
   "outputs": [],
   "source": [
    "rides_clean = rides_homogenized.copy()\n",
    "del rides_complete"
   ]
  },
  {
   "cell_type": "markdown",
   "id": "6977574e",
   "metadata": {
    "tags": []
   },
   "source": [
    "# Feature Engineering <a name=\"feature\"></a>\n",
    "\n",
    "There are a couple fields that might be useful to have, such as the date for each trip (without the time), the day of week when it happened and the distance traveled. The next subsections are dedicated to these fields. \n",
    "\n",
    "## Date <a name=\"date\"></a>\n",
    "\n",
    "We already have a datetime object from which we can extract the date."
   ]
  },
  {
   "cell_type": "code",
   "execution_count": 48,
   "id": "86db1d52",
   "metadata": {},
   "outputs": [],
   "source": [
    "rides_clean[\"date\"] = rides_clean[\"start_time\"].dt.date"
   ]
  },
  {
   "cell_type": "markdown",
   "id": "97d27742",
   "metadata": {},
   "source": [
    "## Duration <a name=\"duration\"></a>\n",
    "\n",
    "Duration is how much time passed from the moment the ride started to the moment it ended. We already have the values for these moments so we just need their difference."
   ]
  },
  {
   "cell_type": "code",
   "execution_count": 49,
   "id": "3f6e143d",
   "metadata": {},
   "outputs": [],
   "source": [
    "rides_clean[\"duration\"] = rides_clean[\"end_time\"] - rides_clean[\"start_time\"]"
   ]
  },
  {
   "cell_type": "markdown",
   "id": "5ec45971",
   "metadata": {},
   "source": [
    "For consistency we check for any negative durations, since they don't really make sense in this scenario, as well as really long ones. The following lines show that there was a 23 day ride and, more importantly, there is in fact at least one trip with a negative duration."
   ]
  },
  {
   "cell_type": "code",
   "execution_count": 50,
   "id": "64b91e7c",
   "metadata": {},
   "outputs": [
    {
     "data": {
      "text/plain": [
       "Timedelta('23 days 20:34:04')"
      ]
     },
     "execution_count": 50,
     "metadata": {},
     "output_type": "execute_result"
    }
   ],
   "source": [
    "rides_clean[\"duration\"].max()"
   ]
  },
  {
   "cell_type": "code",
   "execution_count": 51,
   "id": "76230792",
   "metadata": {},
   "outputs": [
    {
     "data": {
      "text/plain": [
       "Timedelta('-8 days +19:26:39')"
      ]
     },
     "execution_count": 51,
     "metadata": {},
     "output_type": "execute_result"
    }
   ],
   "source": [
    "rides_clean[\"duration\"].min()"
   ]
  },
  {
   "cell_type": "markdown",
   "id": "34c62807",
   "metadata": {},
   "source": [
    "Since there is at least one account of a trip with a negative duration, it is worth studying if this is an extended issue or if it is just a few exceptions. The percentage of trips that have a negative duration is the following"
   ]
  },
  {
   "cell_type": "code",
   "execution_count": 52,
   "id": "c6974e01",
   "metadata": {},
   "outputs": [
    {
     "data": {
      "text/plain": [
       "0.0017345362657185909"
      ]
     },
     "execution_count": 52,
     "metadata": {},
     "output_type": "execute_result"
    }
   ],
   "source": [
    "# calculates the number of rows with a negative duration and divides by\n",
    "# total length of the dataframe. This multiplied by 100 gives the %\n",
    "\n",
    "len(rides_clean[rides_clean[\"duration\"] < timedelta(seconds=0)]) / len(\n",
    "    rides_clean\n",
    ") * 100"
   ]
  },
  {
   "cell_type": "markdown",
   "id": "3520c91f",
   "metadata": {},
   "source": [
    "Since the percentage is minimal, we can safely discard these records. Also, the bike sharing website suggests that the data should be purged of rows with a duration of less than 60 seconds, since those could be fake starts or servicing tasks made by the staff. The next line of code removes both cases at once."
   ]
  },
  {
   "cell_type": "code",
   "execution_count": 53,
   "id": "3e4ef7be",
   "metadata": {},
   "outputs": [],
   "source": [
    "rides_clean = rides_clean[rides_clean[\"duration\"] >= timedelta(seconds=60)]"
   ]
  },
  {
   "cell_type": "markdown",
   "id": "be3a2772",
   "metadata": {},
   "source": [
    "And for visualization purposes the duration as an int field might make things easier, so the next line calculates the duration of the ride in minutes."
   ]
  },
  {
   "cell_type": "code",
   "execution_count": 54,
   "id": "a3131894",
   "metadata": {},
   "outputs": [],
   "source": [
    "rides_clean[\"minutes\"] = rides_clean[\"duration\"].apply(\n",
    "    lambda x: round(x.total_seconds() / 60, 1)\n",
    ")"
   ]
  },
  {
   "cell_type": "markdown",
   "id": "07e60263",
   "metadata": {},
   "source": [
    "## Day of Week <a name=\"dow\"></a>"
   ]
  },
  {
   "cell_type": "markdown",
   "id": "fd4d66b8",
   "metadata": {},
   "source": [
    "Different types of users might use the bikes on different days of the week. To test this we will need to know the day of the week for each trip. The date for the start of the trip is used as day of week."
   ]
  },
  {
   "cell_type": "code",
   "execution_count": 55,
   "id": "0a955045",
   "metadata": {},
   "outputs": [],
   "source": [
    "# relation between  numeric days of week and their names\n",
    "days = {\n",
    "    0: \"Monday\",\n",
    "    1: \"Tuesday\",\n",
    "    2: \"Wednesday\",\n",
    "    3: \"Thursday\",\n",
    "    4: \"Friday\",\n",
    "    5: \"Saturday\",\n",
    "    6: \"Sunday\",\n",
    "}\n",
    "\n",
    "# categorical order for day of week\n",
    "days_order = [\n",
    "    \"Monday\",\n",
    "    \"Tuesday\",\n",
    "    \"Wednesday\",\n",
    "    \"Thursday\",\n",
    "    \"Friday\",\n",
    "    \"Saturday\",\n",
    "    \"Sunday\",\n",
    "]"
   ]
  },
  {
   "cell_type": "code",
   "execution_count": 56,
   "id": "dae437ad",
   "metadata": {},
   "outputs": [],
   "source": [
    "# extracts day of week from start_time, maps to day name and imposes an order\n",
    "rides_clean[\"day_of_week\"] = (\n",
    "    rides_clean[\"start_time\"]\n",
    "    .dt.weekday.map(days)\n",
    "    .astype(pd.api.types.CategoricalDtype(categories=days_order, ordered=True))\n",
    ")"
   ]
  },
  {
   "cell_type": "markdown",
   "id": "36f3bc5a",
   "metadata": {},
   "source": [
    "## Distance Traveled <a name=\"distance\"></a>"
   ]
  },
  {
   "cell_type": "markdown",
   "id": "dcb664a4",
   "metadata": {},
   "source": [
    "The distance from start to end station can be found using Pythagoras theorem,  but to convert from latitudes and longitudes to km it requires an additional step. \n",
    "\n",
    "### Latitude\n",
    "The north-south location is determined by its latitude, which is measured from 0° at the equator to $\\pm$90° at the poles. \n",
    "The vertical distance, $d_{lat}$, approximating the Earth as a perfect sphere, is given by Earth's radius, $R\\approx 6371 km$, and by the difference in latitude, $\\Delta\\phi$, measured in radians, that is\n",
    "\n",
    "<p style=\"text-align: center;\"> $d_{lat} = \\frac{\\pi}{180}R\\Delta\\phi$ </p>\n",
    "\n",
    "It comes down to around 111.195 km per degree of latitude.\n",
    "\n",
    "### Longitude\n",
    "For longitude - that is, the east-west location - it is a little bit trickier: since the distance between each longitude line decreases as you approach the poles, there is an additional factor. An easy way to understand it is that it is basically the same as for latitude, we are after all measuring an arc length, but the radius of the circle is smaller. It is smaller, in fact, by a factor of $cos(\\phi)$. So, if $\\theta$ is is the longitude, then the distance between two given longitudes is\n",
    "\n",
    "<p style=\"text-align: center;\"> $d_{lng} = \\frac{\\pi}{180}R\\Delta\\theta cos(\\phi)$ </p>\n",
    "\n",
    "Which, again, can be simplified to 111.195$cos(\\phi)$ km per degree of longitude.\n",
    "\n",
    "The distance $d$ travelled, then, is approximately\n",
    "\n",
    "<p style=\"text-align: center;\"> $d\\approx \\sqrt{d_{lat}^2+d_{lng}^2}$ </p>\n",
    "\n",
    "and it is valid for short distances, where we can neglect the curvature of the earth. Distances within a city certainly meet this criteria.\n",
    "\n",
    "So lets define some functions to make this a bit cleaner."
   ]
  },
  {
   "cell_type": "code",
   "execution_count": 57,
   "id": "b64bf2e6-9ca5-49e7-99b8-81939ed4568c",
   "metadata": {},
   "outputs": [
    {
     "data": {
      "text/plain": [
       "0          41.886868\n",
       "1          41.900972\n",
       "2          41.978336\n",
       "3          41.886868\n",
       "4          41.911707\n",
       "             ...    \n",
       "5829079    41.929563\n",
       "5829080    41.866512\n",
       "5829081    41.929563\n",
       "5829082    41.929563\n",
       "5829083    41.973348\n",
       "Name: start_lat, Length: 5694018, dtype: float64"
      ]
     },
     "execution_count": 57,
     "metadata": {},
     "output_type": "execute_result"
    }
   ],
   "source": [
    "rides_clean[\"start_lat\"]"
   ]
  },
  {
   "cell_type": "code",
   "execution_count": 58,
   "id": "1b028744",
   "metadata": {},
   "outputs": [],
   "source": [
    "def lat_distance(df):\n",
    "    # returns the vertical distance travelled\n",
    "    return (111.195 * (df[\"end_lat\"] - df[\"start_lat\"])) ** 2\n",
    "\n",
    "\n",
    "def lng_distance(df):\n",
    "    # returns the horizontal distance travelled\n",
    "    cos = np.cos(df[\"start_lat\"])\n",
    "    return (111.195 * cos * (df[\"end_lng\"] - df[\"start_lng\"])) ** 2\n",
    "\n",
    "\n",
    "def coord_distance(df):\n",
    "    # basically Pythagoras theorem for the distances calculated\n",
    "    # from the coordinates\n",
    "    distance_squared = lat_distance(df) + lng_distance(df)\n",
    "    return np.sqrt(distance_squared)"
   ]
  },
  {
   "cell_type": "markdown",
   "id": "050288bd",
   "metadata": {},
   "source": [
    "also, we only need the precision to go as far as meters, so the distance is rounded to 3 decimal places. \n",
    "\n",
    "For a quick verification we find the range of distances traveled. It goes from 0 km, for trips that ended right where they started, to 42.657 km, which is a reasonable distance to ride in a few hours."
   ]
  },
  {
   "cell_type": "code",
   "execution_count": 59,
   "id": "5067e251-6dc3-4a62-9b24-7b1b1d688a25",
   "metadata": {},
   "outputs": [],
   "source": [
    "rides_clean[\"distance\"] = coord_distance(rides_clean)"
   ]
  },
  {
   "cell_type": "code",
   "execution_count": 60,
   "id": "e0e682dc",
   "metadata": {},
   "outputs": [
    {
     "data": {
      "text/html": [
       "<div>\n",
       "<style scoped>\n",
       "    .dataframe tbody tr th:only-of-type {\n",
       "        vertical-align: middle;\n",
       "    }\n",
       "\n",
       "    .dataframe tbody tr th {\n",
       "        vertical-align: top;\n",
       "    }\n",
       "\n",
       "    .dataframe thead th {\n",
       "        text-align: right;\n",
       "    }\n",
       "</style>\n",
       "<table border=\"1\" class=\"dataframe\">\n",
       "  <thead>\n",
       "    <tr style=\"text-align: right;\">\n",
       "      <th></th>\n",
       "      <th>Distance traveled in km</th>\n",
       "    </tr>\n",
       "  </thead>\n",
       "  <tbody>\n",
       "    <tr>\n",
       "      <th>min</th>\n",
       "      <td>0.000000</td>\n",
       "    </tr>\n",
       "    <tr>\n",
       "      <th>max</th>\n",
       "      <td>42.657084</td>\n",
       "    </tr>\n",
       "  </tbody>\n",
       "</table>\n",
       "</div>"
      ],
      "text/plain": [
       "     Distance traveled in km\n",
       "min                 0.000000\n",
       "max                42.657084"
      ]
     },
     "execution_count": 60,
     "metadata": {},
     "output_type": "execute_result"
    }
   ],
   "source": [
    "rides_clean[\"distance\"].agg([\"min\", \"max\"]).rename(\"Distance traveled in km\").to_frame()"
   ]
  },
  {
   "cell_type": "markdown",
   "id": "dbfc07dc",
   "metadata": {},
   "source": [
    "## Speed <a name=\"speed\"></a>\n",
    "\n",
    "It might be interesting to check if there are differences between the average speeds of members vs casual users. The average speed of each trip is given by the total distance traveled divided by the duration of the trip. Since the data has been purged from trips with a duration of less than a minute, there is no danger of dividing by zero."
   ]
  },
  {
   "cell_type": "code",
   "execution_count": 61,
   "id": "283ba6bf",
   "metadata": {},
   "outputs": [],
   "source": [
    "# calculates the speed in km/minute, converts to km/hour and rounds to 2 decimal places\n",
    "rides_clean.loc[:, \"speed\"] = round(\n",
    "    60 * rides_clean[\"distance\"] / rides_clean[\"minutes\"], 2\n",
    ")"
   ]
  },
  {
   "cell_type": "markdown",
   "id": "af986f15-bd04-4ad3-bfba-da7ce753cb78",
   "metadata": {},
   "source": [
    "The following shows the minimum speed was 0, which would be the case for any trip ending where it started. The maximum speed is 1844.58 km/h which is impossible for a human, even for a car, so there are definitely some outliers that have to be sorted out. "
   ]
  },
  {
   "cell_type": "code",
   "execution_count": 62,
   "id": "8892692a-89ea-4feb-8b16-fffe2e943b6e",
   "metadata": {},
   "outputs": [
    {
     "data": {
      "text/html": [
       "<div>\n",
       "<style scoped>\n",
       "    .dataframe tbody tr th:only-of-type {\n",
       "        vertical-align: middle;\n",
       "    }\n",
       "\n",
       "    .dataframe tbody tr th {\n",
       "        vertical-align: top;\n",
       "    }\n",
       "\n",
       "    .dataframe thead th {\n",
       "        text-align: right;\n",
       "    }\n",
       "</style>\n",
       "<table border=\"1\" class=\"dataframe\">\n",
       "  <thead>\n",
       "    <tr style=\"text-align: right;\">\n",
       "      <th></th>\n",
       "      <th>Speed in km/h</th>\n",
       "    </tr>\n",
       "  </thead>\n",
       "  <tbody>\n",
       "    <tr>\n",
       "      <th>min</th>\n",
       "      <td>0.00</td>\n",
       "    </tr>\n",
       "    <tr>\n",
       "      <th>max</th>\n",
       "      <td>1844.61</td>\n",
       "    </tr>\n",
       "  </tbody>\n",
       "</table>\n",
       "</div>"
      ],
      "text/plain": [
       "     Speed in km/h\n",
       "min           0.00\n",
       "max        1844.61"
      ]
     },
     "execution_count": 62,
     "metadata": {},
     "output_type": "execute_result"
    }
   ],
   "source": [
    "rides_clean[\"speed\"].agg([\"min\", \"max\"]).rename(\"Speed in km/h\").to_frame()"
   ]
  },
  {
   "cell_type": "code",
   "execution_count": 63,
   "id": "264d2bf5",
   "metadata": {},
   "outputs": [],
   "source": [
    "rides_with_features = rides_clean.copy()\n",
    "del rides_homogenized"
   ]
  },
  {
   "cell_type": "markdown",
   "id": "5216d45f",
   "metadata": {},
   "source": [
    "# Outliers <a name=\"outliers\"></a>\n",
    "\n",
    "There is a 23 day trip in the data, as well as a customer traveling at 1844 km/h. This is enough evidence to suggest there may be some outliers lying around. \n",
    "\n",
    "### duration, speed and distance <a name=\"dynamics\"></a>\n",
    "\n",
    "The next tables show some descriptive summary statistics for duration in minutes, distance traveled and speed.\n",
    "\n",
    "We see that the mean duration is considerably far apart from its median, suggesting there data for this field is highly skewed to the right. This is further verified by the really high standard deviation. Speed is better, but still has a somewhat large standard deviation. The plots below clarify a bit what is the situation with the speeds. For the distance, again, the difference between the mean and the median is considerable, and the standard deviation somewhat large, but nothing huge. \n",
    "\n",
    "The main concern here is then the duration, although all three fields need a closer look."
   ]
  },
  {
   "cell_type": "code",
   "execution_count": 64,
   "id": "a125804a",
   "metadata": {
    "scrolled": true
   },
   "outputs": [
    {
     "data": {
      "text/html": [
       "<div>\n",
       "<style scoped>\n",
       "    .dataframe tbody tr th:only-of-type {\n",
       "        vertical-align: middle;\n",
       "    }\n",
       "\n",
       "    .dataframe tbody tr th {\n",
       "        vertical-align: top;\n",
       "    }\n",
       "\n",
       "    .dataframe thead th {\n",
       "        text-align: right;\n",
       "    }\n",
       "</style>\n",
       "<table border=\"1\" class=\"dataframe\">\n",
       "  <thead>\n",
       "    <tr style=\"text-align: right;\">\n",
       "      <th></th>\n",
       "      <th>minutes</th>\n",
       "      <th>speed</th>\n",
       "      <th>distance</th>\n",
       "    </tr>\n",
       "  </thead>\n",
       "  <tbody>\n",
       "    <tr>\n",
       "      <th>mean</th>\n",
       "      <td>16.448790</td>\n",
       "      <td>9.277090</td>\n",
       "      <td>1.916602</td>\n",
       "    </tr>\n",
       "    <tr>\n",
       "      <th>median</th>\n",
       "      <td>10.400000</td>\n",
       "      <td>9.020000</td>\n",
       "      <td>1.352588</td>\n",
       "    </tr>\n",
       "    <tr>\n",
       "      <th>std</th>\n",
       "      <td>38.006274</td>\n",
       "      <td>6.885168</td>\n",
       "      <td>1.837936</td>\n",
       "    </tr>\n",
       "  </tbody>\n",
       "</table>\n",
       "</div>"
      ],
      "text/plain": [
       "          minutes     speed  distance\n",
       "mean    16.448790  9.277090  1.916602\n",
       "median  10.400000  9.020000  1.352588\n",
       "std     38.006274  6.885168  1.837936"
      ]
     },
     "execution_count": 64,
     "metadata": {},
     "output_type": "execute_result"
    }
   ],
   "source": [
    "rides_with_features[[\"minutes\", \"speed\", \"distance\"]].agg([\"mean\", \"median\", \"std\"])"
   ]
  },
  {
   "cell_type": "markdown",
   "id": "66f222cc",
   "metadata": {},
   "source": [
    "The next plots show, for the same three variables, its interquartile ranges, with the boxplots, as well as the overall distribution of their values, shown in the histograms. \n",
    "\n",
    "It is immediately noticeable that all 3 variables have numerous and significant outliers, the most dramatic being the duration. A close up for each plot shows the main body of the data."
   ]
  },
  {
   "cell_type": "code",
   "execution_count": 65,
   "id": "ba718329",
   "metadata": {},
   "outputs": [
    {
     "data": {
      "text/plain": [
       "(0.0, 15.0)"
      ]
     },
     "execution_count": 65,
     "metadata": {},
     "output_type": "execute_result"
    },
    {
     "data": {
      "image/png": "[encoded data removed]",
      "text/plain": [
       "<Figure size 864x720 with 12 Axes>"
      ]
     },
     "metadata": {
      "needs_background": "light"
     },
     "output_type": "display_data"
    }
   ],
   "source": [
    "fig, ax = plt.subplots(3, 2)\n",
    "\n",
    "fig.set_figwidth(12)\n",
    "fig.set_figheight(10)\n",
    "\n",
    "### boxplots\n",
    "sns.boxplot(ax=ax[0, 0], data=rides_with_features[\"minutes\"])\n",
    "sns.boxplot(ax=ax[1, 0], data=rides_with_features[\"speed\"])\n",
    "sns.boxplot(ax=ax[2, 0], data=rides_with_features[\"distance\"])\n",
    "\n",
    "# formatting\n",
    "ax[0, 0].set_ylabel(\"Duration\", size=15)\n",
    "ax[1, 0].set_ylabel(\"Speed\", size=15)\n",
    "ax[2, 0].set_ylabel(\"Distance\", size=15)\n",
    "\n",
    "\n",
    "## boxplot close ups\n",
    "ax1 = plt.axes([0.17, 0.71, 0.1, 0.12])\n",
    "ax2 = plt.axes([0.17, 0.46, 0.1, 0.12])\n",
    "ax3 = plt.axes([0.17, 0.18, 0.1, 0.12])\n",
    "\n",
    "# minutes\n",
    "sns.boxplot(\n",
    "    ax=ax1, data=rides_with_features[rides_with_features[\"minutes\"] < 120][\"minutes\"]\n",
    ")\n",
    "\n",
    "# speed\n",
    "sns.boxplot(\n",
    "    ax=ax2, data=rides_with_features[rides_with_features[\"speed\"] < 40][\"speed\"]\n",
    ")\n",
    "\n",
    "# distance\n",
    "sns.boxplot(\n",
    "    ax=ax3, data=rides_with_features[rides_with_features[\"distance\"] < 40][\"distance\"]\n",
    ")\n",
    "\n",
    "# formatting\n",
    "ax1.set_ylim(0, 120)\n",
    "ax2.set_ylim(0, 40)\n",
    "ax3.set_ylim(0, 10)\n",
    "\n",
    "\n",
    "### histograms\n",
    "sns.histplot(ax=ax[0, 1], data=rides_with_features[\"minutes\"], bins=50)\n",
    "sns.histplot(ax=ax[1, 1], data=rides_with_features[\"speed\"], bins=50)\n",
    "sns.histplot(ax=ax[2, 1], data=rides_with_features[\"distance\"], bins=50)\n",
    "\n",
    "## histogram close ups\n",
    "ax4 = plt.axes([0.69, 0.72, 0.15, 0.12])\n",
    "ax5 = plt.axes([0.69, 0.46, 0.15, 0.12])\n",
    "ax6 = plt.axes([0.68, 0.18, 0.15, 0.12])\n",
    "\n",
    "# minutes\n",
    "sns.histplot(\n",
    "    ax=ax4,\n",
    "    data=rides_with_features[rides_with_features[\"minutes\"] < 120][\"minutes\"],\n",
    "    bins=50,\n",
    ")\n",
    "\n",
    "# speed\n",
    "sns.histplot(\n",
    "    ax=ax5,\n",
    "    data=rides_with_features[rides_with_features[\"speed\"] < 40][\"speed\"],\n",
    "    bins=50,\n",
    ")\n",
    "\n",
    "# distance\n",
    "sns.histplot(\n",
    "    ax=ax6,\n",
    "    data=rides_with_features[rides_with_features[\"distance\"] < 40][\"distance\"],\n",
    "    bins=50,\n",
    ")\n",
    "\n",
    "# formatting\n",
    "ax4.set_xlim(0, 120)\n",
    "ax5.set_xlim(0, 40)\n",
    "ax6.set_xlim(0, 15)"
   ]
  },
  {
   "cell_type": "markdown",
   "id": "230ae8bf",
   "metadata": {},
   "source": [
    "Since we are interested in the majority of users, we can trim the data to avoid outliers. The code below shows that by keeping the records that lie within 3 standard deviations from the mean for duration and speed, as well as trips with a length of less than 10 km we would be dropping at most 1.944% of the data (at most because some rows could be outside more than one of these ranges and would count multiple times towards the sum). "
   ]
  },
  {
   "cell_type": "code",
   "execution_count": 66,
   "id": "bd26fc6e",
   "metadata": {},
   "outputs": [
    {
     "data": {
      "text/plain": [
       "1.9451115187904218"
      ]
     },
     "execution_count": 66,
     "metadata": {},
     "output_type": "execute_result"
    }
   ],
   "source": [
    "# count number of trips beyond the given maximum value\n",
    "mins = len(rides_with_features[rides_with_features[\"minutes\"] > 120])\n",
    "speed = len(rides_with_features[rides_with_features[\"speed\"] > 24])\n",
    "dist = len(rides_with_features[rides_with_features[\"distance\"] > 10])\n",
    "\n",
    "# get the percentage (not exacly the % but close) of the trips outside the given ranges\n",
    "100 * (mins + speed + dist) / len(rides_with_features)"
   ]
  },
  {
   "cell_type": "markdown",
   "id": "9410ee58",
   "metadata": {},
   "source": [
    "So lets proceed with filtering out those records (I didn't use exacly 3 standard deviations since part of the tails of the histograms were high enough to stil be statistically significant. For the duration variable it was the opposite, so I used less than 3 std)"
   ]
  },
  {
   "cell_type": "code",
   "execution_count": 67,
   "id": "1e50c4fb",
   "metadata": {},
   "outputs": [],
   "source": [
    "# filter out the outliers\n",
    "rides_filtered = rides_with_features[rides_with_features[\"minutes\"] <= 100]\n",
    "rides_filtered = rides_filtered[rides_filtered[\"speed\"] <= 30]\n",
    "rides_filtered = rides_filtered[rides_filtered[\"distance\"] <= 10]\n",
    "del rides_clean"
   ]
  },
  {
   "cell_type": "markdown",
   "id": "290b67fa-fc33-4c61-bc9a-680a49c86b84",
   "metadata": {},
   "source": [
    "This is how the distributions look after filtering outliers and trimming the data."
   ]
  },
  {
   "cell_type": "code",
   "execution_count": 68,
   "id": "a8405439",
   "metadata": {},
   "outputs": [
    {
     "data": {
      "text/plain": [
       "Text(0, 0.5, 'Distance')"
      ]
     },
     "execution_count": 68,
     "metadata": {},
     "output_type": "execute_result"
    },
    {
     "data": {
      "image/png": "[encoded data removed]",
      "text/plain": [
       "<Figure size 864x720 with 6 Axes>"
      ]
     },
     "metadata": {
      "needs_background": "light"
     },
     "output_type": "display_data"
    }
   ],
   "source": [
    "fig, ax = plt.subplots(3, 2)\n",
    "\n",
    "fig.set_figwidth(12)\n",
    "fig.set_figheight(10)\n",
    "\n",
    "## boxplots\n",
    "sns.boxplot(ax=ax[0, 0], data=rides_filtered, x=\"minutes\")\n",
    "sns.boxplot(ax=ax[1, 0], data=rides_filtered, x=\"speed\")\n",
    "sns.boxplot(ax=ax[2, 0], data=rides_filtered, x=\"distance\")\n",
    "\n",
    "## histograms\n",
    "sns.histplot(ax=ax[0, 1], data=rides_filtered[\"minutes\"], bins=50)\n",
    "sns.histplot(ax=ax[1, 1], data=rides_filtered[\"speed\"], bins=50)\n",
    "sns.histplot(ax=ax[2, 1], data=rides_filtered[\"distance\"], bins=50)\n",
    "\n",
    "# plot formatting\n",
    "ax[0, 0].set_ylabel(\"Duration\", size=15)\n",
    "ax[1, 0].set_ylabel(\"Speed\", size=15)\n",
    "ax[2, 0].set_ylabel(\"Distance\", size=15)"
   ]
  },
  {
   "cell_type": "markdown",
   "id": "737143c0",
   "metadata": {},
   "source": [
    "### Coordinates <a name=\"start_coords\"></a>"
   ]
  },
  {
   "cell_type": "markdown",
   "id": "1966e79f-7c07-48fe-8a70-eb103ee7e14c",
   "metadata": {},
   "source": [
    "For completeness we also take a look at the stations coordinates, both start and end"
   ]
  },
  {
   "cell_type": "code",
   "execution_count": 69,
   "id": "dfd82557",
   "metadata": {
    "scrolled": true
   },
   "outputs": [
    {
     "data": {
      "text/html": [
       "<div>\n",
       "<style scoped>\n",
       "    .dataframe tbody tr th:only-of-type {\n",
       "        vertical-align: middle;\n",
       "    }\n",
       "\n",
       "    .dataframe tbody tr th {\n",
       "        vertical-align: top;\n",
       "    }\n",
       "\n",
       "    .dataframe thead th {\n",
       "        text-align: right;\n",
       "    }\n",
       "</style>\n",
       "<table border=\"1\" class=\"dataframe\">\n",
       "  <thead>\n",
       "    <tr style=\"text-align: right;\">\n",
       "      <th></th>\n",
       "      <th>start_lat</th>\n",
       "      <th>end_lat</th>\n",
       "      <th>start_lng</th>\n",
       "      <th>end_lng</th>\n",
       "    </tr>\n",
       "  </thead>\n",
       "  <tbody>\n",
       "    <tr>\n",
       "      <th>mean</th>\n",
       "      <td>41.902304</td>\n",
       "      <td>41.902532</td>\n",
       "      <td>-87.647846</td>\n",
       "      <td>-87.648026</td>\n",
       "    </tr>\n",
       "    <tr>\n",
       "      <th>median</th>\n",
       "      <td>41.900000</td>\n",
       "      <td>41.900000</td>\n",
       "      <td>-87.644107</td>\n",
       "      <td>-87.644336</td>\n",
       "    </tr>\n",
       "    <tr>\n",
       "      <th>std</th>\n",
       "      <td>0.045777</td>\n",
       "      <td>0.045944</td>\n",
       "      <td>0.028996</td>\n",
       "      <td>0.029140</td>\n",
       "    </tr>\n",
       "    <tr>\n",
       "      <th>min</th>\n",
       "      <td>41.640000</td>\n",
       "      <td>41.600000</td>\n",
       "      <td>-87.840000</td>\n",
       "      <td>-87.920000</td>\n",
       "    </tr>\n",
       "    <tr>\n",
       "      <th>max</th>\n",
       "      <td>42.070000</td>\n",
       "      <td>42.130000</td>\n",
       "      <td>-87.520000</td>\n",
       "      <td>-87.500000</td>\n",
       "    </tr>\n",
       "  </tbody>\n",
       "</table>\n",
       "</div>"
      ],
      "text/plain": [
       "        start_lat    end_lat  start_lng    end_lng\n",
       "mean    41.902304  41.902532 -87.647846 -87.648026\n",
       "median  41.900000  41.900000 -87.644107 -87.644336\n",
       "std      0.045777   0.045944   0.028996   0.029140\n",
       "min     41.640000  41.600000 -87.840000 -87.920000\n",
       "max     42.070000  42.130000 -87.520000 -87.500000"
      ]
     },
     "execution_count": 69,
     "metadata": {},
     "output_type": "execute_result"
    }
   ],
   "source": [
    "rides_filtered[[\"start_lat\", \"end_lat\", \"start_lng\", \"end_lng\"]].agg(\n",
    "    [\"mean\", \"median\", \"std\", \"min\", \"max\"]\n",
    ")"
   ]
  },
  {
   "cell_type": "code",
   "execution_count": 70,
   "id": "42ddeee7",
   "metadata": {},
   "outputs": [
    {
     "data": {
      "image/png": "[encoded data removed]",
      "text/plain": [
       "<Figure size 720x720 with 4 Axes>"
      ]
     },
     "metadata": {
      "needs_background": "light"
     },
     "output_type": "display_data"
    }
   ],
   "source": [
    "fig, ax = plt.subplots(2, 2, sharey=True)\n",
    "\n",
    "fig.set_figwidth(10)\n",
    "fig.set_figheight(10)\n",
    "\n",
    "# boxplots\n",
    "sns.boxplot(ax=ax[0, 0], data=rides_filtered[\"start_lat\"])\n",
    "sns.boxplot(ax=ax[1, 0], data=rides_filtered[\"end_lat\"])\n",
    "\n",
    "# histograms\n",
    "sns.histplot(ax=ax[0, 1], data=rides_filtered, y=\"start_lat\", bins=50)\n",
    "sns.histplot(ax=ax[1, 1], data=rides_filtered, y=\"end_lat\", bins=50)\n",
    "\n",
    "# formatting\n",
    "ax[0, 0].set_ylim(41.55, 42.15)\n",
    "ax[1, 0].set_ylim(41.55, 42.15)\n",
    "ax[0, 0].set_ylabel(\"Start Latitude\", size=14)\n",
    "ax[1, 0].set_ylabel(\"End Latitude\", size=14)\n",
    "\n",
    "plt.tight_layout()"
   ]
  },
  {
   "cell_type": "code",
   "execution_count": 71,
   "id": "47869bd4",
   "metadata": {},
   "outputs": [
    {
     "data": {
      "image/png": "[encoded data removed]",
      "text/plain": [
       "<Figure size 720x720 with 4 Axes>"
      ]
     },
     "metadata": {
      "needs_background": "light"
     },
     "output_type": "display_data"
    }
   ],
   "source": [
    "fig, ax = plt.subplots(2, 2, sharex=True)\n",
    "\n",
    "fig.set_figwidth(10)\n",
    "fig.set_figheight(10)\n",
    "\n",
    "# histograms\n",
    "sns.histplot(ax=ax[0, 0], data=rides_filtered, x=\"start_lng\", bins=50)\n",
    "sns.histplot(ax=ax[0, 1], data=rides_filtered, x=\"end_lng\", bins=50)\n",
    "\n",
    "# boxplots\n",
    "sns.boxplot(ax=ax[1, 0], data=rides_filtered, x=\"start_lng\")\n",
    "sns.boxplot(ax=ax[1, 1], data=rides_filtered, x=\"end_lng\")\n",
    "\n",
    "# formatting\n",
    "ax[1, 0].set_xlim(-87.95, -87.45)\n",
    "ax[1, 1].set_xlim(-87.95, -87.45)\n",
    "ax[0, 0].set_title(\"Start Longitude\", size=14)\n",
    "ax[0, 1].set_title(\"End Longitude\", size=14)\n",
    "\n",
    "plt.tight_layout()"
   ]
  },
  {
   "cell_type": "markdown",
   "id": "c3515877",
   "metadata": {},
   "source": [
    "The range for the end station coordinates is larger than that of the start station's, and there are more evident outliers, especially for the longitude. To keep things simple we can restrict the range of coordinates to be that of the start stations."
   ]
  },
  {
   "cell_type": "code",
   "execution_count": 72,
   "id": "9a7eef0a",
   "metadata": {},
   "outputs": [],
   "source": [
    "# define ranges\n",
    "min_lat = rides_filtered[\"start_lat\"].min()\n",
    "max_lat = rides_filtered[\"start_lat\"].max()\n",
    "min_lng = rides_filtered[\"start_lng\"].min()\n",
    "max_lng = rides_filtered[\"start_lng\"].max()\n",
    "\n",
    "# filter by the ranges defined\n",
    "rides_filtered = rides_filtered[\n",
    "    (rides_filtered[\"end_lat\"] >= min_lat) & (rides_filtered[\"end_lat\"] <= max_lat)\n",
    "]\n",
    "rides_filtered = rides_filtered[\n",
    "    (rides_filtered[\"end_lng\"] >= min_lng) & (rides_filtered[\"end_lng\"] <= max_lng)\n",
    "]"
   ]
  },
  {
   "cell_type": "markdown",
   "id": "89976673",
   "metadata": {},
   "source": [
    "# Verification <a name=\"verification\"></a>"
   ]
  },
  {
   "cell_type": "markdown",
   "id": "9e667560",
   "metadata": {},
   "source": [
    "Now that we have a final cleaned version of the data it is a good time to verify that everything makes sense: there should be no missing values, the number of unique values for each field should be correct, and the ranges for the numeric variables should be within reason.\n",
    "\n",
    "The number of missing values is"
   ]
  },
  {
   "cell_type": "code",
   "execution_count": 73,
   "id": "ffaf7d0c",
   "metadata": {},
   "outputs": [
    {
     "data": {
      "text/plain": [
       "0"
      ]
     },
     "execution_count": 73,
     "metadata": {},
     "output_type": "execute_result"
    }
   ],
   "source": [
    "rides_filtered.isnull().sum().sum()"
   ]
  },
  {
   "cell_type": "markdown",
   "id": "198a72b4-8d06-42ee-845a-11e711547c89",
   "metadata": {},
   "source": [
    "As for the number of unique values, \n",
    "* the number of bike types is 3 and number of user types 2, as should be\n",
    "* start names and id's are a little bit high but, as mentioned earlier, this would need further clarification with the company\n",
    "* the number of start and end coordinates are reasonable for the number of stations + the electric bikes that need not be parked at any given station\n",
    "* there are 2 years, 12 months, 24 hours and 365 days in the last year."
   ]
  },
  {
   "cell_type": "code",
   "execution_count": 74,
   "id": "2d4a1064",
   "metadata": {},
   "outputs": [
    {
     "data": {
      "text/plain": [
       "trip_id        5590170\n",
       "bike_type            3\n",
       "start_time     4724002\n",
       "end_time       4736340\n",
       "start_name        1285\n",
       "start_id          1285\n",
       "end_name          1287\n",
       "end_id            1287\n",
       "start_lat          778\n",
       "start_lng          801\n",
       "end_lat            756\n",
       "end_lng            754\n",
       "usertype             2\n",
       "year                 2\n",
       "month               12\n",
       "time_of_day         24\n",
       "date               365\n",
       "duration          5944\n",
       "minutes            991\n",
       "day_of_week          7\n",
       "distance        236434\n",
       "speed             3001\n",
       "dtype: int64"
      ]
     },
     "execution_count": 74,
     "metadata": {},
     "output_type": "execute_result"
    }
   ],
   "source": [
    "rides_filtered.nunique()"
   ]
  },
  {
   "cell_type": "markdown",
   "id": "98e1ece0-82fc-4260-bc29-79b435f084a8",
   "metadata": {},
   "source": [
    "As for the numeric fields, all ranges look good."
   ]
  },
  {
   "cell_type": "code",
   "execution_count": 75,
   "id": "0ceeedd4-c0d7-4c81-9d61-19cd9ac2392e",
   "metadata": {},
   "outputs": [
    {
     "data": {
      "text/plain": [
       "Index(['trip_id', 'bike_type', 'start_time', 'end_time', 'start_name',\n",
       "       'start_id', 'end_name', 'end_id', 'start_lat', 'start_lng', 'end_lat',\n",
       "       'end_lng', 'usertype', 'year', 'month', 'time_of_day', 'date',\n",
       "       'duration', 'minutes', 'day_of_week', 'distance', 'speed'],\n",
       "      dtype='object')"
      ]
     },
     "execution_count": 75,
     "metadata": {},
     "output_type": "execute_result"
    }
   ],
   "source": [
    "rides_filtered.columns"
   ]
  },
  {
   "cell_type": "code",
   "execution_count": 76,
   "id": "82bcdc63",
   "metadata": {
    "scrolled": true
   },
   "outputs": [
    {
     "data": {
      "text/html": [
       "<div>\n",
       "<style scoped>\n",
       "    .dataframe tbody tr th:only-of-type {\n",
       "        vertical-align: middle;\n",
       "    }\n",
       "\n",
       "    .dataframe tbody tr th {\n",
       "        vertical-align: top;\n",
       "    }\n",
       "\n",
       "    .dataframe thead th {\n",
       "        text-align: right;\n",
       "    }\n",
       "</style>\n",
       "<table border=\"1\" class=\"dataframe\">\n",
       "  <thead>\n",
       "    <tr style=\"text-align: right;\">\n",
       "      <th></th>\n",
       "      <th>start_lat</th>\n",
       "      <th>start_lng</th>\n",
       "      <th>end_lat</th>\n",
       "      <th>end_lng</th>\n",
       "      <th>year</th>\n",
       "      <th>time_of_day</th>\n",
       "      <th>duration</th>\n",
       "      <th>minutes</th>\n",
       "      <th>distance</th>\n",
       "      <th>speed</th>\n",
       "    </tr>\n",
       "  </thead>\n",
       "  <tbody>\n",
       "    <tr>\n",
       "      <th>min</th>\n",
       "      <td>41.640000</td>\n",
       "      <td>-87.840000</td>\n",
       "      <td>41.640000</td>\n",
       "      <td>-87.840000</td>\n",
       "      <td>2022.000000</td>\n",
       "      <td>0.000000</td>\n",
       "      <td>0 days 00:01:00</td>\n",
       "      <td>1.000000</td>\n",
       "      <td>0.000000</td>\n",
       "      <td>0.000000</td>\n",
       "    </tr>\n",
       "    <tr>\n",
       "      <th>max</th>\n",
       "      <td>42.070000</td>\n",
       "      <td>-87.520000</td>\n",
       "      <td>42.070000</td>\n",
       "      <td>-87.520000</td>\n",
       "      <td>2023.000000</td>\n",
       "      <td>23.000000</td>\n",
       "      <td>0 days 01:40:03</td>\n",
       "      <td>100.000000</td>\n",
       "      <td>9.999998</td>\n",
       "      <td>30.000000</td>\n",
       "    </tr>\n",
       "    <tr>\n",
       "      <th>mean</th>\n",
       "      <td>41.902303</td>\n",
       "      <td>-87.647845</td>\n",
       "      <td>41.902531</td>\n",
       "      <td>-87.648025</td>\n",
       "      <td>2022.065202</td>\n",
       "      <td>14.213953</td>\n",
       "      <td>0 days 00:14:23.470401615</td>\n",
       "      <td>14.391231</td>\n",
       "      <td>1.852310</td>\n",
       "      <td>9.181801</td>\n",
       "    </tr>\n",
       "  </tbody>\n",
       "</table>\n",
       "</div>"
      ],
      "text/plain": [
       "      start_lat  start_lng    end_lat    end_lng         year  time_of_day  \\\n",
       "min   41.640000 -87.840000  41.640000 -87.840000  2022.000000     0.000000   \n",
       "max   42.070000 -87.520000  42.070000 -87.520000  2023.000000    23.000000   \n",
       "mean  41.902303 -87.647845  41.902531 -87.648025  2022.065202    14.213953   \n",
       "\n",
       "                      duration     minutes  distance      speed  \n",
       "min            0 days 00:01:00    1.000000  0.000000   0.000000  \n",
       "max            0 days 01:40:03  100.000000  9.999998  30.000000  \n",
       "mean 0 days 00:14:23.470401615   14.391231  1.852310   9.181801  "
      ]
     },
     "execution_count": 76,
     "metadata": {},
     "output_type": "execute_result"
    }
   ],
   "source": [
    "rides_filtered[\n",
    "    [\n",
    "        \"start_lat\",\n",
    "        \"start_lng\",\n",
    "        \"end_lat\",\n",
    "        \"end_lng\",\n",
    "        \"year\",\n",
    "        \"time_of_day\",\n",
    "        \"duration\",\n",
    "        \"minutes\",\n",
    "        \"distance\",\n",
    "        \"speed\",\n",
    "    ]\n",
    "].agg([\"min\", \"max\", \"mean\"])"
   ]
  },
  {
   "cell_type": "markdown",
   "id": "a3213841",
   "metadata": {},
   "source": [
    "Now that everything is filtered, consistent and clean we can clear up things a bit and go back the original datafrane name, just because."
   ]
  },
  {
   "cell_type": "code",
   "execution_count": 78,
   "id": "06c2772b",
   "metadata": {},
   "outputs": [],
   "source": [
    "rides = rides_filtered.copy()"
   ]
  },
  {
   "cell_type": "markdown",
   "id": "813f9826",
   "metadata": {},
   "source": [
    "After all these steps, as can be seen below, in total we lost %4.098 of the data during cleaning. That's not too bad. "
   ]
  },
  {
   "cell_type": "code",
   "execution_count": 79,
   "id": "16c6f9da",
   "metadata": {
    "tags": []
   },
   "outputs": [
    {
     "data": {
      "text/plain": [
       "4.098654265404307"
      ]
     },
     "execution_count": 79,
     "metadata": {},
     "output_type": "execute_result"
    }
   ],
   "source": [
    "(all_data.shape[0] - rides.shape[0]) / all_data.shape[0] * 100"
   ]
  },
  {
   "cell_type": "markdown",
   "id": "42fd642f-03b9-4972-aa33-510432562c2d",
   "metadata": {},
   "source": [
    "Lets clear the dataframes that won't be used anymore"
   ]
  },
  {
   "cell_type": "code",
   "execution_count": 80,
   "id": "931dbde4-0d15-40b0-b556-fb82c5552b20",
   "metadata": {},
   "outputs": [],
   "source": [
    "del  all_data, rides_with_features, rides_filtered"
   ]
  },
  {
   "cell_type": "markdown",
   "id": "2d9a17b1",
   "metadata": {},
   "source": [
    "And, finally, we need to save the data for analysis."
   ]
  },
  {
   "cell_type": "code",
   "execution_count": 81,
   "id": "56493ca9",
   "metadata": {},
   "outputs": [],
   "source": [
    "rides.to_csv(\"../data/cleaned/rides.csv\", index=False)"
   ]
  }
 ],
 "metadata": {
  "kernelspec": {
   "display_name": "Python 3 (ipykernel)",
   "language": "python",
   "name": "python3"
  },
  "language_info": {
   "codemirror_mode": {
    "name": "ipython",
    "version": 3
   },
   "file_extension": ".py",
   "mimetype": "text/x-python",
   "name": "python",
   "nbconvert_exporter": "python",
   "pygments_lexer": "ipython3",
   "version": "3.9.7"
  }
 },
 "nbformat": 4,
 "nbformat_minor": 5
}
