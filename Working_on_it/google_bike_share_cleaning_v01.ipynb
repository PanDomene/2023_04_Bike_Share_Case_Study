{
 "cells": [
  {
   "cell_type": "markdown",
   "id": "a04264a8-0315-451d-bb89-3d249b0279af",
   "metadata": {},
   "source": [
    "##### Last update: april 03 2023"
   ]
  },
  {
   "cell_type": "markdown",
   "id": "83f89cd7",
   "metadata": {
    "tags": []
   },
   "source": [
    "# Bike Share Project - Data Cleaning\n",
    "\n",
    "In this document the data is colected, cleaned and transformed for analysis."
   ]
  },
  {
   "cell_type": "markdown",
   "id": "7dab8af5-f89e-4c24-9ad9-3143913bec73",
   "metadata": {},
   "source": [
    "# Table of Contents\n",
    "\n",
    "1. [Imports](#imports)\n",
    "2. [Data Overview](#overview)\n",
    "3. [Data Cleaning](#cleaning)\n",
    "    * [Column re-naming](#renaming)\n",
    "    * [Missing Data](#missing)\n",
    "    * [Data Validation](#validation)\n",
    "4. [Feature Engineering](#feature)\n",
    "    * [Date](#date)\n",
    "    * [Duration](#duration)\n",
    "    * [Day of Week](#dow)\n",
    "    * [Distance Travelled](#distance)\n",
    "    * [Speed](#speed)\n",
    "5. [Outliers](#outliers)\n",
    "    * [Duration, speed and distance](#dynamics)\n",
    "    * [Start Station Coordinates](#start_coords)\n",
    "    * [End Station Coordinates](#end_coords)\n",
    "6. [Verification](#verification)"
   ]
  },
  {
   "cell_type": "markdown",
   "id": "df76e524-953c-41bb-8c41-57488d662aca",
   "metadata": {},
   "source": [
    "# Imports <a name=\"imports\"></a>\n",
    "\n",
    "The usual libraries"
   ]
  },
  {
   "cell_type": "code",
   "execution_count": 1,
   "id": "c1ecd79c",
   "metadata": {},
   "outputs": [],
   "source": [
    "from datetime import datetime, timedelta\n",
    "\n",
    "import matplotlib.pyplot as plt\n",
    "import numpy as np\n",
    "import pandas as pd\n",
    "import seaborn as sns\n",
    "\n",
    "%matplotlib inline"
   ]
  },
  {
   "cell_type": "markdown",
   "id": "e7c504ec",
   "metadata": {
    "tags": []
   },
   "source": [
    "# Data Overview <a name=\"overview\"></a>\n",
    "\n",
    "The data is stored in 12 datasets, each one concerning each of the previous 12 months from the date when this study was performed (March 2023). These contain in combination information for almost 6 million bike rides made between March 01 2022 and February 28 2023, which can be found [here](https://divvy-tripdata.s3.amazonaws.com/index.html). \n",
    "\n",
    "Every dataset has the same structure, with each row being a bike ride and having the following fields:\n",
    "\n",
    "* **trip_id**: a unique identifier for each ride made with one of the bikes.\n",
    "* **rideable_type**: the type of bike that was used. The types of bikes are electric, classic and docked.\n",
    "* **started_at, ended_at**: the time and date the ride started/ended. \n",
    "* **start_station_name, end_station_name**: the name of the station where the trip started/ended.\n",
    "* **start_station_id, end_station_id**: the code that identifies the station where the trip started/ended. \n",
    "* **start_lat, start_lng, end_lat, end_lng**: the coordinates for the station where the trip started/ended.\n",
    "* **member_casual**: the type of user, casual or member.\n",
    "\n",
    "To simplify the cleaning process, all 12 datasets are merged into a single, large dataframe. "
   ]
  },
  {
   "cell_type": "code",
   "execution_count": 2,
   "id": "61b85544",
   "metadata": {},
   "outputs": [],
   "source": [
    "import glob\n",
    "\n",
    "# collect all file names\n",
    "csv_files = glob.glob(\"../data/*.csv\")\n",
    "\n",
    "# read each of them into a pd.DataFrame and put them into a list\n",
    "df_list = [pd.read_csv(file) for file in csv_files]\n",
    "\n",
    "# concatenate all dataframes, to get a single, large\n",
    "# dataframe with all year's data\n",
    "all_data = pd.concat(df_list, ignore_index=True)"
   ]
  },
  {
   "cell_type": "markdown",
   "id": "67e3dea9",
   "metadata": {},
   "source": [
    "And a copy of it is made to avoid having to load and merge all files again if something happens."
   ]
  },
  {
   "cell_type": "code",
   "execution_count": 3,
   "id": "4c3056cc",
   "metadata": {},
   "outputs": [],
   "source": [
    "rides = all_data.copy()"
   ]
  },
  {
   "cell_type": "markdown",
   "id": "a1f80ad6",
   "metadata": {},
   "source": [
    "`rides` is our complete datafrme. The following shows the structure of the data."
   ]
  },
  {
   "cell_type": "code",
   "execution_count": 4,
   "id": "2f6efa5a",
   "metadata": {
    "scrolled": true
   },
   "outputs": [
    {
     "data": {
      "text/html": [
       "<div>\n",
       "<style scoped>\n",
       "    .dataframe tbody tr th:only-of-type {\n",
       "        vertical-align: middle;\n",
       "    }\n",
       "\n",
       "    .dataframe tbody tr th {\n",
       "        vertical-align: top;\n",
       "    }\n",
       "\n",
       "    .dataframe thead th {\n",
       "        text-align: right;\n",
       "    }\n",
       "</style>\n",
       "<table border=\"1\" class=\"dataframe\">\n",
       "  <thead>\n",
       "    <tr style=\"text-align: right;\">\n",
       "      <th></th>\n",
       "      <th>ride_id</th>\n",
       "      <th>rideable_type</th>\n",
       "      <th>started_at</th>\n",
       "      <th>ended_at</th>\n",
       "      <th>start_station_name</th>\n",
       "      <th>start_station_id</th>\n",
       "      <th>end_station_name</th>\n",
       "      <th>end_station_id</th>\n",
       "      <th>start_lat</th>\n",
       "      <th>start_lng</th>\n",
       "      <th>end_lat</th>\n",
       "      <th>end_lng</th>\n",
       "      <th>member_casual</th>\n",
       "    </tr>\n",
       "  </thead>\n",
       "  <tbody>\n",
       "    <tr>\n",
       "      <th>576672</th>\n",
       "      <td>7CA9C623CD371CF1</td>\n",
       "      <td>electric_bike</td>\n",
       "      <td>2022-04-24 20:31:59</td>\n",
       "      <td>2022-04-24 21:43:36</td>\n",
       "      <td>Wabash Ave &amp; Grand Ave</td>\n",
       "      <td>TA1307000117</td>\n",
       "      <td>NaN</td>\n",
       "      <td>NaN</td>\n",
       "      <td>41.891496</td>\n",
       "      <td>-87.626718</td>\n",
       "      <td>41.890000</td>\n",
       "      <td>-87.630000</td>\n",
       "      <td>member</td>\n",
       "    </tr>\n",
       "    <tr>\n",
       "      <th>2764717</th>\n",
       "      <td>DF271F947F3399A6</td>\n",
       "      <td>classic_bike</td>\n",
       "      <td>2022-07-27 06:54:13</td>\n",
       "      <td>2022-07-27 07:01:58</td>\n",
       "      <td>Clark St &amp; Elm St</td>\n",
       "      <td>TA1307000039</td>\n",
       "      <td>Clark St &amp; Lake St</td>\n",
       "      <td>KA1503000012</td>\n",
       "      <td>41.902973</td>\n",
       "      <td>-87.631280</td>\n",
       "      <td>41.886021</td>\n",
       "      <td>-87.630876</td>\n",
       "      <td>casual</td>\n",
       "    </tr>\n",
       "    <tr>\n",
       "      <th>3720423</th>\n",
       "      <td>CBA22642B94927E3</td>\n",
       "      <td>classic_bike</td>\n",
       "      <td>2022-09-08 16:30:08</td>\n",
       "      <td>2022-09-08 16:33:51</td>\n",
       "      <td>Halsted St &amp; Willow St</td>\n",
       "      <td>TA1307000166</td>\n",
       "      <td>Bissell St &amp; Armitage Ave*</td>\n",
       "      <td>chargingstx1</td>\n",
       "      <td>41.913865</td>\n",
       "      <td>-87.648755</td>\n",
       "      <td>41.918296</td>\n",
       "      <td>-87.652183</td>\n",
       "      <td>member</td>\n",
       "    </tr>\n",
       "  </tbody>\n",
       "</table>\n",
       "</div>"
      ],
      "text/plain": [
       "                  ride_id  rideable_type           started_at  \\\n",
       "576672   7CA9C623CD371CF1  electric_bike  2022-04-24 20:31:59   \n",
       "2764717  DF271F947F3399A6   classic_bike  2022-07-27 06:54:13   \n",
       "3720423  CBA22642B94927E3   classic_bike  2022-09-08 16:30:08   \n",
       "\n",
       "                    ended_at      start_station_name start_station_id  \\\n",
       "576672   2022-04-24 21:43:36  Wabash Ave & Grand Ave     TA1307000117   \n",
       "2764717  2022-07-27 07:01:58       Clark St & Elm St     TA1307000039   \n",
       "3720423  2022-09-08 16:33:51  Halsted St & Willow St     TA1307000166   \n",
       "\n",
       "                   end_station_name end_station_id  start_lat  start_lng  \\\n",
       "576672                          NaN            NaN  41.891496 -87.626718   \n",
       "2764717          Clark St & Lake St   KA1503000012  41.902973 -87.631280   \n",
       "3720423  Bissell St & Armitage Ave*   chargingstx1  41.913865 -87.648755   \n",
       "\n",
       "           end_lat    end_lng member_casual  \n",
       "576672   41.890000 -87.630000        member  \n",
       "2764717  41.886021 -87.630876        casual  \n",
       "3720423  41.918296 -87.652183        member  "
      ]
     },
     "execution_count": 4,
     "metadata": {},
     "output_type": "execute_result"
    }
   ],
   "source": [
    "rides.sample(3)"
   ]
  },
  {
   "cell_type": "markdown",
   "id": "b64be8d3",
   "metadata": {},
   "source": [
    "As mentioned above, there are almost 6 million rows of data, with 13 columns containing information about the type of bike and user as well as the time and location where each trip started and ended. As can be seen below, there are some errors regarding the data types. Specifically, the dates and times are stored as string type."
   ]
  },
  {
   "cell_type": "code",
   "execution_count": 5,
   "id": "ce0f62a3",
   "metadata": {
    "scrolled": true
   },
   "outputs": [
    {
     "name": "stdout",
     "output_type": "stream",
     "text": [
      "<class 'pandas.core.frame.DataFrame'>\n",
      "RangeIndex: 5829084 entries, 0 to 5829083\n",
      "Data columns (total 13 columns):\n",
      " #   Column              Dtype  \n",
      "---  ------              -----  \n",
      " 0   ride_id             object \n",
      " 1   rideable_type       object \n",
      " 2   started_at          object \n",
      " 3   ended_at            object \n",
      " 4   start_station_name  object \n",
      " 5   start_station_id    object \n",
      " 6   end_station_name    object \n",
      " 7   end_station_id      object \n",
      " 8   start_lat           float64\n",
      " 9   start_lng           float64\n",
      " 10  end_lat             float64\n",
      " 11  end_lng             float64\n",
      " 12  member_casual       object \n",
      "dtypes: float64(4), object(9)\n",
      "memory usage: 578.1+ MB\n"
     ]
    }
   ],
   "source": [
    "rides.info()"
   ]
  },
  {
   "cell_type": "markdown",
   "id": "996a127f",
   "metadata": {},
   "source": [
    "The only numeric fields are those for the coordinates, for which the statistical summaries are not too useful. It is worth noting, though, that there are some inconsistencies within the end station coordinates, showing latitudes and longitudes going all the way to 0°. If this was correct then there would have been bikes stationed within an area of almost 1/16th of the surface of the Earth. Who would have thought Chicago was so big?"
   ]
  },
  {
   "cell_type": "code",
   "execution_count": 6,
   "id": "92c6f545",
   "metadata": {},
   "outputs": [
    {
     "data": {
      "text/html": [
       "<div>\n",
       "<style scoped>\n",
       "    .dataframe tbody tr th:only-of-type {\n",
       "        vertical-align: middle;\n",
       "    }\n",
       "\n",
       "    .dataframe tbody tr th {\n",
       "        vertical-align: top;\n",
       "    }\n",
       "\n",
       "    .dataframe thead th {\n",
       "        text-align: right;\n",
       "    }\n",
       "</style>\n",
       "<table border=\"1\" class=\"dataframe\">\n",
       "  <thead>\n",
       "    <tr style=\"text-align: right;\">\n",
       "      <th></th>\n",
       "      <th>start_lat</th>\n",
       "      <th>start_lng</th>\n",
       "      <th>end_lat</th>\n",
       "      <th>end_lng</th>\n",
       "    </tr>\n",
       "  </thead>\n",
       "  <tbody>\n",
       "    <tr>\n",
       "      <th>count</th>\n",
       "      <td>5.829084e+06</td>\n",
       "      <td>5.829084e+06</td>\n",
       "      <td>5.823146e+06</td>\n",
       "      <td>5.823146e+06</td>\n",
       "    </tr>\n",
       "    <tr>\n",
       "      <th>mean</th>\n",
       "      <td>4.190217e+01</td>\n",
       "      <td>-8.764779e+01</td>\n",
       "      <td>4.190237e+01</td>\n",
       "      <td>-8.764786e+01</td>\n",
       "    </tr>\n",
       "    <tr>\n",
       "      <th>std</th>\n",
       "      <td>4.626503e-02</td>\n",
       "      <td>2.927663e-02</td>\n",
       "      <td>6.757085e-02</td>\n",
       "      <td>1.068591e-01</td>\n",
       "    </tr>\n",
       "    <tr>\n",
       "      <th>min</th>\n",
       "      <td>4.164000e+01</td>\n",
       "      <td>-8.784000e+01</td>\n",
       "      <td>0.000000e+00</td>\n",
       "      <td>-8.814000e+01</td>\n",
       "    </tr>\n",
       "    <tr>\n",
       "      <th>25%</th>\n",
       "      <td>4.188103e+01</td>\n",
       "      <td>-8.766150e+01</td>\n",
       "      <td>4.188103e+01</td>\n",
       "      <td>-8.766201e+01</td>\n",
       "    </tr>\n",
       "    <tr>\n",
       "      <th>50%</th>\n",
       "      <td>4.190000e+01</td>\n",
       "      <td>-8.764411e+01</td>\n",
       "      <td>4.190000e+01</td>\n",
       "      <td>-8.764414e+01</td>\n",
       "    </tr>\n",
       "    <tr>\n",
       "      <th>75%</th>\n",
       "      <td>4.193000e+01</td>\n",
       "      <td>-8.762963e+01</td>\n",
       "      <td>4.193000e+01</td>\n",
       "      <td>-8.762963e+01</td>\n",
       "    </tr>\n",
       "    <tr>\n",
       "      <th>max</th>\n",
       "      <td>4.207000e+01</td>\n",
       "      <td>-8.752000e+01</td>\n",
       "      <td>4.237000e+01</td>\n",
       "      <td>0.000000e+00</td>\n",
       "    </tr>\n",
       "  </tbody>\n",
       "</table>\n",
       "</div>"
      ],
      "text/plain": [
       "          start_lat     start_lng       end_lat       end_lng\n",
       "count  5.829084e+06  5.829084e+06  5.823146e+06  5.823146e+06\n",
       "mean   4.190217e+01 -8.764779e+01  4.190237e+01 -8.764786e+01\n",
       "std    4.626503e-02  2.927663e-02  6.757085e-02  1.068591e-01\n",
       "min    4.164000e+01 -8.784000e+01  0.000000e+00 -8.814000e+01\n",
       "25%    4.188103e+01 -8.766150e+01  4.188103e+01 -8.766201e+01\n",
       "50%    4.190000e+01 -8.764411e+01  4.190000e+01 -8.764414e+01\n",
       "75%    4.193000e+01 -8.762963e+01  4.193000e+01 -8.762963e+01\n",
       "max    4.207000e+01 -8.752000e+01  4.237000e+01  0.000000e+00"
      ]
     },
     "execution_count": 6,
     "metadata": {},
     "output_type": "execute_result"
    }
   ],
   "source": [
    "rides.describe()"
   ]
  },
  {
   "cell_type": "markdown",
   "id": "52a7718b",
   "metadata": {},
   "source": [
    "Finaly, the result below shows the number of duplicated rows. We can see there aren't any: each row has an unique ride id, which means it is a unique bike trip."
   ]
  },
  {
   "cell_type": "code",
   "execution_count": 7,
   "id": "fc582001",
   "metadata": {},
   "outputs": [
    {
     "data": {
      "text/plain": [
       "0"
      ]
     },
     "execution_count": 7,
     "metadata": {},
     "output_type": "execute_result"
    }
   ],
   "source": [
    "rides.duplicated(subset=[\"ride_id\"]).sum()"
   ]
  },
  {
   "cell_type": "markdown",
   "id": "e8189459",
   "metadata": {},
   "source": [
    "# Data Cleaning <a name=\"cleaning\"></a>\n",
    "\n",
    "## Column re-naming <a name=\"renaming\"></a>\n",
    "\n",
    "The column names can be changed into shorter and more intuitive ones"
   ]
  },
  {
   "cell_type": "code",
   "execution_count": 8,
   "id": "ada094e6",
   "metadata": {},
   "outputs": [],
   "source": [
    "rides.rename(\n",
    "    columns={\n",
    "        \"ride_id\": \"trip_id\",\n",
    "        \"rideable_type\": \"bike_type\",\n",
    "        \"started_at\": \"start_time\",\n",
    "        \"ended_at\": \"end_time\",\n",
    "        \"start_station_name\": \"start_name\",\n",
    "        \"start_station_id\": \"start_id\",\n",
    "        \"end_station_name\": \"end_name\",\n",
    "        \"end_station_id\": \"end_id\",\n",
    "        \"member_casual\": \"usertype\",\n",
    "    },\n",
    "    inplace=True,\n",
    ")"
   ]
  },
  {
   "cell_type": "markdown",
   "id": "130596ec",
   "metadata": {},
   "source": [
    "## Missing Data <a name=\"missing\"></a>\n",
    "\n",
    "There are values missing from some fields. The following table represents what percentage of data is missing from each field. \n",
    "There is a considerable proportion of start/end station names and id's missing and only a small amount of latitud/longitude data missing."
   ]
  },
  {
   "cell_type": "code",
   "execution_count": 9,
   "id": "49fb7fb0",
   "metadata": {},
   "outputs": [
    {
     "data": {
      "text/html": [
       "<div>\n",
       "<style scoped>\n",
       "    .dataframe tbody tr th:only-of-type {\n",
       "        vertical-align: middle;\n",
       "    }\n",
       "\n",
       "    .dataframe tbody tr th {\n",
       "        vertical-align: top;\n",
       "    }\n",
       "\n",
       "    .dataframe thead th {\n",
       "        text-align: right;\n",
       "    }\n",
       "</style>\n",
       "<table border=\"1\" class=\"dataframe\">\n",
       "  <thead>\n",
       "    <tr style=\"text-align: right;\">\n",
       "      <th></th>\n",
       "      <th>% of missing data</th>\n",
       "    </tr>\n",
       "    <tr>\n",
       "      <th>Field</th>\n",
       "      <th></th>\n",
       "    </tr>\n",
       "  </thead>\n",
       "  <tbody>\n",
       "    <tr>\n",
       "      <th>trip_id</th>\n",
       "      <td>0.000000</td>\n",
       "    </tr>\n",
       "    <tr>\n",
       "      <th>bike_type</th>\n",
       "      <td>0.000000</td>\n",
       "    </tr>\n",
       "    <tr>\n",
       "      <th>start_time</th>\n",
       "      <td>0.000000</td>\n",
       "    </tr>\n",
       "    <tr>\n",
       "      <th>end_time</th>\n",
       "      <td>0.000000</td>\n",
       "    </tr>\n",
       "    <tr>\n",
       "      <th>start_name</th>\n",
       "      <td>14.589222</td>\n",
       "    </tr>\n",
       "    <tr>\n",
       "      <th>start_id</th>\n",
       "      <td>14.591486</td>\n",
       "    </tr>\n",
       "    <tr>\n",
       "      <th>end_name</th>\n",
       "      <td>15.594869</td>\n",
       "    </tr>\n",
       "    <tr>\n",
       "      <th>end_id</th>\n",
       "      <td>15.597288</td>\n",
       "    </tr>\n",
       "    <tr>\n",
       "      <th>start_lat</th>\n",
       "      <td>0.000000</td>\n",
       "    </tr>\n",
       "    <tr>\n",
       "      <th>start_lng</th>\n",
       "      <td>0.000000</td>\n",
       "    </tr>\n",
       "    <tr>\n",
       "      <th>end_lat</th>\n",
       "      <td>0.101868</td>\n",
       "    </tr>\n",
       "    <tr>\n",
       "      <th>end_lng</th>\n",
       "      <td>0.101868</td>\n",
       "    </tr>\n",
       "    <tr>\n",
       "      <th>usertype</th>\n",
       "      <td>0.000000</td>\n",
       "    </tr>\n",
       "  </tbody>\n",
       "</table>\n",
       "</div>"
      ],
      "text/plain": [
       "            % of missing data\n",
       "Field                        \n",
       "trip_id              0.000000\n",
       "bike_type            0.000000\n",
       "start_time           0.000000\n",
       "end_time             0.000000\n",
       "start_name          14.589222\n",
       "start_id            14.591486\n",
       "end_name            15.594869\n",
       "end_id              15.597288\n",
       "start_lat            0.000000\n",
       "start_lng            0.000000\n",
       "end_lat              0.101868\n",
       "end_lng              0.101868\n",
       "usertype             0.000000"
      ]
     },
     "execution_count": 9,
     "metadata": {},
     "output_type": "execute_result"
    }
   ],
   "source": [
    "# isna returns a df of the same shape as rides with boolean values for\n",
    "# whether the values are NA. The mean for each column is the proportion\n",
    "# of missing data for the column, and multiplied by 100 gives the %.\n",
    "\n",
    "rides.isna().mean().mul(100).rename(\"% of missing data\").rename_axis(\"Field\").to_frame()"
   ]
  },
  {
   "cell_type": "markdown",
   "id": "237ca345",
   "metadata": {},
   "source": [
    "The missing station names and id's can be explained with the fact that e-bikes don't need to be docked at stations, they can be locked at public bike racks, light poles, signposts, etc. \n",
    "The following table shows the number of rows with missing station names or ids by bike type, and confirms this is the case for most of the rides with missing names and id's. "
   ]
  },
  {
   "cell_type": "code",
   "execution_count": 10,
   "id": "a480136f-c635-4339-859d-bcc5c0fd54e3",
   "metadata": {},
   "outputs": [
    {
     "data": {
      "text/html": [
       "<div>\n",
       "<style scoped>\n",
       "    .dataframe tbody tr th:only-of-type {\n",
       "        vertical-align: middle;\n",
       "    }\n",
       "\n",
       "    .dataframe tbody tr th {\n",
       "        vertical-align: top;\n",
       "    }\n",
       "\n",
       "    .dataframe thead th {\n",
       "        text-align: right;\n",
       "    }\n",
       "</style>\n",
       "<table border=\"1\" class=\"dataframe\">\n",
       "  <thead>\n",
       "    <tr style=\"text-align: right;\">\n",
       "      <th></th>\n",
       "      <th>Rows with missing values</th>\n",
       "    </tr>\n",
       "    <tr>\n",
       "      <th>bike_type</th>\n",
       "      <th></th>\n",
       "    </tr>\n",
       "  </thead>\n",
       "  <tbody>\n",
       "    <tr>\n",
       "      <th>classic_bike</th>\n",
       "      <td>3521</td>\n",
       "    </tr>\n",
       "    <tr>\n",
       "      <th>docked_bike</th>\n",
       "      <td>2681</td>\n",
       "    </tr>\n",
       "    <tr>\n",
       "      <th>electric_bike</th>\n",
       "      <td>1324984</td>\n",
       "    </tr>\n",
       "  </tbody>\n",
       "</table>\n",
       "</div>"
      ],
      "text/plain": [
       "               Rows with missing values\n",
       "bike_type                              \n",
       "classic_bike                       3521\n",
       "docked_bike                        2681\n",
       "electric_bike                   1324984"
      ]
     },
     "execution_count": 10,
     "metadata": {},
     "output_type": "execute_result"
    }
   ],
   "source": [
    "# create a filter for the relevant fields\n",
    "cols = [\"bike_type\", \"start_name\", \"start_id\", \"end_name\", \"end_id\"]\n",
    "\n",
    "# filter the data and group by bike type\n",
    "missing = rides[cols].groupby(\"bike_type\")\n",
    "\n",
    "# count the number of rows with missing values and format table\n",
    "missing.apply(lambda x: x.isnull().any(axis=1).sum()).rename(\n",
    "    \"Rows with missing values\"\n",
    ").to_frame()"
   ]
  },
  {
   "cell_type": "markdown",
   "id": "d5119d64",
   "metadata": {},
   "source": [
    "There are a few trips that were made with classic and docked bikes that started or ended at no specified station. We can safely discard those since they account for a really small percentage of the total trips (0.11%). As for the trips made with e-bikes that were parked at no specific station, we can state they were parked at \"No station\", with id \"99999\"."
   ]
  },
  {
   "cell_type": "code",
   "execution_count": 11,
   "id": "1cfa7d75",
   "metadata": {},
   "outputs": [],
   "source": [
    "# create a filter for electric bikes\n",
    "mask = rides[\"bike_type\"] == \"electric_bike\"\n",
    "\n",
    "# change stations missing names to \"No stations\"\n",
    "for col in [\"start_name\", \"end_name\"]:\n",
    "    rides.loc[mask & (rides[col].isna()), col] = \"No station\"\n",
    "\n",
    "# change stations missing ids to \"99999\"\n",
    "for col in [\"start_id\", \"end_id\"]:\n",
    "    rides.loc[mask & (rides[col].isna()), col] = \"99999\""
   ]
  },
  {
   "cell_type": "markdown",
   "id": "4edf2e2c",
   "metadata": {},
   "source": [
    "This reduces the rows with missing data to the following"
   ]
  },
  {
   "cell_type": "code",
   "execution_count": 12,
   "id": "64924bec",
   "metadata": {},
   "outputs": [
    {
     "name": "stdout",
     "output_type": "stream",
     "text": [
      "% of missing data:  0.10639750602324481\n"
     ]
    }
   ],
   "source": [
    "print(\"% of missing data: \", rides.isnull().any(axis=1).sum() / len(rides) * 100)"
   ]
  },
  {
   "cell_type": "markdown",
   "id": "f815925a",
   "metadata": {},
   "source": [
    "This is such a small percentage of the data that it can be safely removed, after which we are left with 0 missing values:"
   ]
  },
  {
   "cell_type": "code",
   "execution_count": 223,
   "id": "69dcd4ee",
   "metadata": {},
   "outputs": [
    {
     "name": "stdout",
     "output_type": "stream",
     "text": [
      "Num. of missing values: 0\n"
     ]
    }
   ],
   "source": [
    "rides_complete = rides.dropna().copy()\n",
    "print(\"Num. of missing values:\", rides_complete.isnull().sum().sum())"
   ]
  },
  {
   "cell_type": "markdown",
   "id": "c83b572b",
   "metadata": {},
   "source": [
    "## Data Validation <a name=\"validation\"></a>"
   ]
  },
  {
   "cell_type": "markdown",
   "id": "99883872",
   "metadata": {},
   "source": [
    "There are supposed to be around 600 stations in total, 3 types of bikes (docked, classic and e-bikes) and 2 types of users (casual and members). The following table shows that, according to the data, this is not the case for the station names and ids. Even the ratio of station names to ids, which should always be one to one, is inconsistent. There are also some issues with the coordinates, but those will be addressed later on."
   ]
  },
  {
   "cell_type": "code",
   "execution_count": 224,
   "id": "0f1d3582",
   "metadata": {},
   "outputs": [
    {
     "data": {
      "text/html": [
       "<div>\n",
       "<style scoped>\n",
       "    .dataframe tbody tr th:only-of-type {\n",
       "        vertical-align: middle;\n",
       "    }\n",
       "\n",
       "    .dataframe tbody tr th {\n",
       "        vertical-align: top;\n",
       "    }\n",
       "\n",
       "    .dataframe thead th {\n",
       "        text-align: right;\n",
       "    }\n",
       "</style>\n",
       "<table border=\"1\" class=\"dataframe\">\n",
       "  <thead>\n",
       "    <tr style=\"text-align: right;\">\n",
       "      <th></th>\n",
       "      <th>0</th>\n",
       "    </tr>\n",
       "  </thead>\n",
       "  <tbody>\n",
       "    <tr>\n",
       "      <th>bike_type</th>\n",
       "      <td>3</td>\n",
       "    </tr>\n",
       "    <tr>\n",
       "      <th>usertype</th>\n",
       "      <td>2</td>\n",
       "    </tr>\n",
       "    <tr>\n",
       "      <th>start_name</th>\n",
       "      <td>1693</td>\n",
       "    </tr>\n",
       "    <tr>\n",
       "      <th>start_id</th>\n",
       "      <td>1315</td>\n",
       "    </tr>\n",
       "    <tr>\n",
       "      <th>end_name</th>\n",
       "      <td>1716</td>\n",
       "    </tr>\n",
       "    <tr>\n",
       "      <th>end_id</th>\n",
       "      <td>1319</td>\n",
       "    </tr>\n",
       "  </tbody>\n",
       "</table>\n",
       "</div>"
      ],
      "text/plain": [
       "               0\n",
       "bike_type      3\n",
       "usertype       2\n",
       "start_name  1693\n",
       "start_id    1315\n",
       "end_name    1716\n",
       "end_id      1319"
      ]
     },
     "execution_count": 224,
     "metadata": {},
     "output_type": "execute_result"
    }
   ],
   "source": [
    "rides_complete[\n",
    "    [\"bike_type\", \"usertype\", \"start_name\", \"start_id\", \"end_name\", \"end_id\"]\n",
    "].nunique().to_frame()"
   ]
  },
  {
   "cell_type": "markdown",
   "id": "664f0e6c",
   "metadata": {},
   "source": [
    "As seen above, there are a lot more stations names and id's than should be. Some tests for the consistency of station names and ids are then needed; The following function will test if a name or id relates to multiple id's or names. It is performed only on a sample of the data since it is very time consuming to run it on larger scale."
   ]
  },
  {
   "cell_type": "code",
   "execution_count": 225,
   "id": "4cb2bc99-4b52-4117-a8ca-7c4dedd4827e",
   "metadata": {},
   "outputs": [],
   "source": [
    "def not_unique(field1, field2, frac):\n",
    "    \"\"\"This function takes in 2 column names, field1 and field2, as well\n",
    "    as the fraction, frac, of the dataframe that will be processed, and \n",
    "    returns a dictionary with the field1 values that refer to multiple\n",
    "    unique values for field2, as well as the corresponding list of field2\n",
    "    values.\"\"\"\n",
    "    \n",
    "    id_names = {}\n",
    "    \n",
    "    # Get a random subset of the dataframe to process based on the given fraction\n",
    "    subset = rides_complete.sample(frac=frac, random_state=25)\n",
    "    \n",
    "    # Find field1 values that map to multiple unique field2 values\n",
    "    condition = subset.groupby(field1)[field2].nunique() > 1\n",
    "    keys = subset.groupby(field1)[field1].unique()[condition]\n",
    "    keys = [elem.tolist()[0] for elem in keys.values] # convert to list\n",
    "    \n",
    "    # fill in the dictionary\n",
    "    for key in keys:\n",
    "        id_names[key] = [*subset[subset[field1]==key][field2].unique()]\n",
    "        \n",
    "    return id_names"
   ]
  },
  {
   "cell_type": "markdown",
   "id": "32139538",
   "metadata": {},
   "source": [
    "The next two blocks of code show the number of id's that refer to two or more station names within a sample of 10% of the data, as well as the names of the stations for each of these id's."
   ]
  },
  {
   "cell_type": "code",
   "execution_count": 226,
   "id": "02ffd183-9594-4ef5-b26a-0615e25b00a2",
   "metadata": {},
   "outputs": [
    {
     "data": {
      "text/plain": [
       "175"
      ]
     },
     "execution_count": 226,
     "metadata": {},
     "output_type": "execute_result"
    }
   ],
   "source": [
    "repeated_ids = not_unique(\"start_id\", \"start_name\", 0.1)\n",
    "len(repeated_ids)"
   ]
  },
  {
   "cell_type": "code",
   "execution_count": 227,
   "id": "67d24180",
   "metadata": {
    "scrolled": true,
    "tags": []
   },
   "outputs": [
    {
     "data": {
      "text/plain": [
       "{'13053': ['Green St & Randolph St', 'Green St & Washington Blvd'],\n",
       " '13059': ['Sheridan Rd & Argyle St', 'Bissell St & Armitage Ave'],\n",
       " '13074': ['Broadway & Wilson - Truman College Vaccination Site',\n",
       "  'Broadway & Wilson Ave'],\n",
       " '13197': ['Elizabeth (May) St & Fulton St', 'Elizabeth St & Fulton St'],\n",
       " '15541': ['Buckingham Fountain', 'Buckingham Fountain (Temp)'],\n",
       " '15623': ['Campbell Ave & Montrose Ave',\n",
       "  'Campbell Ave & Montrose Ave (Temp)'],\n",
       " '303': ['Public Rack - Kildare Ave & Division St',\n",
       "  'Kildare Ave & Division St'],\n",
       " '390': ['California Ave & Marquette Rd',\n",
       "  'Public Rack - California Ave & Marquette Rd'],\n",
       " '479': ['California Ave & Touhy Ave - NW',\n",
       "  'Public Rack - California Ave & Touhy Ave - NW'],\n",
       " '480': ['Public Rack - Rockwell Ave & Touhy Ave ',\n",
       "  'Rockwell Ave & Touhy Ave '],\n",
       " '482': ['Public Rack - Chase Ave & Touhy Ave - NE',\n",
       "  'Chase Ave & Touhy Ave - NE'],\n",
       " '483': ['Public Rack - Western Ave & Jarvis Ave', 'Western Ave & Jarvis Ave'],\n",
       " '484': ['Public Rack - Sacramento Ave & Greenleaf Ave',\n",
       "  'Sacramento Ave & Greenleaf Ave'],\n",
       " '485': ['Public Rack - Sacramento Ave & Devon Ave',\n",
       "  'Sacramento Ave & Devon Ave'],\n",
       " '486': ['Public Rack - California Ave & Devon Ave - NW',\n",
       "  'California Ave & Devon Ave - NW'],\n",
       " '487': ['Public Rack - California Ave & Devon Ave - NE',\n",
       "  'California Ave & Devon Ave - NE'],\n",
       " '489': ['Public Rack - Spaulding Ave & Bryn Mawr Ave',\n",
       "  'Spaulding Ave & Bryn Mawr Ave'],\n",
       " '491': ['Public Rack - Kedzie Ave & Argyle St', 'Kedzie Ave & Argyle St'],\n",
       " '492': ['Public Rack - Hamlin Ave & Montrose Ave',\n",
       "  'Hamlin Ave & Montrose Ave'],\n",
       " '494': ['Avers Ave & Irving Park Rd',\n",
       "  'Public Rack - Avers Ave & Irving Park Rd'],\n",
       " '495': ['Public Rack - Keystone Ave & Irving Park Rd',\n",
       "  'Keystone Ave & Irving Park Rd'],\n",
       " '497': ['Public Rack - Lowell Ave & Elston Ave', 'Lowell Ave & Elston Ave'],\n",
       " '499': ['Christiana Ave & Belmont Ave',\n",
       "  'Public Rack - Christiana Ave & Belmont Ave'],\n",
       " '500': ['Public Rack - Monticello Ave & Belmont Ave',\n",
       "  'Monticello Ave & Belmont Ave'],\n",
       " '501': ['Public Rack - Milwaukee Ave & School St',\n",
       "  'Milwaukee Ave & School St'],\n",
       " '502': ['Public Rack - Milwaukee Ave & Addison St',\n",
       "  'Milwaukee Ave & Addison St'],\n",
       " '503': ['Public Rack - Jonathan Y Scammon Public School',\n",
       "  'Jonathan Y Scammon Public School'],\n",
       " '504': ['Public Rack - Milwaukee Ave & Diversey Ave',\n",
       "  'Milwaukee Ave & Diversey Ave'],\n",
       " '505': ['Public Rack - Milwaukee Ave & Haussen Ct',\n",
       "  'Milwaukee Ave & Haussen Ct'],\n",
       " '506': ['Lawndale Ave & Diversey Ave',\n",
       "  'Public Rack - Lawndale Ave & Diversey Ave'],\n",
       " '507': ['Public Rack - Hamlin Ave & Fullerton Ave',\n",
       "  'Hamlin Ave & Fullerton Ave'],\n",
       " '508': ['Public Rack - Pulaski Rd & Fullerton Ave',\n",
       "  'Pulaski Rd & Fullerton Ave'],\n",
       " '509': ['Public Rack - Mozart Elementary School', 'Mozart Elementary School'],\n",
       " '510': ['Public Rack - Spaulding Ave & North Ave',\n",
       "  'Spaulding Ave & North Ave'],\n",
       " '512': ['Public Rack - California Ave & Cortez St',\n",
       "  'California Ave & Cortez St'],\n",
       " '513': ['Public Rack - Spaulding Ave & Evergreen Ave',\n",
       "  'Spaulding Ave & Evergreen Ave'],\n",
       " '514': ['Public Rack - Hamlin Ave & Grand Ave',\n",
       "  'Ridge Blvd & Howard St',\n",
       "  'Hamlin Ave & Grand Ave'],\n",
       " '515': ['Paulina St & Howard St', 'Public Rack - Hamlin Ave & Chicago Ave'],\n",
       " '516': ['Public Rack - Kenton Ave & Palmer St', 'Kenton Ave & Palmer St'],\n",
       " '517': ['Clark St & Jarvis Ave',\n",
       "  'Public Rack - Pulaski Rd & Armitage Ave',\n",
       "  'Pulaski Rd & Armitage Ave'],\n",
       " '518': ['Keystone Ave & North Ave',\n",
       "  'Conservatory Dr & Lake St',\n",
       "  'Public Rack - Keystone Ave & North Ave'],\n",
       " '519': ['Wolcott Ave & Fargo Ave', 'Public Rack - Kostner Ave & North Ave'],\n",
       " '520': ['Greenview Ave & Jarvis Ave',\n",
       "  'Public Rack - Karlov Ave & Kamerling Ave',\n",
       "  'Karlov Ave & Kamerling Ave'],\n",
       " '523': ['Eastlake Ter & Rogers Ave',\n",
       "  'Eastlake Ter & Howard St',\n",
       "  'Public Rack - Pulaski Rd & Roosevelt Rd'],\n",
       " '524': ['Central Park Ave & Fillmore St',\n",
       "  'Public Rack - Central Park Ave & Fillmore St'],\n",
       " '527': ['Public Rack - Roswell B. Mason Elementary School',\n",
       "  'Western Ave & Howard St'],\n",
       " '534': ['Karlov Ave & Madison St',\n",
       "  'Public Rack - California Ave & Ogden Ave'],\n",
       " '539': ['Eli Whitney Public School',\n",
       "  'Public Rack - Eli Whitney Public School'],\n",
       " '540': ['Laramie Ave & Madison St', 'Public Rack - Whipple St & 26th St'],\n",
       " '543': ['Laramie Ave & Gladys Ave',\n",
       "  'Cicero Ave & Roscoe St',\n",
       "  'Public Rack - Cicero Ave & Roscoe St'],\n",
       " '544': ['Public Rack - Laramie Ave & Belmont Ave',\n",
       "  'Laramie Ave & Belmont Ave'],\n",
       " '545': ['Kostner Ave & Adams St', 'Public Rack - Linder Ave & Belmont Ave'],\n",
       " '546': ['Damen Ave & Pershing Rd',\n",
       "  'Cicero Ave & Wellington Ave',\n",
       "  'Public Rack - Cicero Ave & Wellington Ave'],\n",
       " '547': ['Public Rack - Cicero Ave & Wrightwood Ave',\n",
       "  'Cicero Ave & Wrightwood Ave'],\n",
       " '548': ['Public Rack - Cicero Ave & Altgeld St', 'Cicero Ave & Altgeld St'],\n",
       " '549': ['Public Rack - Laramie Ave & Fullerton Ave',\n",
       "  'Marshfield Ave & 44th St',\n",
       "  'Laramie Ave & Fullerton Ave'],\n",
       " '550': ['Public Rack - Laramie Ave & Grand Ave', 'Laramie Ave & Grand Ave'],\n",
       " '551': ['Public Rack - Cicero Ave & North Ave', 'Cicero Ave & North Ave'],\n",
       " '553': ['Elizabeth St & 47th St',\n",
       "  'Public Rack - Lorel Ave & Chicago Ave',\n",
       "  'Lorel Ave & Chicago Ave'],\n",
       " '554': ['Damen Ave & 51st St',\n",
       "  'Public Rack - Cicero Ave & Le Moyne St - midblock'],\n",
       " '559': ['Racine Ave & Garfield Blvd',\n",
       "  'Public Rack - Menard Ave & Dakin St - midblock',\n",
       "  'Menard Ave & Dakin St - midblock'],\n",
       " '560': ['Public Rack - Austin Ave & Roscoe St', 'Marshfield Ave & 59th St'],\n",
       " '561': ['Damen Ave & 59th St', 'Public Rack - Melvina Ave & Belmont Ave'],\n",
       " '562': ['Racine Ave & 61st St',\n",
       "  'Menard Ave & Belmont Ave',\n",
       "  'Public Rack - Menard Ave & Belmont Ave'],\n",
       " '565': ['Public Rack - Austin Ave & Wrightwood Ave',\n",
       "  'Austin Ave & Wrightwood Ave'],\n",
       " '566': ['Public Rack - Narragansett Ave & Fullerton Ave',\n",
       "  'Narragansett Ave & Fullerton Ave'],\n",
       " '567': ['May St & 69th St',\n",
       "  'Harvey Ave & North Ave',\n",
       "  'Public Rack - Harvey Ave & North Ave'],\n",
       " '569': ['Woodlawn Ave & 75th St', 'Public Rack - Menard Ave & Grand Ave'],\n",
       " '570': ['Evans Ave & 75th St', 'Public Rack - McVicker Ave & Grand Ave'],\n",
       " '571': ['Vernon Ave & 75th St',\n",
       "  'Public Rack - Austin Blvd & North Ave',\n",
       "  'Austin Blvd & North Ave'],\n",
       " '572': ['Hiawatha Park', 'State St & 76th St'],\n",
       " '575': ['Cottage Grove Ave & 78th St', 'Pittsburgh Ave & Irving Park'],\n",
       " '576': ['Plainfield Ave & Irving Park Rd', 'Greenwood Ave & 79th St'],\n",
       " '577': ['Stony Island Ave & South Chicago Ave', 'Ozark Ave & Addison St'],\n",
       " '579': ['Phillips Ave & 79th St',\n",
       "  'Oketo Ave & Belmont Ave',\n",
       "  'Public Rack - Oketo Ave & Belmont Ave'],\n",
       " '580': ['Exchange Ave & 79th St', 'Public Rack - Ellis Ave & Doty Ave'],\n",
       " '586': ['MLK Jr Dr & 83rd St', 'Public Rack - Stewart Ave & 123rd St'],\n",
       " '593': ['Halsted St & 59th St', 'Public Rack - Wallace St & 112 St'],\n",
       " '595': ['Wabash Ave & 87th St', 'Public Rack - Michigan Ave & 113th St'],\n",
       " '596': ['Benson Ave & Church St', 'Cottage Grove Ave & 111th St'],\n",
       " '599': ['Public Rack - Avenue J & 112th St',\n",
       "  'Valli Produce - Evanston Plaza'],\n",
       " '600': ['Dodge Ave & Church St', 'Ewing Ave & 112th St'],\n",
       " '604': ['Sheridan Rd & Noyes St (NU)', 'Wentworth Ave & 103rd St'],\n",
       " '605': ['University Library (NU)',\n",
       "  'Public Rack - Parnell Ave & 103rd St',\n",
       "  'Parnell Ave & 103rd St'],\n",
       " '621': ['Public Rack - Lafayette Ave & 95th St', 'Lafayette Ave & 95th St'],\n",
       " '623': ['Michigan Ave & 8th St', 'Halsted St & 102nd St'],\n",
       " '631': ['Malcolm X College Vaccination Site', 'Malcolm X College'],\n",
       " '636': ['Orleans St & Hubbard St', 'Ewing Ave & 101st St'],\n",
       " '639': ['Lakefront Trail & Wilson Ave', 'Public Rack - Ewing Ave & 99th St'],\n",
       " '641': ['Public Rack - Loomis St & 87th St', 'Loomis St & 87th St'],\n",
       " '642': ['Latrobe Ave & Chicago Ave', 'Justine St & 87th St'],\n",
       " '644': ['Western Ave & Fillmore St', 'Wabash Ave & 87th St'],\n",
       " '646': ['State St & 54th St', 'Cottage Grove Ave & 87th St'],\n",
       " '647': ['Elizabeth St & 59th St', 'Public Rack - Burnside Academy'],\n",
       " '649': ['Stewart Ave & 63rd St', 'Public Rack - Cottage Grove Ave & 92nd St'],\n",
       " '650': ['Eggleston Ave & 69th St', 'Houston Ave & 91st St'],\n",
       " '651': ['Michigan Ave & 71st St', 'Commercial Ave & 89th St'],\n",
       " '652': ['Rhodes Ave & 71st St', 'Muskegon Ave & 89th St'],\n",
       " '662': ['Dodge Ave & Mulford St', 'Cottage Grove & 86th St'],\n",
       " '663': ['Cottage Grove & 85th St', 'Public Rack - Cottage Grove & 85th St'],\n",
       " '682': ['111th St - Morgan Park Metra',\n",
       "  'Public Rack - 111th St - Morgan Park Metra'],\n",
       " '684': ['Public Rack - Mt Greenwood Library N',\n",
       "  'Mt Greenwood Library - North'],\n",
       " '690': ['Western Ave & 106th St - East',\n",
       "  'Public Rack - Western Ave & 106th St - East'],\n",
       " '691': ['Public Rack - Western Ave & 105th St', 'Western Ave & 105th St'],\n",
       " '692': ['Public Rack - Western Ave & 104th St - East',\n",
       "  'Western Ave & 104th St - East'],\n",
       " '693': ['Public Rack - Walden Pkwy & 103rd St', 'Walden Pkwy & 103rd St'],\n",
       " '694': ['Wood St & 103rd St', 'Public Rack - Wood St & 103rd St'],\n",
       " '695': ['Western Ave & 100th St', 'Public Rack - Western Ave & 100th St'],\n",
       " '699': ['Cottage Grove Ave & 98th St',\n",
       "  'Public Rack - Cottage Grove Ave & 98th St'],\n",
       " '702': ['Western Ave & 92nd Pl', 'Public Rack - Western Ave & 92nd Pl'],\n",
       " '710': ['Public Rack - Lafayette Ave & 87th St - NW',\n",
       "  'Lafayette Ave & 87th St - NW'],\n",
       " '722': ['Public Rack - Racine Ave & 74th St', 'Racine Ave & 74th St'],\n",
       " '736': ['Jeffrey Blvd & 71st St', 'Public Rack - Jeffrey Blvd & 71st St'],\n",
       " '744': ['Public Rack - Halsted St & 64th St', 'Halsted St & 64th St'],\n",
       " '749': ['Evans Ave & 63rd St', 'Public Rack - Evans Ave & 63rd St'],\n",
       " '751': ['Kimbark Ave & 67th St', 'Public Rack - Kimbark Ave & 67th St'],\n",
       " '752': ['Public Rack - Kimbark Ave & 63rd St', 'Kimbark Ave & 63rd St'],\n",
       " '753': ['Public Rack - Jeffery Blvd & 67th St', 'Jeffery Blvd & 67th St'],\n",
       " '755': ['Kedzie Ave & 64th St - SE',\n",
       "  'Public Rack - Kedzie Ave & 64th St - SE'],\n",
       " '757': ['Kedzie Ave & 63rd St', 'Public Rack - Kedzie Ave & 63rd St'],\n",
       " '760': ['Public Rack - Kedzie Ave & 64th St - SW',\n",
       "  'Kedzie Ave & 64th St - SW'],\n",
       " '766': ['Harold Washington Park', 'Public Rack - Harold Washington Park'],\n",
       " '767': ['Hyde Park Blvd & 53rd St', 'Public Rack - Hyde Park Blvd & 53rd St'],\n",
       " '768': ['Hyde Park Blvd & 55th St', 'Public Rack - Hyde Park Blvd & 55th St'],\n",
       " '772': ['Kedzie Ave & 61st Pl', 'Public Rack - Kedzie Ave & 61st Pl E'],\n",
       " '775': ['Public Rack - Kedzie Ave & 58th St', 'Kedzie Ave & 58th St'],\n",
       " '776': ['Komensky Ave & 59th St', 'Public Rack - Komensky Ave & 59th St'],\n",
       " '777': ['Midway Orange Line', 'Public Rack - Midway Orange Line'],\n",
       " '798': ['Public Rack - Menard Ave & Agusta Blvd', 'Menard Ave & Agusta Blvd'],\n",
       " '800': ['Public Rack - Harriet E Sayre Public School',\n",
       "  'Harriet E Sayre Public School'],\n",
       " '805': ['Neva Ave & Grand Ave', 'Public Rack - Neva Ave & Grand Ave'],\n",
       " '810': ['Nagle Ave & Belmont Ave', 'Public Rack - Nagle Ave & Belmont Ave'],\n",
       " '813': ['Calumet Ave & 51st St', 'Public Rack - Calumet Ave & 51st St'],\n",
       " '814': ['Public Rack - Prairie Ave & 47th St ',\n",
       "  'Prairie Ave & 47th St - midblock'],\n",
       " '819': ['Robert Fulton Elementary School',\n",
       "  'Public Rack - Robert Fulton Elementary School'],\n",
       " '821': ['Public Rack - Western Blvd & 49th St', 'Western Blvd & 49th St'],\n",
       " '822': ['Talman Ave & 51st St - midblock',\n",
       "  'Public Rack - Talman Ave & 51st St'],\n",
       " '823': ['Kedzie Ave & 54th St - SE',\n",
       "  'Public Rack - Kedzie Ave & 54th St - SE'],\n",
       " '824': ['Public Rack - Avers Ave & Archer Ave', 'Avers Ave & Archer Ave'],\n",
       " '825': ['Kedzie Ave & 54th St - SW',\n",
       "  'Public Rack - Kedzie Ave & 54th St - SW'],\n",
       " '829': ['Public Rack - Pulaski Rd & 51st Rd', 'Pulaski Rd & 51st Rd'],\n",
       " '830': ['Public Rack - Pulaski & 52nd', 'Pulaski & 52nd'],\n",
       " '831': ['Public Rack - Kolin Ave & Archer Ave', 'Kolin Ave & Archer Ave'],\n",
       " '832': ['Public Rack - Christiana Ave & Archer Ave',\n",
       "  'Christiana Ave & Archer Ave'],\n",
       " '833': ['Pulaski Rd & 44th St', 'Public Rack - Pulaski Rd & 44th St'],\n",
       " '835': ['Pubic Rack - Pulaski Rd & 41st', 'Pulaski Rd & 41st'],\n",
       " '836': ['Public Rack - Kedzie Ave & Archer Ave', 'Kedzie Ave & Archer Ave'],\n",
       " '838': ['Public Rack - Piotrowski Park', 'Piotrowski Park'],\n",
       " '840': ['Marshfield Ave & 45th St', 'Public Rack - Marshfield Ave & 45th St'],\n",
       " '841': ['Damen Ave & 47th St', 'Public Rack - Damen Ave & 47th St'],\n",
       " '847': ['Brandon Ave & 91st St', 'Public Rack - Brandon Ave & 91st St'],\n",
       " '855': ['Public Rack - Washtenaw Ave & Superior St',\n",
       "  'Washtenaw Ave & Superior St'],\n",
       " '857': ['Sawyer Ave & Bryn Mawr Ave - SE',\n",
       "  'Public Rack - Sawyer Ave & Bryn Mawr Ave - SE'],\n",
       " '859': ['Public Rack - Spaulding Ave & Foster Ave',\n",
       "  'Spaulding Ave & Foster Ave'],\n",
       " '860': ['Public Rack - Christiana Ave & Lawrence Ave',\n",
       "  'Christiana Ave & Lawrence Ave'],\n",
       " '861': ['Sawyer Ave & Lawrence Ave',\n",
       "  'Public Rack - Sawyer Ave & Lawrence Ave'],\n",
       " '864': ['Kedvale Ave & Addison St', 'Public Rack - Kedvale Ave & Addison St'],\n",
       " '866': ['Public Rack - Kostner Ave & Armitage Ave',\n",
       "  'Kostner Ave & Armitage Ave'],\n",
       " '877': ['Public Rack - Racine Ave & 109th Pl', 'Racine Ave & 109th Pl'],\n",
       " '883': ['Public Rack - East End Ave & 87th St', 'East End Ave & 87th St'],\n",
       " '900': ['Public Rack - Western Ave & 118th St', 'Western Ave & 118th St'],\n",
       " '902': ['Hoyne Ave & 110th Pl', 'Public Rack - Hoyne Ave & 110th Pl'],\n",
       " '913': ['532 E 43rd St', 'Public Rack - 532 E 43rd St'],\n",
       " '916': ['Wood St & 47th St', 'Public Rack - Wood St & 47th St'],\n",
       " '919': ['Public Rack - Pullman - Walmart', 'Pullman - Walmart'],\n",
       " '951': ['Public Rack - Woodlawn Ave & 63rd St - NE',\n",
       "  'Public Rack - Woodlawn Ave & 63rd St N'],\n",
       " '954': ['Public Rack - Prairie Ave & Garfield Blvd',\n",
       "  'Public Rack - Prairie Ave & Garfield Blvd N'],\n",
       " '99999': ['No station',\n",
       "  'Elizabeth St & Randolph St',\n",
       "  'Stony Island Ave & 63rd St'],\n",
       " 'Hubbard Bike-checking (LBS-WH-TEST)': ['Base - 2132 W Hubbard',\n",
       "  'Base - 2132 W Hubbard Warehouse'],\n",
       " 'KA1503000055': ['Halsted & 63rd - Kennedy-King Vaccination Site',\n",
       "  'Halsted St & 63rd St'],\n",
       " 'KA1504000168': ['Western & 28th - Velasquez Institute Vaccination Site',\n",
       "  'Western Ave & 28th St'],\n",
       " 'TA1306000015': ['Sangamon St & Lake St', 'Morgan St & Lake St'],\n",
       " 'TA1306000026': ['Racine Ave & Fullerton Ave',\n",
       "  'Racine Ave & Fullerton Ave (Temp)'],\n",
       " 'TA1307000138': ['Lincoln Ave & Roscoe St', 'Wood St & Webster Ave'],\n",
       " 'TA1309000042': ['Lincoln Ave & Belmont Ave (Temp)',\n",
       "  'Lincoln Ave & Belmont Ave']}"
      ]
     },
     "execution_count": 227,
     "metadata": {},
     "output_type": "execute_result"
    }
   ],
   "source": [
    "repeated_ids"
   ]
  },
  {
   "cell_type": "markdown",
   "id": "2016a70e",
   "metadata": {},
   "source": [
    "Many id's do refer to different station names, but many of them have a version with \"Public Rack - \" or with \" (Temp)\" in the name and a version without. \n",
    "\n",
    "The next lines fix this so that the data is a bit more homogenous and the analisys more reliable."
   ]
  },
  {
   "cell_type": "code",
   "execution_count": 228,
   "id": "27fe140a",
   "metadata": {},
   "outputs": [
    {
     "name": "stderr",
     "output_type": "stream",
     "text": [
      "C:\\Users\\Juan\\AppData\\Local\\Temp/ipykernel_14868/1033773167.py:4: FutureWarning: The default value of regex will change from True to False in a future version.\n",
      "  rides_complete[\"start_name\"]\n",
      "C:\\Users\\Juan\\AppData\\Local\\Temp/ipykernel_14868/1033773167.py:10: FutureWarning: The default value of regex will change from True to False in a future version.\n",
      "  rides_complete[\"end_name\"]\n"
     ]
    }
   ],
   "source": [
    "# remove 'Public Rack - ' and ' (Temp)' from station names.\n",
    "\n",
    "rides_complete[\"start_name\"] = (\n",
    "    rides_complete[\"start_name\"]\n",
    "    .str.replace(\"Public Rack - \", \"\")\n",
    "    .str.replace(\" (Temp)\", \"\")\n",
    ")\n",
    "\n",
    "rides_complete[\"end_name\"] = (\n",
    "    rides_complete[\"end_name\"]\n",
    "    .str.replace(\"Public Rack - \", \"\")\n",
    "    .str.replace(\" (Temp)\", \"\")\n",
    ")"
   ]
  },
  {
   "cell_type": "markdown",
   "id": "97eeb41f",
   "metadata": {},
   "source": [
    "And Lets see how many station names we are left with."
   ]
  },
  {
   "cell_type": "code",
   "execution_count": 229,
   "id": "6ca124f1",
   "metadata": {
    "scrolled": true,
    "tags": []
   },
   "outputs": [
    {
     "data": {
      "text/html": [
       "<div>\n",
       "<style scoped>\n",
       "    .dataframe tbody tr th:only-of-type {\n",
       "        vertical-align: middle;\n",
       "    }\n",
       "\n",
       "    .dataframe tbody tr th {\n",
       "        vertical-align: top;\n",
       "    }\n",
       "\n",
       "    .dataframe thead th {\n",
       "        text-align: right;\n",
       "    }\n",
       "</style>\n",
       "<table border=\"1\" class=\"dataframe\">\n",
       "  <thead>\n",
       "    <tr style=\"text-align: right;\">\n",
       "      <th></th>\n",
       "      <th>0</th>\n",
       "    </tr>\n",
       "  </thead>\n",
       "  <tbody>\n",
       "    <tr>\n",
       "      <th>start_name</th>\n",
       "      <td>1407</td>\n",
       "    </tr>\n",
       "    <tr>\n",
       "      <th>start_id</th>\n",
       "      <td>1315</td>\n",
       "    </tr>\n",
       "    <tr>\n",
       "      <th>end_name</th>\n",
       "      <td>1407</td>\n",
       "    </tr>\n",
       "    <tr>\n",
       "      <th>end_id</th>\n",
       "      <td>1319</td>\n",
       "    </tr>\n",
       "  </tbody>\n",
       "</table>\n",
       "</div>"
      ],
      "text/plain": [
       "               0\n",
       "start_name  1407\n",
       "start_id    1315\n",
       "end_name    1407\n",
       "end_id      1319"
      ]
     },
     "execution_count": 229,
     "metadata": {},
     "output_type": "execute_result"
    }
   ],
   "source": [
    "rides_complete[[\"start_name\", \"start_id\", \"end_name\", \"end_id\"]].nunique().to_frame()"
   ]
  },
  {
   "cell_type": "markdown",
   "id": "9b88df33",
   "metadata": {},
   "source": [
    "Its a little bit better, there still are a lot more station names and ids than there should be, but at least the mapping is closer to being 1 to 1. The following does the same but the other way around: shows station names that point to multiple id's."
   ]
  },
  {
   "cell_type": "code",
   "execution_count": 230,
   "id": "04f42357",
   "metadata": {},
   "outputs": [
    {
     "data": {
      "text/plain": [
       "21"
      ]
     },
     "execution_count": 230,
     "metadata": {},
     "output_type": "execute_result"
    }
   ],
   "source": [
    "repeated_names = not_unique(\"start_name\", \"start_id\", 0.2)\n",
    "len(repeated_names)"
   ]
  },
  {
   "cell_type": "code",
   "execution_count": 231,
   "id": "7f917545",
   "metadata": {
    "scrolled": true
   },
   "outputs": [
    {
     "data": {
      "text/plain": [
       "{'Ashland Ave & 63rd St': ['16948', '996'],\n",
       " 'California Ave & Cortez St': ['17660', '512'],\n",
       " 'Calumet Ave & 51st St': ['15470', '813'],\n",
       " 'Central Park Ave & Ogden Ave': ['15685', '532'],\n",
       " 'Christiana Ave & Lawrence Ave': ['860', '15615'],\n",
       " 'Clyde Ave & 87th St': ['20230', '986'],\n",
       " 'East End Ave & 87th St': ['20231', '883'],\n",
       " 'Eberhart Ave & 61st St': ['KA1503000033', '955'],\n",
       " 'Eggleston Ave & 92nd St': ['20118', '707'],\n",
       " 'Ewing Ave & 106th St': ['980', '612'],\n",
       " 'Halsted St & 111th St': ['20127', '875'],\n",
       " 'Halsted St & 63rd St': ['745', 'KA1503000055'],\n",
       " 'Jeffery Blvd & 67th St': ['KA1503000030', '753'],\n",
       " 'Kedzie Ave & Chicago Ave': ['KA1504000114', '1055'],\n",
       " 'Kostner Ave & Wrightwood Ave': ['321', '1018'],\n",
       " 'Lake Park Ave & 47th St': ['TA1308000035', '812'],\n",
       " 'Lawndale Ave & 111th St': ['20203', '893'],\n",
       " 'Prairie Ave & Garfield Blvd': ['TA1307000160', '906', '954'],\n",
       " 'Pulaski Rd & Lake St': ['528', '1013'],\n",
       " 'South Shore Dr & 71st St': ['KA1503000002', '948'],\n",
       " 'Wabash Ave & 87th St': ['595', '644']}"
      ]
     },
     "execution_count": 231,
     "metadata": {},
     "output_type": "execute_result"
    }
   ],
   "source": [
    "repeated_names"
   ]
  },
  {
   "cell_type": "code",
   "execution_count": 232,
   "id": "8fbdb1e2",
   "metadata": {},
   "outputs": [],
   "source": [
    "del repeated_ids, repeated_names"
   ]
  },
  {
   "cell_type": "markdown",
   "id": "b15cafbd",
   "metadata": {},
   "source": [
    "There are no obvious patterns here, but the good thing is that the problem is a lot less severe in this direction: there are many id's that point to multiple station names but few names pointing to multiple ids. \n",
    "\n",
    "Maybe an explanation for all of this is that the stations changed names/id's at some point? Let's investigate how many unique station names/id's are there per month to check this hypothesis. \n",
    "\n",
    "For this purpose, it will be easiest to convert the dates into datetime objects and then get the year and month, but first it is necessary to verify the date format is consistent throughout the data. The next lists show the dates that do not start with either the year 2022 or 2023. Since they are both empty it is safe to say that the format is consistent."
   ]
  },
  {
   "cell_type": "code",
   "execution_count": 233,
   "id": "50a0974d",
   "metadata": {},
   "outputs": [
    {
     "data": {
      "text/plain": [
       "[]"
      ]
     },
     "execution_count": 233,
     "metadata": {},
     "output_type": "execute_result"
    }
   ],
   "source": [
    "[date for date in rides_complete[\"start_time\"] if date[:4] not in [\"2022\", \"2023\"]]"
   ]
  },
  {
   "cell_type": "code",
   "execution_count": 234,
   "id": "e3da3176",
   "metadata": {
    "scrolled": true
   },
   "outputs": [
    {
     "data": {
      "text/plain": [
       "[]"
      ]
     },
     "execution_count": 234,
     "metadata": {},
     "output_type": "execute_result"
    }
   ],
   "source": [
    "[date for date in rides_complete[\"end_time\"] if date[:4] not in [\"2022\", \"2023\"]]"
   ]
  },
  {
   "cell_type": "markdown",
   "id": "02c94b5e",
   "metadata": {},
   "source": [
    "Next the dates are typecasted as datetime objects and the the year, month and time of day extracted since it might be interesting to study the hourly usage of the bikes in the analysis phase."
   ]
  },
  {
   "cell_type": "code",
   "execution_count": 235,
   "id": "91649e03",
   "metadata": {},
   "outputs": [],
   "source": [
    "# Convert start and end times from string to datetime\n",
    "\n",
    "rides_complete[\"start_time\"] = pd.to_datetime(\n",
    "    rides_complete[\"start_time\"], format=\"%Y-%m-%d %H:%M:%S\"\n",
    ")\n",
    "\n",
    "rides_complete[\"end_time\"] = pd.to_datetime(\n",
    "    rides_complete[\"end_time\"], format=\"%Y-%m-%d %H:%M:%S\"\n",
    ")"
   ]
  },
  {
   "cell_type": "code",
   "execution_count": 236,
   "id": "76ac33dd",
   "metadata": {},
   "outputs": [],
   "source": [
    "# Extract year, month and time of day (hour) from the start time for the ride.\n",
    "\n",
    "rides_complete = rides_complete.assign(year=rides_complete[\"start_time\"].dt.year)\n",
    "rides_complete = rides_complete.assign(month=rides_complete[\"start_time\"].dt.month)\n",
    "rides_complete = rides_complete.assign(time_of_day=rides_complete[\"start_time\"].dt.hour)"
   ]
  },
  {
   "cell_type": "markdown",
   "id": "58e8786c",
   "metadata": {},
   "source": [
    "And since it would be more comfortable to see the months with their names, and to keep them ordered, we can make a mapping and enforce a chronological order into it."
   ]
  },
  {
   "cell_type": "code",
   "execution_count": 237,
   "id": "611596a9",
   "metadata": {},
   "outputs": [],
   "source": [
    "months = {\n",
    "    1: \"Jan\",\n",
    "    2: \"Feb\",\n",
    "    3: \"Mar\",\n",
    "    4: \"Apr\",\n",
    "    5: \"May\",\n",
    "    6: \"Jun\",\n",
    "    7: \"Jul\",\n",
    "    8: \"Aug\",\n",
    "    9: \"Sep\",\n",
    "    10: \"Oct\",\n",
    "    11: \"Nov\",\n",
    "    12: \"Dec\",\n",
    "}\n",
    "\n",
    "month_order = [\n",
    "    \"Mar\",\n",
    "    \"Apr\",\n",
    "    \"May\",\n",
    "    \"Jun\",\n",
    "    \"Jul\",\n",
    "    \"Aug\",\n",
    "    \"Sep\",\n",
    "    \"Oct\",\n",
    "    \"Nov\",\n",
    "    \"Dec\",\n",
    "    \"Jan\",\n",
    "    \"Feb\",\n",
    "]\n",
    "\n",
    "# imposes a categorical order to the names of each month.\n",
    "rides_complete[\"month\"] = (\n",
    "    rides_complete[\"month\"]\n",
    "    .map(months)\n",
    "    .astype(pd.api.types.CategoricalDtype(categories=month_order, ordered=True))\n",
    ")"
   ]
  },
  {
   "cell_type": "markdown",
   "id": "5c65be37",
   "metadata": {},
   "source": [
    "The following table shows how many unique station names and id's are found per month for the last 12 months."
   ]
  },
  {
   "cell_type": "code",
   "execution_count": 238,
   "id": "9565494d",
   "metadata": {},
   "outputs": [
    {
     "data": {
      "text/html": [
       "<div>\n",
       "<style scoped>\n",
       "    .dataframe tbody tr th:only-of-type {\n",
       "        vertical-align: middle;\n",
       "    }\n",
       "\n",
       "    .dataframe tbody tr th {\n",
       "        vertical-align: top;\n",
       "    }\n",
       "\n",
       "    .dataframe thead th {\n",
       "        text-align: right;\n",
       "    }\n",
       "</style>\n",
       "<table border=\"1\" class=\"dataframe\">\n",
       "  <thead>\n",
       "    <tr style=\"text-align: right;\">\n",
       "      <th></th>\n",
       "      <th>start_name</th>\n",
       "      <th>start_id</th>\n",
       "      <th>end_name</th>\n",
       "      <th>end_id</th>\n",
       "    </tr>\n",
       "    <tr>\n",
       "      <th>month</th>\n",
       "      <th></th>\n",
       "      <th></th>\n",
       "      <th></th>\n",
       "      <th></th>\n",
       "    </tr>\n",
       "  </thead>\n",
       "  <tbody>\n",
       "    <tr>\n",
       "      <th>Mar</th>\n",
       "      <td>844</td>\n",
       "      <td>844</td>\n",
       "      <td>835</td>\n",
       "      <td>835</td>\n",
       "    </tr>\n",
       "    <tr>\n",
       "      <th>Apr</th>\n",
       "      <td>840</td>\n",
       "      <td>840</td>\n",
       "      <td>838</td>\n",
       "      <td>837</td>\n",
       "    </tr>\n",
       "    <tr>\n",
       "      <th>May</th>\n",
       "      <td>1086</td>\n",
       "      <td>1051</td>\n",
       "      <td>1092</td>\n",
       "      <td>1055</td>\n",
       "    </tr>\n",
       "    <tr>\n",
       "      <th>Jun</th>\n",
       "      <td>1149</td>\n",
       "      <td>1116</td>\n",
       "      <td>1162</td>\n",
       "      <td>1128</td>\n",
       "    </tr>\n",
       "    <tr>\n",
       "      <th>Jul</th>\n",
       "      <td>1192</td>\n",
       "      <td>1148</td>\n",
       "      <td>1204</td>\n",
       "      <td>1162</td>\n",
       "    </tr>\n",
       "    <tr>\n",
       "      <th>Aug</th>\n",
       "      <td>1229</td>\n",
       "      <td>1191</td>\n",
       "      <td>1217</td>\n",
       "      <td>1185</td>\n",
       "    </tr>\n",
       "    <tr>\n",
       "      <th>Sep</th>\n",
       "      <td>1172</td>\n",
       "      <td>1131</td>\n",
       "      <td>1177</td>\n",
       "      <td>1136</td>\n",
       "    </tr>\n",
       "    <tr>\n",
       "      <th>Oct</th>\n",
       "      <td>1091</td>\n",
       "      <td>1069</td>\n",
       "      <td>1099</td>\n",
       "      <td>1071</td>\n",
       "    </tr>\n",
       "    <tr>\n",
       "      <th>Nov</th>\n",
       "      <td>1051</td>\n",
       "      <td>1037</td>\n",
       "      <td>1059</td>\n",
       "      <td>1041</td>\n",
       "    </tr>\n",
       "    <tr>\n",
       "      <th>Dec</th>\n",
       "      <td>997</td>\n",
       "      <td>980</td>\n",
       "      <td>981</td>\n",
       "      <td>967</td>\n",
       "    </tr>\n",
       "    <tr>\n",
       "      <th>Jan</th>\n",
       "      <td>960</td>\n",
       "      <td>944</td>\n",
       "      <td>961</td>\n",
       "      <td>943</td>\n",
       "    </tr>\n",
       "    <tr>\n",
       "      <th>Feb</th>\n",
       "      <td>969</td>\n",
       "      <td>955</td>\n",
       "      <td>961</td>\n",
       "      <td>950</td>\n",
       "    </tr>\n",
       "  </tbody>\n",
       "</table>\n",
       "</div>"
      ],
      "text/plain": [
       "       start_name  start_id  end_name  end_id\n",
       "month                                        \n",
       "Mar           844       844       835     835\n",
       "Apr           840       840       838     837\n",
       "May          1086      1051      1092    1055\n",
       "Jun          1149      1116      1162    1128\n",
       "Jul          1192      1148      1204    1162\n",
       "Aug          1229      1191      1217    1185\n",
       "Sep          1172      1131      1177    1136\n",
       "Oct          1091      1069      1099    1071\n",
       "Nov          1051      1037      1059    1041\n",
       "Dec           997       980       981     967\n",
       "Jan           960       944       961     943\n",
       "Feb           969       955       961     950"
      ]
     },
     "execution_count": 238,
     "metadata": {},
     "output_type": "execute_result"
    }
   ],
   "source": [
    "rides_complete.groupby(\"month\")[\n",
    "    [\"start_name\", \"start_id\", \"end_name\", \"end_id\"]\n",
    "].nunique()"
   ]
  },
  {
   "cell_type": "markdown",
   "id": "0c36238c",
   "metadata": {},
   "source": [
    "The number of stations is not accurate nor consistent on any of these fields, since the number of stations is in reality around 600, which is half to 3/4 of the monthly reported stations on the data. To homogenize things a little bit, we proceed to make the mapping of station names to id's one to one (or at least as much as possible). After some testing it was found that the most effective way of doing it is to start reducing the number of names and continue with the ids."
   ]
  },
  {
   "cell_type": "code",
   "execution_count": 252,
   "id": "de814028-2ce4-4f3e-8b3a-43dd8de7d4e5",
   "metadata": {},
   "outputs": [],
   "source": [
    "def id_name_map(df, field1, field2):\n",
    "    '''This function makes the relation between field1 and field2 values a surjective one. \n",
    "    This means that each field1 value will map to a single value in field2. Applying this \n",
    "    function twice, once from field1 to field2 and the sencond time from field2 to field1\n",
    "    will make the mapping one to one.'''\n",
    "    \n",
    "    # selects the first field2 value appearing in the data for each unique field1 value\n",
    "    val_to_keep = df.groupby(field1)[field2].apply(lambda x: x.iloc[0])\n",
    "\n",
    "    # returns the selected field2 value for each unique field 1 value.\n",
    "    # after this all field1 value will point to one unique field 2 value\n",
    "    return df[field1].apply(lambda x: val_to_keep[x])"
   ]
  },
  {
   "cell_type": "code",
   "execution_count": 246,
   "id": "717325ed-5909-4e55-8048-e5ef2fbd5baf",
   "metadata": {},
   "outputs": [],
   "source": [
    "# This makes the start stations names and ids one to one.\n",
    "\n",
    "rides_complete['start_name'] = id_name_map(rides_complete, 'start_id', 'start_name')\n",
    "rides_complete['start_id'] = id_name_map(rides_complete, 'start_name', 'start_id')"
   ]
  },
  {
   "cell_type": "code",
   "execution_count": 248,
   "id": "189ae8d9-c0cf-4dfe-be53-29b9c8b1faef",
   "metadata": {},
   "outputs": [],
   "source": [
    "# and this is for the end stations\n",
    "\n",
    "rides_complete['end_name'] = id_name_map(rides_complete, 'end_id', 'end_name')\n",
    "rides_complete['end_id'] = id_name_map(rides_complete, 'end_name', 'end_id')"
   ]
  },
  {
   "cell_type": "markdown",
   "id": "7b72907c",
   "metadata": {},
   "source": [
    "After this we at least have some consistency: the number of names and id's for start/end stations is the same within each month."
   ]
  },
  {
   "cell_type": "code",
   "execution_count": 253,
   "id": "34571376-c758-4a60-8df3-0a56a840eb64",
   "metadata": {},
   "outputs": [
    {
     "data": {
      "text/html": [
       "<div>\n",
       "<style scoped>\n",
       "    .dataframe tbody tr th:only-of-type {\n",
       "        vertical-align: middle;\n",
       "    }\n",
       "\n",
       "    .dataframe tbody tr th {\n",
       "        vertical-align: top;\n",
       "    }\n",
       "\n",
       "    .dataframe thead th {\n",
       "        text-align: right;\n",
       "    }\n",
       "</style>\n",
       "<table border=\"1\" class=\"dataframe\">\n",
       "  <thead>\n",
       "    <tr style=\"text-align: right;\">\n",
       "      <th></th>\n",
       "      <th>start_name</th>\n",
       "      <th>start_id</th>\n",
       "      <th>end_name</th>\n",
       "      <th>end_id</th>\n",
       "    </tr>\n",
       "    <tr>\n",
       "      <th>month</th>\n",
       "      <th></th>\n",
       "      <th></th>\n",
       "      <th></th>\n",
       "      <th></th>\n",
       "    </tr>\n",
       "  </thead>\n",
       "  <tbody>\n",
       "    <tr>\n",
       "      <th>Mar</th>\n",
       "      <td>844</td>\n",
       "      <td>844</td>\n",
       "      <td>835</td>\n",
       "      <td>835</td>\n",
       "    </tr>\n",
       "    <tr>\n",
       "      <th>Apr</th>\n",
       "      <td>840</td>\n",
       "      <td>840</td>\n",
       "      <td>837</td>\n",
       "      <td>837</td>\n",
       "    </tr>\n",
       "    <tr>\n",
       "      <th>May</th>\n",
       "      <td>1043</td>\n",
       "      <td>1043</td>\n",
       "      <td>1047</td>\n",
       "      <td>1047</td>\n",
       "    </tr>\n",
       "    <tr>\n",
       "      <th>Jun</th>\n",
       "      <td>1101</td>\n",
       "      <td>1101</td>\n",
       "      <td>1111</td>\n",
       "      <td>1111</td>\n",
       "    </tr>\n",
       "    <tr>\n",
       "      <th>Jul</th>\n",
       "      <td>1133</td>\n",
       "      <td>1133</td>\n",
       "      <td>1146</td>\n",
       "      <td>1146</td>\n",
       "    </tr>\n",
       "    <tr>\n",
       "      <th>Aug</th>\n",
       "      <td>1172</td>\n",
       "      <td>1172</td>\n",
       "      <td>1163</td>\n",
       "      <td>1163</td>\n",
       "    </tr>\n",
       "    <tr>\n",
       "      <th>Sep</th>\n",
       "      <td>1116</td>\n",
       "      <td>1116</td>\n",
       "      <td>1118</td>\n",
       "      <td>1118</td>\n",
       "    </tr>\n",
       "    <tr>\n",
       "      <th>Oct</th>\n",
       "      <td>1059</td>\n",
       "      <td>1059</td>\n",
       "      <td>1061</td>\n",
       "      <td>1061</td>\n",
       "    </tr>\n",
       "    <tr>\n",
       "      <th>Nov</th>\n",
       "      <td>1025</td>\n",
       "      <td>1025</td>\n",
       "      <td>1029</td>\n",
       "      <td>1029</td>\n",
       "    </tr>\n",
       "    <tr>\n",
       "      <th>Dec</th>\n",
       "      <td>974</td>\n",
       "      <td>974</td>\n",
       "      <td>960</td>\n",
       "      <td>960</td>\n",
       "    </tr>\n",
       "    <tr>\n",
       "      <th>Jan</th>\n",
       "      <td>941</td>\n",
       "      <td>941</td>\n",
       "      <td>941</td>\n",
       "      <td>941</td>\n",
       "    </tr>\n",
       "    <tr>\n",
       "      <th>Feb</th>\n",
       "      <td>952</td>\n",
       "      <td>952</td>\n",
       "      <td>945</td>\n",
       "      <td>945</td>\n",
       "    </tr>\n",
       "  </tbody>\n",
       "</table>\n",
       "</div>"
      ],
      "text/plain": [
       "       start_name  start_id  end_name  end_id\n",
       "month                                        \n",
       "Mar           844       844       835     835\n",
       "Apr           840       840       837     837\n",
       "May          1043      1043      1047    1047\n",
       "Jun          1101      1101      1111    1111\n",
       "Jul          1133      1133      1146    1146\n",
       "Aug          1172      1172      1163    1163\n",
       "Sep          1116      1116      1118    1118\n",
       "Oct          1059      1059      1061    1061\n",
       "Nov          1025      1025      1029    1029\n",
       "Dec           974       974       960     960\n",
       "Jan           941       941       941     941\n",
       "Feb           952       952       945     945"
      ]
     },
     "execution_count": 253,
     "metadata": {},
     "output_type": "execute_result"
    }
   ],
   "source": [
    "rides_complete.groupby(\"month\")[\n",
    "    [\"start_name\", \"start_id\", \"end_name\", \"end_id\"]\n",
    "].nunique()"
   ]
  },
  {
   "cell_type": "markdown",
   "id": "5b8dadad",
   "metadata": {},
   "source": [
    "And the total number of names and ids for start and end stations are almost exactly the same."
   ]
  },
  {
   "cell_type": "code",
   "execution_count": null,
   "id": "f4b5120f",
   "metadata": {},
   "outputs": [],
   "source": [
    "rides_complete[[\"start_name\", \"end_name\", \"start_id\", \"end_id\"]].nunique()"
   ]
  },
  {
   "cell_type": "code",
   "execution_count": null,
   "id": "b5855e03",
   "metadata": {},
   "outputs": [],
   "source": [
    "rides_homogenized = rides_complete.copy()"
   ]
  },
  {
   "cell_type": "markdown",
   "id": "46434bc6",
   "metadata": {},
   "source": [
    "There still are a lot more stations than there should be but at least now the relation of station names to id's is (almost) 1 to 1 and they are standardized for start and end stations.\n",
    "\n",
    "\n",
    "Next, there are multiple sets of coordinates for each station, differing only by a small amount between them, as can be seen below for one single station having over 5000 values for its latitude. "
   ]
  },
  {
   "cell_type": "code",
   "execution_count": null,
   "id": "cb744073",
   "metadata": {},
   "outputs": [],
   "source": [
    "rides_homogenized[[\"start_lat\", \"start_lng\", \"end_lat\", \"end_lng\"]].nunique()"
   ]
  },
  {
   "cell_type": "code",
   "execution_count": null,
   "id": "65146189",
   "metadata": {},
   "outputs": [],
   "source": [
    "rides_homogenized[rides_homogenized[\"start_name\"] == \"State St & Kinzie St\"][\n",
    "    \"start_lat\"\n",
    "].nunique()"
   ]
  },
  {
   "cell_type": "code",
   "execution_count": null,
   "id": "6dd06cb3",
   "metadata": {},
   "outputs": [],
   "source": [
    "rides_homogenized[rides_homogenized[\"start_id\"] == \"13042\"][\"start_lat\"].head(5)"
   ]
  },
  {
   "cell_type": "markdown",
   "id": "db5512f9",
   "metadata": {},
   "source": [
    "Before we implement any solution it might be a good idea to address the issue with the end station coordinate ranges."
   ]
  },
  {
   "cell_type": "code",
   "execution_count": null,
   "id": "cc0a2995",
   "metadata": {},
   "outputs": [],
   "source": [
    "rides_homogenized[[\"start_lat\", \"start_lng\", \"end_lat\", \"end_lng\"]].agg(\n",
    "    [\"max\", \"min\"]\n",
    ").transpose()"
   ]
  },
  {
   "cell_type": "markdown",
   "id": "e443660f",
   "metadata": {},
   "source": [
    "The ranges shoud be roughly the same but for some reason it is very different for the end stations. The coordinate range shown above accounts for roughly 1/16th of the Earth's surface area, so there is something fishy going on. \n",
    "\n",
    "After checking the data with trips ending in coordinates outside the range for the start stations we find that there is a minimal amount of rides that fall outside that range, and their coordinates all have a value of 0.0, 0.0. Also, all of them ended at Green St & Madison Ave* station."
   ]
  },
  {
   "cell_type": "code",
   "execution_count": null,
   "id": "02d02c17",
   "metadata": {},
   "outputs": [],
   "source": [
    "rides_homogenized[\n",
    "    (rides_homogenized[\"end_lat\"] < 40) | (rides_homogenized[\"end_lng\"] > -87)\n",
    "]"
   ]
  },
  {
   "cell_type": "markdown",
   "id": "ca0940b8",
   "metadata": {},
   "source": [
    "It is easy to confirm that this is not the case for all records of that station; there are other instances where the coordinates do fall within the range, so we can use any of those as a replacement."
   ]
  },
  {
   "cell_type": "code",
   "execution_count": null,
   "id": "13fb6016",
   "metadata": {
    "scrolled": true
   },
   "outputs": [],
   "source": [
    "rides_homogenized[rides_homogenized[\"end_name\"] == \"Green St & Madison Ave*\"].head(2)"
   ]
  },
  {
   "cell_type": "code",
   "execution_count": null,
   "id": "695287c2",
   "metadata": {},
   "outputs": [],
   "source": [
    "rides_homogenized.loc[rides_homogenized[\"end_lat\"] < 40, \"end_lat\"] = 41.881827\n",
    "rides_homogenized.loc[rides_homogenized[\"end_lng\"] > -86.5, \"end_lng\"] = -87.648832"
   ]
  },
  {
   "cell_type": "markdown",
   "id": "19658a23",
   "metadata": {},
   "source": [
    "With this we are left with a more sensible range of coordinates for all stations."
   ]
  },
  {
   "cell_type": "code",
   "execution_count": null,
   "id": "3ea88d9c",
   "metadata": {},
   "outputs": [],
   "source": [
    "rides_homogenized[[\"start_lat\", \"start_lng\", \"end_lat\", \"end_lng\"]].agg(\n",
    "    [\"min\", \"max\"]\n",
    ").transpose()"
   ]
  },
  {
   "cell_type": "markdown",
   "id": "06c2f83b",
   "metadata": {},
   "source": [
    "Now that this has been taken care of, one posible solution to the issue of the multiple sets of coordinates per station is to use the average of each stations coordinates to figure out the average coordinate \"distance\" between them. This will allow us to determine at which decimal point could we round up the coordinates without mixing up different stations. "
   ]
  },
  {
   "cell_type": "code",
   "execution_count": null,
   "id": "6ce8c30d",
   "metadata": {
    "scrolled": true
   },
   "outputs": [],
   "source": [
    "rides_coords = (\n",
    "    rides_homogenized[rides_homogenized[\"start_name\"] != \"No station\"]\n",
    "    .groupby(\"start_name\")[[\"start_lat\", \"start_lng\"]]\n",
    "    .mean()\n",
    "    .rename(columns={\"start_lat\": \"lat\", \"start_lng\": \"lng\"})\n",
    ")"
   ]
  },
  {
   "cell_type": "code",
   "execution_count": null,
   "id": "1a683343",
   "metadata": {},
   "outputs": [],
   "source": [
    "rides_coords.sort_values(\"lat\")[\"lat\"].diff().mean()"
   ]
  },
  {
   "cell_type": "code",
   "execution_count": null,
   "id": "107700f4",
   "metadata": {
    "scrolled": true
   },
   "outputs": [],
   "source": [
    "rides_coords.sort_values(\"lng\")[\"lng\"].diff().mean()"
   ]
  },
  {
   "cell_type": "code",
   "execution_count": null,
   "id": "e936e790",
   "metadata": {},
   "outputs": [],
   "source": [
    "del rides_coords"
   ]
  },
  {
   "cell_type": "markdown",
   "id": "3c8d4b45",
   "metadata": {},
   "source": [
    "From these results it looks like the 5th decimal point would give a good amount of precision to differentiate stations, while elimination many of the small vatiations within each station. "
   ]
  },
  {
   "cell_type": "code",
   "execution_count": null,
   "id": "b4e2d34a",
   "metadata": {},
   "outputs": [],
   "source": [
    "for coord in [\"start_lat\", \"start_lng\"]:\n",
    "    rides_homogenized[coord] = round(rides_homogenized[coord], 5)\n",
    "\n",
    "for coord in [\"end_lat\", \"end_lng\"]:\n",
    "    rides_homogenized[coord] = round(rides_homogenized[coord], 5)"
   ]
  },
  {
   "cell_type": "markdown",
   "id": "38aca29e",
   "metadata": {},
   "source": [
    "And here it is again the number of unique values for each field after these modifications."
   ]
  },
  {
   "cell_type": "code",
   "execution_count": null,
   "id": "6be98fed",
   "metadata": {
    "scrolled": true
   },
   "outputs": [],
   "source": [
    "rides_homogenized[\n",
    "    [\n",
    "        \"start_name\",\n",
    "        \"end_name\",\n",
    "        \"start_id\",\n",
    "        \"end_id\",\n",
    "        \"start_lat\",\n",
    "        \"end_lat\",\n",
    "        \"start_lng\",\n",
    "        \"end_lng\",\n",
    "    ]\n",
    "].nunique()"
   ]
  },
  {
   "cell_type": "markdown",
   "id": "1b7d5e31",
   "metadata": {},
   "source": [
    "It is by no means perfect, but it will be good enough for analysis. Some further study on the actual stations, their current names and ids as well as their locations, could help make the data more congruent with real life. "
   ]
  },
  {
   "cell_type": "code",
   "execution_count": null,
   "id": "b2e4aff5",
   "metadata": {},
   "outputs": [],
   "source": [
    "rides_clean = rides_homogenized.copy()"
   ]
  },
  {
   "cell_type": "markdown",
   "id": "6977574e",
   "metadata": {},
   "source": [
    "# Feature Engineering <a name=\"feature\"></a>\n",
    "\n",
    "There are a couple fields that might be useful to have, such as the pure date for each trip, the day of week when it happened and the distance travelled. The next subsections are dedicated to these fields. \n",
    "\n",
    "## Date <a name=\"date\"></a>\n",
    "\n",
    "We already have a datetime object from which we can extract the date."
   ]
  },
  {
   "cell_type": "code",
   "execution_count": null,
   "id": "86db1d52",
   "metadata": {},
   "outputs": [],
   "source": [
    "rides_clean[\"date\"] = rides_clean[\"start_time\"].apply(lambda x: x.date())"
   ]
  },
  {
   "cell_type": "markdown",
   "id": "97d27742",
   "metadata": {},
   "source": [
    "## Duration <a name=\"duration\"></a>\n",
    "\n",
    "In short, how much time passed from the moment the ride started to the moment it ended."
   ]
  },
  {
   "cell_type": "code",
   "execution_count": null,
   "id": "3f6e143d",
   "metadata": {},
   "outputs": [],
   "source": [
    "rides_clean[\"duration\"] = rides_clean[\"end_time\"] - rides_clean[\"start_time\"]"
   ]
  },
  {
   "cell_type": "markdown",
   "id": "5ec45971",
   "metadata": {},
   "source": [
    "For consistency we check for any negative durations, since they don't really make sense in this scenario, as well as really long ones. The following lines show that there was a 23 day ride and, more importantly, there is in fact at least one trip with a negative duration."
   ]
  },
  {
   "cell_type": "code",
   "execution_count": null,
   "id": "64b91e7c",
   "metadata": {},
   "outputs": [],
   "source": [
    "rides_clean[\"duration\"].max()"
   ]
  },
  {
   "cell_type": "code",
   "execution_count": null,
   "id": "76230792",
   "metadata": {},
   "outputs": [],
   "source": [
    "rides_clean[\"duration\"].min()"
   ]
  },
  {
   "cell_type": "markdown",
   "id": "34c62807",
   "metadata": {},
   "source": [
    "Since there is at least one acount of a trip with a negative duration, it is worth studying if this is an extended issue or if it is just a few exceptions. The percentage of trips that have a negative duration is"
   ]
  },
  {
   "cell_type": "code",
   "execution_count": null,
   "id": "c6974e01",
   "metadata": {},
   "outputs": [],
   "source": [
    "len(rides_clean[rides_clean[\"duration\"] < timedelta(seconds=0)]) / len(\n",
    "    rides_clean\n",
    ") * 100"
   ]
  },
  {
   "cell_type": "markdown",
   "id": "3520c91f",
   "metadata": {},
   "source": [
    "Since the percentage is minimal, we can safely discard these records. Also, the bike sharing website sugests that the data should be purged of rows with a duration of less than 60 seconds, since those could be fake starts or servicing tasks made by the staff. The next line of code removes both cases at once."
   ]
  },
  {
   "cell_type": "code",
   "execution_count": null,
   "id": "3e4ef7be",
   "metadata": {},
   "outputs": [],
   "source": [
    "rides_clean = rides_clean[rides_clean[\"duration\"] >= timedelta(seconds=60)]"
   ]
  },
  {
   "cell_type": "markdown",
   "id": "be3a2772",
   "metadata": {},
   "source": [
    "And for visualization purposes the duration as an int field might make things easier, so the next line calculates the duration of the ride in minutes."
   ]
  },
  {
   "cell_type": "code",
   "execution_count": null,
   "id": "a3131894",
   "metadata": {},
   "outputs": [],
   "source": [
    "rides_clean[\"minutes\"] = rides_clean[\"duration\"].apply(\n",
    "    lambda x: round(x.total_seconds() / 60, 1)\n",
    ")"
   ]
  },
  {
   "cell_type": "markdown",
   "id": "07e60263",
   "metadata": {},
   "source": [
    "## Day of Week <a name=\"dow\"></a>"
   ]
  },
  {
   "cell_type": "markdown",
   "id": "fd4d66b8",
   "metadata": {},
   "source": [
    "Different types of users might use the bikes on different days of the week. To test this we will need to know the day of the week for each trip. The date for the beginning of the trip is used."
   ]
  },
  {
   "cell_type": "code",
   "execution_count": null,
   "id": "0a955045",
   "metadata": {},
   "outputs": [],
   "source": [
    "days = {\n",
    "    0: \"Monday\",\n",
    "    1: \"Tuesday\",\n",
    "    2: \"Wednesday\",\n",
    "    3: \"Thursday\",\n",
    "    4: \"Friday\",\n",
    "    5: \"Saturday\",\n",
    "    6: \"Sunday\",\n",
    "}\n",
    "days_order = [\n",
    "    \"Monday\",\n",
    "    \"Tuesday\",\n",
    "    \"Wednesday\",\n",
    "    \"Thursday\",\n",
    "    \"Friday\",\n",
    "    \"Saturday\",\n",
    "    \"Sunday\",\n",
    "]"
   ]
  },
  {
   "cell_type": "code",
   "execution_count": null,
   "id": "dae437ad",
   "metadata": {},
   "outputs": [],
   "source": [
    "rides_clean[\"day_of_week\"] = (\n",
    "    rides_clean[\"start_time\"]\n",
    "    .map(lambda x: x.weekday())\n",
    "    .map(days)\n",
    "    .astype(pd.api.types.CategoricalDtype(categories=days_order, ordered=True))\n",
    ")"
   ]
  },
  {
   "cell_type": "markdown",
   "id": "36f3bc5a",
   "metadata": {},
   "source": [
    "## Distance Travelled <a name=\"distance\"></a>"
   ]
  },
  {
   "cell_type": "markdown",
   "id": "dcb664a4",
   "metadata": {},
   "source": [
    "The distance from start to end station can be found using pythagoras theorem,  but to convert from latitudes and longitudes to meters or km it requires an additional step. \n",
    "\n",
    "### Latitude\n",
    "The north-south location is determined by its latitude, which is meassured from the equator, from 0° to $\\pm$90°. \n",
    "The vertical distance, $d_{lat}$, approximating the Earth as a perfect sphere, is given by Earth's radius, $R\\approx 6371 km$, and by the difference in latitude, $\\Delta\\phi$, measured in radians, that is\n",
    "\n",
    "<p style=\"text-align: center;\"> $d_{lat} = R\\Delta\\phi \\frac{\\pi}{180}$ </p>\n",
    "\n",
    "It comes down to arround 111.195 km per degree of latitude.\n",
    "\n",
    "### Longitude\n",
    "For longitude - that is, the east-west location - it is a little bit trickier: since the distance between each longitude line decreases as you approach the poles, there is an additional factor. An easy way to understand it is that it is basically the same as for latitude, we are after all meassuring an arc length, but the radius of the circle is smaller. It is smaller, in fact, by a factor of $cos(\\phi)$. So, if $\\theta$ is is the longitude, then the distance between two given longitudes is\n",
    "\n",
    "<p style=\"text-align: center;\"> $d_{lng} = R\\Delta\\theta cos(\\phi) \\frac{\\pi}{180}$ </p>\n",
    "\n",
    "Which, again, can be simplified to 111.195$cos(\\phi)$ km per degree of longitude.\n",
    "\n",
    "The distance $d$ travelled, then, is approximately\n",
    "\n",
    "<p style=\"text-align: center;\"> $d\\approx \\sqrt{d_{lat}^2+d_{lng}^2}$ </p>\n",
    "\n",
    "and it is valid for short distances, where we can neglect the curvature of the earth. Distances within a city certainly meet this criteria.\n",
    "\n",
    "So lets define some functions to make this a bit cleaner."
   ]
  },
  {
   "cell_type": "code",
   "execution_count": null,
   "id": "1b028744",
   "metadata": {},
   "outputs": [],
   "source": [
    "def lat_distance(df):\n",
    "    return (111.195 * (df[\"end_lat\"] - df[\"start_lat\"])) ** 2\n",
    "\n",
    "\n",
    "def lng_distance(df):\n",
    "    cos = np.cos(df[\"start_lat\"])\n",
    "    return (111.195 * cos * (df[\"end_lng\"] - df[\"start_lng\"])) ** 2\n",
    "\n",
    "\n",
    "def coord_distance(df):\n",
    "    distance_squared = lat_distance(df) + lng_distance(df)\n",
    "    return np.sqrt(distance_squared)"
   ]
  },
  {
   "cell_type": "markdown",
   "id": "050288bd",
   "metadata": {},
   "source": [
    "also, we only need the precission to go as far as meters, so the distance is rounded to 2 decimal places."
   ]
  },
  {
   "cell_type": "code",
   "execution_count": null,
   "id": "4e8f237c",
   "metadata": {
    "scrolled": true
   },
   "outputs": [],
   "source": [
    "rides_clean[\"distance\"] = round(coord_distance(rides_clean), 2)\n",
    "rides_clean.sample(2)"
   ]
  },
  {
   "cell_type": "markdown",
   "id": "08e1e04a",
   "metadata": {},
   "source": [
    "Looks good. For a quick verification we get the range of distances traveled. It goes from 0 km, for trips that ended right where they started, to 36.03 km, which is a reasonable distance to ride in a few hours."
   ]
  },
  {
   "cell_type": "code",
   "execution_count": null,
   "id": "e0e682dc",
   "metadata": {},
   "outputs": [],
   "source": [
    "rides_clean[\"distance\"].agg([\"min\", \"max\"])"
   ]
  },
  {
   "cell_type": "markdown",
   "id": "dbfc07dc",
   "metadata": {},
   "source": [
    "## Speed <a name=\"speed\"></a>\n",
    "\n",
    "It might be interesting to check if there are differences between the average speeds of members vs casual users. The average speed of each trip is given by the total distance traveled divided by the duration of the trip. Since the data has been purged from trips with a duration of less than a minute, there is no danger of dividing by zero."
   ]
  },
  {
   "cell_type": "code",
   "execution_count": null,
   "id": "283ba6bf",
   "metadata": {},
   "outputs": [],
   "source": [
    "rides_clean.loc[rides_clean[\"minutes\"] > 0, \"speed\"] = round(\n",
    "    60 * rides_clean[\"distance\"] / rides_clean[\"minutes\"], 2\n",
    ")"
   ]
  },
  {
   "cell_type": "code",
   "execution_count": null,
   "id": "264d2bf5",
   "metadata": {},
   "outputs": [],
   "source": [
    "rides_with_features = rides_clean.copy()"
   ]
  },
  {
   "cell_type": "markdown",
   "id": "5216d45f",
   "metadata": {},
   "source": [
    "# Outliers <a name=\"outliers\"></a>\n",
    "\n",
    "There is a 23 day trip in the data. This is enough evidence to sugest there may be some outliers lying arround. \n",
    "\n",
    "### duration, speed and distance <a name=\"dynamics\"></a>\n",
    "\n",
    "The next tables show some descrptive summary statistics for duration in minutes, distance traveled and speed.\n",
    "\n",
    "We see that the mean duration is considerably far appart from its median, sugesting there data for this field is highly skewed to the right. This is further verified by the really high standard deviation. Speed is better, but still has a somewhat large standard deviation. The plots below clarify a bit what is the situation with the speeds. For the distance, again, the difference between the mean and the median is considerable, and the standard deviation somewhat large, but nothing huge. \n",
    "\n",
    "The main concern here is then the duration, although all three fields need a closer look."
   ]
  },
  {
   "cell_type": "code",
   "execution_count": null,
   "id": "a125804a",
   "metadata": {
    "scrolled": true
   },
   "outputs": [],
   "source": [
    "rides_with_features[[\"minutes\", \"speed\", \"distance\"]].agg([\"mean\", \"median\", \"std\"])"
   ]
  },
  {
   "cell_type": "markdown",
   "id": "66f222cc",
   "metadata": {},
   "source": [
    "The next plots show, for the same three variables, its interquartile ranges, with the boxplots, as well as the overall distribution of their values, shown in the histograms. \n",
    "\n",
    "It is immediately noticeable that all 3 variables have numerous and significant outliers, the most dramatic being the duration. A close up for each plot shows the main body of the data."
   ]
  },
  {
   "cell_type": "code",
   "execution_count": null,
   "id": "ba718329",
   "metadata": {},
   "outputs": [],
   "source": [
    "fig, ax = plt.subplots(3, 2)\n",
    "\n",
    "fig.set_figwidth(12)\n",
    "fig.set_figheight(10)\n",
    "\n",
    "sns.boxplot(ax=ax[0, 0], data=rides_with_features[\"minutes\"])\n",
    "ax2 = plt.axes([0.17, 0.71, 0.1, 0.12])\n",
    "sns.boxplot(\n",
    "    ax=ax2, data=rides_with_features[rides_with_features[\"minutes\"] < 120][\"minutes\"]\n",
    ")\n",
    "ax2.set_ylim(0, 120)\n",
    "ax[0, 0].set_ylabel(\"Duration\", size=15)\n",
    "\n",
    "sns.histplot(ax=ax[0, 1], data=rides_with_features[\"minutes\"], bins=50)\n",
    "ax2 = plt.axes([0.69, 0.72, 0.15, 0.12])\n",
    "sns.histplot(\n",
    "    ax=ax2,\n",
    "    data=rides_with_features[rides_with_features[\"minutes\"] < 120][\"minutes\"],\n",
    "    bins=50,\n",
    ")\n",
    "ax2.set_xlim(0, 120)\n",
    "\n",
    "sns.boxplot(ax=ax[1, 0], data=rides_with_features[\"speed\"])\n",
    "ax2 = plt.axes([0.17, 0.46, 0.1, 0.12])\n",
    "sns.boxplot(\n",
    "    ax=ax2, data=rides_with_features[rides_with_features[\"speed\"] < 40][\"speed\"]\n",
    ")\n",
    "ax2.set_ylim(0, 40)\n",
    "ax[1, 0].set_ylabel(\"Speed\", size=15)\n",
    "\n",
    "sns.histplot(ax=ax[1, 1], data=rides_with_features[\"speed\"], bins=50)\n",
    "ax2 = plt.axes([0.69, 0.46, 0.15, 0.12])\n",
    "sns.histplot(\n",
    "    ax=ax2,\n",
    "    data=rides_with_features[rides_with_features[\"speed\"] < 40][\"speed\"],\n",
    "    bins=50,\n",
    ")\n",
    "ax2.set_xlim(0, 40)\n",
    "\n",
    "sns.boxplot(ax=ax[2, 0], data=rides_with_features[\"distance\"])\n",
    "ax2 = plt.axes([0.17, 0.18, 0.1, 0.12])\n",
    "sns.boxplot(\n",
    "    ax=ax2, data=rides_with_features[rides_with_features[\"distance\"] < 40][\"distance\"]\n",
    ")\n",
    "ax2.set_ylim(0, 10)\n",
    "ax[2, 0].set_ylabel(\"Distance\", size=15)\n",
    "\n",
    "sns.histplot(ax=ax[2, 1], data=rides_with_features[\"distance\"], bins=50)\n",
    "ax2 = plt.axes([0.68, 0.18, 0.15, 0.12])\n",
    "sns.histplot(\n",
    "    ax=ax2,\n",
    "    data=rides_with_features[rides_with_features[\"distance\"] < 40][\"distance\"],\n",
    "    bins=50,\n",
    ")\n",
    "ax2.set_xlim(0, 15)"
   ]
  },
  {
   "cell_type": "markdown",
   "id": "230ae8bf",
   "metadata": {},
   "source": [
    "Since we are interested in the majority of users, we can trim the data to avoid outliers. The code below shows that by keeping the records that lie within 3 standard deviations of the mean for duration and speed and trips with a length of less than 10 km we are throwing out at most 1.638% of the data. "
   ]
  },
  {
   "cell_type": "code",
   "execution_count": null,
   "id": "bd26fc6e",
   "metadata": {},
   "outputs": [],
   "source": [
    "mins = len(rides_with_features[rides_with_features[\"minutes\"] > 120])\n",
    "speed = len(rides_with_features[rides_with_features[\"speed\"] > 24])\n",
    "dist = len(rides_with_features[rides_with_features[\"distance\"] > 10])\n",
    "\n",
    "100 * (mins + speed + dist) / len(rides_with_features)"
   ]
  },
  {
   "cell_type": "markdown",
   "id": "9410ee58",
   "metadata": {},
   "source": [
    "So lets proceed with filtering out those records (I didn't use exacly 3 standard deviations since part of the tails of the histograms were high enough to stil be statistically significant. For the duration variable it was the opposite, so I used less than 3 std)"
   ]
  },
  {
   "cell_type": "code",
   "execution_count": null,
   "id": "1e50c4fb",
   "metadata": {},
   "outputs": [],
   "source": [
    "rides_filtered = rides_with_features[rides_with_features[\"minutes\"] <= 100]\n",
    "rides_filtered = rides_filtered[rides_filtered[\"speed\"] <= 30]\n",
    "rides_filtered = rides_filtered[rides_filtered[\"distance\"] <= 10]"
   ]
  },
  {
   "cell_type": "code",
   "execution_count": null,
   "id": "a8405439",
   "metadata": {},
   "outputs": [],
   "source": [
    "fig, ax = plt.subplots(3, 2)\n",
    "\n",
    "fig.set_figwidth(12)\n",
    "fig.set_figheight(10)\n",
    "\n",
    "sns.boxplot(ax=ax[0, 0], data=rides_filtered, x=\"minutes\")\n",
    "ax[0, 0].set_ylabel(\"Duration\", size=15)\n",
    "\n",
    "sns.histplot(ax=ax[0, 1], data=rides_filtered[\"minutes\"], bins=50)\n",
    "\n",
    "sns.boxplot(ax=ax[1, 0], data=rides_filtered, x=\"speed\")\n",
    "ax[1, 0].set_ylabel(\"Speed\", size=15)\n",
    "\n",
    "sns.histplot(ax=ax[1, 1], data=rides_filtered[\"speed\"], bins=50)\n",
    "\n",
    "sns.boxplot(ax=ax[2, 0], data=rides_filtered, x=\"distance\")\n",
    "ax[2, 0].set_ylabel(\"Distance\", size=15)\n",
    "\n",
    "sns.histplot(ax=ax[2, 1], data=rides_filtered[\"distance\"], bins=50)"
   ]
  },
  {
   "cell_type": "markdown",
   "id": "737143c0",
   "metadata": {},
   "source": [
    "### Start station coordinates <a name=\"start_coords\"></a>"
   ]
  },
  {
   "cell_type": "code",
   "execution_count": null,
   "id": "dfd82557",
   "metadata": {
    "scrolled": true
   },
   "outputs": [],
   "source": [
    "rides_filtered[[\"start_lat\", \"start_lng\"]].agg([\"mean\", \"median\", \"std\", \"min\", \"max\"])"
   ]
  },
  {
   "cell_type": "code",
   "execution_count": null,
   "id": "42ddeee7",
   "metadata": {},
   "outputs": [],
   "source": [
    "fig, ax = plt.subplots(2, 2)\n",
    "\n",
    "fig.set_figwidth(10)\n",
    "fig.set_figheight(10)\n",
    "\n",
    "sns.boxplot(ax=ax[0, 0], data=rides_filtered[\"start_lat\"])\n",
    "sns.histplot(ax=ax[0, 1], data=rides_filtered, y=\"start_lat\", bins=50)\n",
    "ax[0, 1].set_ylim(41.5, 42.3)\n",
    "ax[0, 0].set_ylabel(\"Start Latitude\", size=14)\n",
    "\n",
    "sns.boxplot(ax=ax[1, 0], data=rides_filtered, x=\"start_lng\")\n",
    "sns.histplot(ax=ax[1, 1], data=rides_filtered[\"start_lng\"], bins=50)\n",
    "ax[1, 1].set_xlim(-87.9, -87.5)\n",
    "ax[1, 0].set_ylabel(\"Start Longitude\", size=14)"
   ]
  },
  {
   "cell_type": "markdown",
   "id": "d377e2c4",
   "metadata": {},
   "source": [
    "### End station coordinates <a name=\"end_coords\"></a>"
   ]
  },
  {
   "cell_type": "code",
   "execution_count": null,
   "id": "660b3f27",
   "metadata": {},
   "outputs": [],
   "source": [
    "rides_filtered[[\"end_lat\", \"end_lng\"]].agg([\"mean\", \"median\", \"std\", \"min\", \"max\"])"
   ]
  },
  {
   "cell_type": "code",
   "execution_count": null,
   "id": "47869bd4",
   "metadata": {},
   "outputs": [],
   "source": [
    "fig, ax = plt.subplots(2, 2)\n",
    "\n",
    "fig.set_figwidth(10)\n",
    "fig.set_figheight(10)\n",
    "\n",
    "sns.boxplot(ax=ax[0, 0], data=rides_filtered[\"end_lat\"])\n",
    "sns.histplot(ax=ax[0, 1], data=rides_filtered, y=\"end_lat\", bins=50)\n",
    "ax[0, 1].set_ylim(41.5, 42.3)\n",
    "ax[0, 0].set_ylabel(\"End Latitude\", size=14)\n",
    "\n",
    "sns.boxplot(ax=ax[1, 0], data=rides_filtered, x=\"end_lng\")\n",
    "sns.histplot(ax=ax[1, 1], data=rides_filtered[\"end_lng\"], bins=50)\n",
    "ax[1, 1].set_xlim(-87.9, -87.5)\n",
    "ax[1, 0].set_ylabel(\"End Longitude\", size=14)"
   ]
  },
  {
   "cell_type": "markdown",
   "id": "c3515877",
   "metadata": {},
   "source": [
    "The range for the end station coordinates is larger than that of the start station's, and there are more evident outliers, especially for the longitude. To keep things simple we can restrict the range of coordinates to be that of the start stations."
   ]
  },
  {
   "cell_type": "code",
   "execution_count": null,
   "id": "9a7eef0a",
   "metadata": {},
   "outputs": [],
   "source": [
    "min_lat = rides_filtered[\"start_lat\"].min()\n",
    "max_lat = rides_filtered[\"start_lat\"].max()\n",
    "min_lng = rides_filtered[\"start_lng\"].min()\n",
    "max_lng = rides_filtered[\"start_lng\"].max()\n",
    "\n",
    "rides_filtered = rides_filtered[\n",
    "    (rides_filtered[\"end_lat\"] >= min_lat) & (rides_filtered[\"end_lat\"] <= max_lat)\n",
    "]\n",
    "rides_filtered = rides_filtered[\n",
    "    (rides_filtered[\"end_lng\"] >= min_lng) & (rides_filtered[\"end_lng\"] <= max_lng)\n",
    "]"
   ]
  },
  {
   "cell_type": "code",
   "execution_count": null,
   "id": "38621ea3",
   "metadata": {},
   "outputs": [],
   "source": [
    "rides_filtered[[\"end_lat\", \"end_lng\"]].agg([\"mean\", \"median\", \"std\", \"min\", \"max\"])"
   ]
  },
  {
   "cell_type": "markdown",
   "id": "89976673",
   "metadata": {},
   "source": [
    "# Verification <a name=\"verification\"></a>"
   ]
  },
  {
   "cell_type": "markdown",
   "id": "9e667560",
   "metadata": {},
   "source": [
    "Now that we have a final cleaned version of the data it is a good time to verify that there are no missing values and that the number of unique values for each field and the ranges for the numeric variables make sense."
   ]
  },
  {
   "cell_type": "code",
   "execution_count": null,
   "id": "ffaf7d0c",
   "metadata": {},
   "outputs": [],
   "source": [
    "rides_filtered.isnull().sum().sum()"
   ]
  },
  {
   "cell_type": "code",
   "execution_count": null,
   "id": "2d4a1064",
   "metadata": {},
   "outputs": [],
   "source": [
    "rides_filtered.nunique()"
   ]
  },
  {
   "cell_type": "code",
   "execution_count": null,
   "id": "82bcdc63",
   "metadata": {
    "scrolled": true
   },
   "outputs": [],
   "source": [
    "rides_filtered.describe()"
   ]
  },
  {
   "cell_type": "markdown",
   "id": "a3213841",
   "metadata": {},
   "source": [
    "Now everything is filtered and a bit more consistent, although there are some instances of people biking at more than 200 km/h. This is definitely something to look at later. \n",
    "\n",
    "For now, to clear up things a bit we can delete all versions of the dataframe that wont be used anymore, and reinstate the original name."
   ]
  },
  {
   "cell_type": "code",
   "execution_count": null,
   "id": "06c2772b",
   "metadata": {},
   "outputs": [],
   "source": [
    "rides = rides_filtered.copy()\n",
    "del rides_filtered, rides_homogenized, rides_with_features, rides_clean, rides_complete"
   ]
  },
  {
   "cell_type": "markdown",
   "id": "2d9a17b1",
   "metadata": {},
   "source": [
    "And, finally, we need to save the data for analysis."
   ]
  },
  {
   "cell_type": "code",
   "execution_count": null,
   "id": "56493ca9",
   "metadata": {},
   "outputs": [],
   "source": [
    "rides.to_csv(\"../data/cleaned/rides.csv\", index=False)"
   ]
  },
  {
   "cell_type": "markdown",
   "id": "813f9826",
   "metadata": {},
   "source": [
    "In total we lost %3.900 of the data during cleaning. Not too bad. "
   ]
  },
  {
   "cell_type": "code",
   "execution_count": null,
   "id": "16c6f9da",
   "metadata": {},
   "outputs": [],
   "source": [
    "(all_data.shape[0] - rides.shape[0]) / all_data.shape[0] * 100"
   ]
  }
 ],
 "metadata": {
  "kernelspec": {
   "display_name": "Python 3 (ipykernel)",
   "language": "python",
   "name": "python3"
  },
  "language_info": {
   "codemirror_mode": {
    "name": "ipython",
    "version": 3
   },
   "file_extension": ".py",
   "mimetype": "text/x-python",
   "name": "python",
   "nbconvert_exporter": "python",
   "pygments_lexer": "ipython3",
   "version": "3.9.7"
  }
 },
 "nbformat": 4,
 "nbformat_minor": 5
}
